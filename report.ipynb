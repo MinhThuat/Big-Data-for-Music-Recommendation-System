{
 "cells": [
  {
   "cell_type": "markdown",
   "metadata": {},
   "source": [
    "# Project Report\n",
    "## Big data for Music Recommendation System\n",
    "### Thành viên:  \n",
    "- Huỳnh Minh Thuận - 22110217  \n",
    "- Trương Minh Thuật - 22110218  \n",
    "- Nguyễn Phạm Anh Trí - 22110236  \n",
    "- Nguyễn Minh Trí - 22110235  \n",
    "- Nguyễn Đình Tiến - 22110230 "
   ]
  },
  {
   "cell_type": "markdown",
   "metadata": {},
   "source": [
    "### Table of Contents\n",
    "1. [Introduction](#1.-introduction)  \n",
    "2. [Data Collection and Ingestion](#2.-data-collection-and-ingestion)  \n",
    "    2.1 [Web Scraping and API Data Fetching](#2.1-web-scraping-and-api-data-fetching)"
   ]
  },
  {
   "cell_type": "markdown",
   "metadata": {},
   "source": [
    "### 1. Introduction \n",
    "- In this day and age, music is an essential part of life, offering both entertainment and emotional connection. Our team aims to create an end-to-end date pipeline architecture that covers data collection, processing, storage, analysis, reporting, and building a recommendation system for music based on user input.\n",
    "\n",
    "- **Data sources**: The data source is initially collected from https://kworb.net/itunes/extended.html, which includes top 15000 artist names that will change daily. After that, we use Spotify API to retrieve data about artist's information, albums, tracks and track features based on the list of artist names from Kworb website.\n",
    "\n",
    "- **Tools**:\n",
    "    - **Python**: Main programming language.\n",
    "    - **Docker**: Run containers, ensuring consistent and scalable environments.\n",
    "    - **MongoDB**: Used for data storage as Database\n",
    "    - **HDFS**: A part of Hadoop architecture, used for data storage as Data Lake.\n",
    "    - **Snowflake**: Cloud-Based Data Warehouse.\n",
    "    - **PowerBI**: A tool for displaying data and providing comprehensive overview.\n",
    "    - **Airflow**: A framework that uses Python to schedule and run tasks.\n",
    "\n",
    "- **Architecture**:    \n",
    "![My Image](Architecture.png)\n",
    "- **Link**: To explore the full source code, feel free to check out our GitHub repository:  \n",
    "*https://github.com/mjngxwnj/Big-Data-for-Music-Recommendation-System*"
   ]
  },
  {
   "cell_type": "markdown",
   "metadata": {},
   "source": [
    "### 2. Data Collection and Ingestion  \n",
    "#### 2.1 Web Scraping and API Data Fetching"
   ]
  }
 ],
 "metadata": {
  "language_info": {
   "name": "python"
  }
 },
 "nbformat": 4,
 "nbformat_minor": 2
}
