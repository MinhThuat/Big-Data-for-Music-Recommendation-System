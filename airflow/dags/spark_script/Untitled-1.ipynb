{
 "cells": [
  {
   "cell_type": "code",
   "execution_count": 37,
   "metadata": {},
   "outputs": [
    {
     "name": "stdout",
     "output_type": "stream",
     "text": [
      "2 2\n",
      "point = 4\n",
      "1 4\n",
      "point = 5\n",
      "1 1\n",
      "point = 2\n",
      "2 2\n",
      "point = 4\n",
      "5 3\n",
      "point = 8\n",
      "1 1\n",
      "point = 2\n",
      "2 6\n",
      "point = 8\n",
      "4 2\n",
      "point = 6\n",
      "4 2\n",
      "point = 6\n",
      "you won\n"
     ]
    }
   ],
   "source": [
    "import random\n",
    "\n",
    "\n",
    "def rollDice():\n",
    "    \"\"\"Roll two dice and return their face values as a tuple.\"\"\"\n",
    "    x1 = random.randrange(1,7)\n",
    "    x2 = random.randrange(1,7)\n",
    "    return x1,x2\n",
    "\n",
    "def displayDice(dice):\n",
    "    print(dice[0], dice[1])\n",
    "\n",
    "def game_of_chance():\n",
    "    first = 0\n",
    "    prev = 0\n",
    "    while True:\n",
    "        dice = rollDice()\n",
    "        point = dice[0] + dice[1]\n",
    "        displayDice(dice)\n",
    "        print(f\"point = {point}\")\n",
    "        if first == 0:\n",
    "            if point in [7,11]:\n",
    "                print(\"won\")\n",
    "                return\n",
    "            elif point in [2,3,12]:\n",
    "                print(\"lose\")\n",
    "                return\n",
    "        \n",
    "        elif point == 7:\n",
    "            print(\"lose\")\n",
    "            return\n",
    "\n",
    "        elif prev == point:\n",
    "            print(\"you won\")\n",
    "            return\n",
    "        \n",
    "        first = -1\n",
    "        prev = point\n",
    "            \n",
    "game_of_chance()"
   ]
  }
 ],
 "metadata": {
  "kernelspec": {
   "display_name": "Python 3",
   "language": "python",
   "name": "python3"
  },
  "language_info": {
   "codemirror_mode": {
    "name": "ipython",
    "version": 3
   },
   "file_extension": ".py",
   "mimetype": "text/x-python",
   "name": "python",
   "nbconvert_exporter": "python",
   "pygments_lexer": "ipython3",
   "version": "3.13.0"
  }
 },
 "nbformat": 4,
 "nbformat_minor": 2
}
