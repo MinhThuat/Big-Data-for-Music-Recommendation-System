{
 "cells": [
  {
   "cell_type": "code",
   "execution_count": 1,
   "metadata": {},
   "outputs": [
    {
     "name": "stdout",
     "output_type": "stream",
     "text": [
      ":: loading settings :: url = jar:file:/opt/conda/lib/python3.11/site-packages/pyspark/jars/ivy-2.5.1.jar!/org/apache/ivy/core/settings/ivysettings.xml\n"
     ]
    },
    {
     "name": "stderr",
     "output_type": "stream",
     "text": [
      "Ivy Default Cache set to: /home/jovyan/.ivy2/cache\n",
      "The jars for the packages stored in: /home/jovyan/.ivy2/jars\n",
      "net.snowflake#spark-snowflake_2.12 added as a dependency\n",
      ":: resolving dependencies :: org.apache.spark#spark-submit-parent-51251baf-326d-439b-b4b0-8ec7a073b9e9;1.0\n",
      "\tconfs: [default]\n",
      "\tfound net.snowflake#spark-snowflake_2.12;2.12.0-spark_3.4 in central\n",
      "\tfound net.snowflake#snowflake-ingest-sdk;0.10.8 in central\n",
      "\tfound net.snowflake#snowflake-jdbc;3.13.30 in central\n",
      "downloading https://repo1.maven.org/maven2/net/snowflake/spark-snowflake_2.12/2.12.0-spark_3.4/spark-snowflake_2.12-2.12.0-spark_3.4.jar ...\n",
      "\t[SUCCESSFUL ] net.snowflake#spark-snowflake_2.12;2.12.0-spark_3.4!spark-snowflake_2.12.jar (1496ms)\n",
      "downloading https://repo1.maven.org/maven2/net/snowflake/snowflake-ingest-sdk/0.10.8/snowflake-ingest-sdk-0.10.8.jar ...\n",
      "\t[SUCCESSFUL ] net.snowflake#snowflake-ingest-sdk;0.10.8!snowflake-ingest-sdk.jar (1540ms)\n",
      "downloading https://repo1.maven.org/maven2/net/snowflake/snowflake-jdbc/3.13.30/snowflake-jdbc-3.13.30.jar ...\n",
      "\t[SUCCESSFUL ] net.snowflake#snowflake-jdbc;3.13.30!snowflake-jdbc.jar (3602ms)\n",
      ":: resolution report :: resolve 4685ms :: artifacts dl 6667ms\n",
      "\t:: modules in use:\n",
      "\tnet.snowflake#snowflake-ingest-sdk;0.10.8 from central in [default]\n",
      "\tnet.snowflake#snowflake-jdbc;3.13.30 from central in [default]\n",
      "\tnet.snowflake#spark-snowflake_2.12;2.12.0-spark_3.4 from central in [default]\n",
      "\t---------------------------------------------------------------------\n",
      "\t|                  |            modules            ||   artifacts   |\n",
      "\t|       conf       | number| search|dwnlded|evicted|| number|dwnlded|\n",
      "\t---------------------------------------------------------------------\n",
      "\t|      default     |   3   |   3   |   3   |   0   ||   3   |   3   |\n",
      "\t---------------------------------------------------------------------\n",
      ":: retrieving :: org.apache.spark#spark-submit-parent-51251baf-326d-439b-b4b0-8ec7a073b9e9\n",
      "\tconfs: [default]\n",
      "\t3 artifacts copied, 0 already retrieved (41114kB/282ms)\n",
      "24/12/07 17:31:09 WARN NativeCodeLoader: Unable to load native-hadoop library for your platform... using builtin-java classes where applicable\n",
      "Setting default log level to \"WARN\".\n",
      "To adjust logging level use sc.setLogLevel(newLevel). For SparkR, use setLogLevel(newLevel).\n",
      "24/12/07 17:31:11 WARN Utils: Service 'SparkUI' could not bind on port 4040. Attempting port 4041.\n"
     ]
    }
   ],
   "source": [
    "from pyspark.sql import SparkSession\n",
    "from pyspark import SparkConf\n",
    "conf = SparkConf()\n",
    "#set config\n",
    "conf = conf.setAppName(\"ml_sparkSession\") \\\n",
    "           .setMaster('local') \\\n",
    "           .set(\"spark.executor.memory\", \"2g\") \\\n",
    "           .set(\"spark.executor.cores\", \"2\") \\\n",
    "           .set(\"spark.sql.shuffle.partitions\", \"4\") \\\n",
    "           .set(\"spark.executor.instances\", \"2\") \\\n",
    "           .set(\"spark.jars.packages\", \"net.snowflake:spark-snowflake_2.12:2.12.0-spark_3.4\")\n",
    "\n",
    "#create Spark Session\n",
    "spark = SparkSession.builder.config(conf = conf).getOrCreate()"
   ]
  },
  {
   "cell_type": "code",
   "execution_count": 2,
   "metadata": {},
   "outputs": [
    {
     "name": "stderr",
     "output_type": "stream",
     "text": [
      "24/12/07 17:31:37 WARN package: Truncated the string representation of a plan since it was too large. This behavior can be adjusted by setting 'spark.sql.debug.maxToStringFields'.\n"
     ]
    },
    {
     "data": {
      "text/plain": [
       "DataFrame[album_id: string, artist_id: string, artist_name: string, album_name: string, genres: string, followers: int, popularity: int, link_image: string, url: string, album_type: string, total_tracks: int, release_date: date, release_date_precision: string, track_id: string, name: string, preview: string, danceability: float, energy: float, key: int, loudness: float, mode: int, speechiness: float, acousticness: float, instrumentalness: float, liveness: float, valence: float, tempo: float, time_signature: int]"
      ]
     },
     "execution_count": 2,
     "metadata": {},
     "output_type": "execute_result"
    }
   ],
   "source": [
    "#read data\n",
    "silver_artist = spark.read.parquet(\"hdfs://namenode:9000/datalake/silver_data/silver_artist\")\n",
    "silver_album = spark.read.parquet(\"hdfs://namenode:9000/datalake/silver_data/silver_album\")\n",
    "silver_track = spark.read.parquet(\"hdfs://namenode:9000/datalake/silver_data/silver_track\")\n",
    "silver_track_feature = spark.read.parquet(\"hdfs://namenode:9000/datalake/silver_data/silver_track_feature\")\n",
    "#rename columns\n",
    "silver_artist = silver_artist.withColumnRenamed('id', 'artist_id') \\\n",
    "                            .withColumnRenamed('name', 'artist_name')\n",
    "#drop unnecessary columns and rename columns \n",
    "silver_album = silver_album.drop('artist', 'label', 'popularity', 'copyrights', 'url', 'link_image') \\\n",
    "                        .withColumnRenamed('id', 'album_id') \\\n",
    "                        .withColumnRenamed('name', 'album_name') \\\n",
    "                        .withColumnRenamed('type', 'album_type')  \\\n",
    "                        .withColumnRenamed('popularity', 'album_popularity')\n",
    "#joining table and creating summary album table\n",
    "summary_album_table = silver_artist.join(silver_album, on = 'artist_id', how = 'inner')\n",
    "summary_album_table = summary_album_table.select('artist_id','artist_name','album_id','album_name',\n",
    "                        'genres','followers','popularity','link_image','url','album_type',\n",
    "                        'total_tracks','release_date','release_date_precision')\n",
    "\n",
    "#joining table and creating summary track feature table\n",
    "silver_track = silver_track.select('album_id', 'id', 'name', 'preview')\n",
    "summary_feature_table = silver_track.join(silver_track_feature, on = 'id', how = 'left')\n",
    "summary_feature_table = summary_feature_table.withColumnRenamed('id', 'track_id')\n",
    "\n",
    "summary_table = summary_album_table.join(summary_feature_table, on = 'album_id', how = 'inner')\n",
    "summary_table.cache()"
   ]
  },
  {
   "cell_type": "code",
   "execution_count": 8,
   "metadata": {},
   "outputs": [
    {
     "name": "stdout",
     "output_type": "stream",
     "text": [
      "+----------------------+----------------------+-----------+----------------------------------------+----------------+---------+----------+----------------------------------------------------------------+------------------------------------------------------+----------+------------+------------+----------------------+----------------------+--------------------------------------+-----------------------------------------------------------------------------------------------------------+------------+------+---+--------+----+-----------+------------+----------------+--------+-------+-------+--------------+\n",
      "|album_id              |artist_id             |artist_name|album_name                              |genres          |followers|popularity|link_image                                                      |url                                                   |album_type|total_tracks|release_date|release_date_precision|track_id              |name                                  |preview                                                                                                    |danceability|energy|key|loudness|mode|speechiness|acousticness|instrumentalness|liveness|valence|tempo  |time_signature|\n",
      "+----------------------+----------------------+-----------+----------------------------------------+----------------+---------+----------+----------------------------------------------------------------+------------------------------------------------------+----------+------------+------------+----------------------+----------------------+--------------------------------------+-----------------------------------------------------------------------------------------------------------+------------+------+---+--------+----+-----------+------------+----------------+--------+-------+-------+--------------+\n",
      "|000LYwpRfBAlh4aFMYLsep|1dVygo6tRFXC8CSWURQJq2|Sonu Nigam |Sonu Nigam Kannada Hits Birthday Special|modern bollywood|18221992 |77        |https://i.scdn.co/image/ab6761610000e5ebbc959d7569618ec2af2210f5|https://open.spotify.com/artist/1dVygo6tRFXC8CSWURQJq2|album     |7           |2017-07-30  |day                   |49Rok6gqXzoDQDojE89LZX|Neeli Neeli                           |https://p.scdn.co/mp3-preview/5e824e01bbf19e14a57a1ab0bc4e460d5bd6f915?cid=05e2ff0a21954615b11878a9eb038e7f|0.746       |0.677 |7  |-6.975  |0   |0.123      |0.651       |0.0             |0.124   |0.833  |91.943 |4             |\n",
      "|000LYwpRfBAlh4aFMYLsep|1dVygo6tRFXC8CSWURQJq2|Sonu Nigam |Sonu Nigam Kannada Hits Birthday Special|modern bollywood|18221992 |77        |https://i.scdn.co/image/ab6761610000e5ebbc959d7569618ec2af2210f5|https://open.spotify.com/artist/1dVygo6tRFXC8CSWURQJq2|album     |7           |2017-07-30  |day                   |7cJiDhNrCCImpIjSWOjKr5|Beladingala Raatri                    |https://p.scdn.co/mp3-preview/e04d3bb24a5722135782e6e511caac25a584f0bc?cid=05e2ff0a21954615b11878a9eb038e7f|0.528       |0.402 |7  |-6.236  |0   |0.034      |0.675       |0.0             |0.349   |0.548  |149.762|3             |\n",
      "|000LYwpRfBAlh4aFMYLsep|1dVygo6tRFXC8CSWURQJq2|Sonu Nigam |Sonu Nigam Kannada Hits Birthday Special|modern bollywood|18221992 |77        |https://i.scdn.co/image/ab6761610000e5ebbc959d7569618ec2af2210f5|https://open.spotify.com/artist/1dVygo6tRFXC8CSWURQJq2|album     |7           |2017-07-30  |day                   |436eyq4pGkP6yhfy6dC9SI|Nannavalu Nannavalu                   |https://p.scdn.co/mp3-preview/3250f4554dac772bb44292f34a9beee6243324f7?cid=05e2ff0a21954615b11878a9eb038e7f|0.686       |0.588 |5  |-11.361 |0   |0.0998     |0.458       |0.0             |0.236   |0.806  |173.879|4             |\n",
      "|000LYwpRfBAlh4aFMYLsep|1dVygo6tRFXC8CSWURQJq2|Sonu Nigam |Sonu Nigam Kannada Hits Birthday Special|modern bollywood|18221992 |77        |https://i.scdn.co/image/ab6761610000e5ebbc959d7569618ec2af2210f5|https://open.spotify.com/artist/1dVygo6tRFXC8CSWURQJq2|album     |7           |2017-07-30  |day                   |43rGRbdULW6J93E7Xn90xO|O Manase                              |https://p.scdn.co/mp3-preview/fbe03d6a6865a6ac7e5680831041c090a367df69?cid=05e2ff0a21954615b11878a9eb038e7f|0.653       |0.546 |2  |-6.986  |1   |0.0319     |0.338       |8.01E-5         |0.139   |0.434  |90.015 |4             |\n",
      "|000LYwpRfBAlh4aFMYLsep|1dVygo6tRFXC8CSWURQJq2|Sonu Nigam |Sonu Nigam Kannada Hits Birthday Special|modern bollywood|18221992 |77        |https://i.scdn.co/image/ab6761610000e5ebbc959d7569618ec2af2210f5|https://open.spotify.com/artist/1dVygo6tRFXC8CSWURQJq2|album     |7           |2017-07-30  |day                   |5DPg7CrZJ7v2ow6t2F0mxk|Thusu Preethiya                       |https://p.scdn.co/mp3-preview/e8a96cdf469ecf0659295141fbead481005911c4?cid=05e2ff0a21954615b11878a9eb038e7f|0.447       |0.651 |4  |-7.143  |1   |0.0423     |0.509       |0.00321         |0.138   |0.377  |80.217 |4             |\n",
      "|000LYwpRfBAlh4aFMYLsep|1dVygo6tRFXC8CSWURQJq2|Sonu Nigam |Sonu Nigam Kannada Hits Birthday Special|modern bollywood|18221992 |77        |https://i.scdn.co/image/ab6761610000e5ebbc959d7569618ec2af2210f5|https://open.spotify.com/artist/1dVygo6tRFXC8CSWURQJq2|album     |7           |2017-07-30  |day                   |1DAjWSRoFuJfrKlHjRYpov|Ee Thuditha                           |https://p.scdn.co/mp3-preview/dfe6ad3c99e858fe54c6065e9a42932680caf51e?cid=05e2ff0a21954615b11878a9eb038e7f|0.672       |0.948 |4  |-7.154  |0   |0.0958     |0.148       |0.0             |0.679   |0.702  |127.984|4             |\n",
      "|000LYwpRfBAlh4aFMYLsep|1dVygo6tRFXC8CSWURQJq2|Sonu Nigam |Sonu Nigam Kannada Hits Birthday Special|modern bollywood|18221992 |77        |https://i.scdn.co/image/ab6761610000e5ebbc959d7569618ec2af2210f5|https://open.spotify.com/artist/1dVygo6tRFXC8CSWURQJq2|album     |7           |2017-07-30  |day                   |7E1vG6y0dGy6bU64ZLq9hk|Ninna Nenape                          |https://p.scdn.co/mp3-preview/198ab005ee8a2e009f882e2326a16acaf8aba810?cid=05e2ff0a21954615b11878a9eb038e7f|0.649       |0.405 |0  |-8.958  |0   |0.027      |0.821       |0.00446         |0.136   |0.481  |114.128|4             |\n",
      "|000LYwpRfBAlh4aFMYLsep|1dVygo6tRFXC8CSWURQJq2|Sonu Nigam |Sonu Nigam Kannada Hits Birthday Special|filmi           |18221992 |77        |https://i.scdn.co/image/ab6761610000e5ebbc959d7569618ec2af2210f5|https://open.spotify.com/artist/1dVygo6tRFXC8CSWURQJq2|album     |7           |2017-07-30  |day                   |49Rok6gqXzoDQDojE89LZX|Neeli Neeli                           |https://p.scdn.co/mp3-preview/5e824e01bbf19e14a57a1ab0bc4e460d5bd6f915?cid=05e2ff0a21954615b11878a9eb038e7f|0.746       |0.677 |7  |-6.975  |0   |0.123      |0.651       |0.0             |0.124   |0.833  |91.943 |4             |\n",
      "|000LYwpRfBAlh4aFMYLsep|1dVygo6tRFXC8CSWURQJq2|Sonu Nigam |Sonu Nigam Kannada Hits Birthday Special|filmi           |18221992 |77        |https://i.scdn.co/image/ab6761610000e5ebbc959d7569618ec2af2210f5|https://open.spotify.com/artist/1dVygo6tRFXC8CSWURQJq2|album     |7           |2017-07-30  |day                   |7cJiDhNrCCImpIjSWOjKr5|Beladingala Raatri                    |https://p.scdn.co/mp3-preview/e04d3bb24a5722135782e6e511caac25a584f0bc?cid=05e2ff0a21954615b11878a9eb038e7f|0.528       |0.402 |7  |-6.236  |0   |0.034      |0.675       |0.0             |0.349   |0.548  |149.762|3             |\n",
      "|000LYwpRfBAlh4aFMYLsep|1dVygo6tRFXC8CSWURQJq2|Sonu Nigam |Sonu Nigam Kannada Hits Birthday Special|filmi           |18221992 |77        |https://i.scdn.co/image/ab6761610000e5ebbc959d7569618ec2af2210f5|https://open.spotify.com/artist/1dVygo6tRFXC8CSWURQJq2|album     |7           |2017-07-30  |day                   |436eyq4pGkP6yhfy6dC9SI|Nannavalu Nannavalu                   |https://p.scdn.co/mp3-preview/3250f4554dac772bb44292f34a9beee6243324f7?cid=05e2ff0a21954615b11878a9eb038e7f|0.686       |0.588 |5  |-11.361 |0   |0.0998     |0.458       |0.0             |0.236   |0.806  |173.879|4             |\n",
      "|000LYwpRfBAlh4aFMYLsep|1dVygo6tRFXC8CSWURQJq2|Sonu Nigam |Sonu Nigam Kannada Hits Birthday Special|filmi           |18221992 |77        |https://i.scdn.co/image/ab6761610000e5ebbc959d7569618ec2af2210f5|https://open.spotify.com/artist/1dVygo6tRFXC8CSWURQJq2|album     |7           |2017-07-30  |day                   |43rGRbdULW6J93E7Xn90xO|O Manase                              |https://p.scdn.co/mp3-preview/fbe03d6a6865a6ac7e5680831041c090a367df69?cid=05e2ff0a21954615b11878a9eb038e7f|0.653       |0.546 |2  |-6.986  |1   |0.0319     |0.338       |8.01E-5         |0.139   |0.434  |90.015 |4             |\n",
      "|000LYwpRfBAlh4aFMYLsep|1dVygo6tRFXC8CSWURQJq2|Sonu Nigam |Sonu Nigam Kannada Hits Birthday Special|filmi           |18221992 |77        |https://i.scdn.co/image/ab6761610000e5ebbc959d7569618ec2af2210f5|https://open.spotify.com/artist/1dVygo6tRFXC8CSWURQJq2|album     |7           |2017-07-30  |day                   |5DPg7CrZJ7v2ow6t2F0mxk|Thusu Preethiya                       |https://p.scdn.co/mp3-preview/e8a96cdf469ecf0659295141fbead481005911c4?cid=05e2ff0a21954615b11878a9eb038e7f|0.447       |0.651 |4  |-7.143  |1   |0.0423     |0.509       |0.00321         |0.138   |0.377  |80.217 |4             |\n",
      "|000LYwpRfBAlh4aFMYLsep|1dVygo6tRFXC8CSWURQJq2|Sonu Nigam |Sonu Nigam Kannada Hits Birthday Special|filmi           |18221992 |77        |https://i.scdn.co/image/ab6761610000e5ebbc959d7569618ec2af2210f5|https://open.spotify.com/artist/1dVygo6tRFXC8CSWURQJq2|album     |7           |2017-07-30  |day                   |1DAjWSRoFuJfrKlHjRYpov|Ee Thuditha                           |https://p.scdn.co/mp3-preview/dfe6ad3c99e858fe54c6065e9a42932680caf51e?cid=05e2ff0a21954615b11878a9eb038e7f|0.672       |0.948 |4  |-7.154  |0   |0.0958     |0.148       |0.0             |0.679   |0.702  |127.984|4             |\n",
      "|000LYwpRfBAlh4aFMYLsep|1dVygo6tRFXC8CSWURQJq2|Sonu Nigam |Sonu Nigam Kannada Hits Birthday Special|filmi           |18221992 |77        |https://i.scdn.co/image/ab6761610000e5ebbc959d7569618ec2af2210f5|https://open.spotify.com/artist/1dVygo6tRFXC8CSWURQJq2|album     |7           |2017-07-30  |day                   |7E1vG6y0dGy6bU64ZLq9hk|Ninna Nenape                          |https://p.scdn.co/mp3-preview/198ab005ee8a2e009f882e2326a16acaf8aba810?cid=05e2ff0a21954615b11878a9eb038e7f|0.649       |0.405 |0  |-8.958  |0   |0.027      |0.821       |0.00446         |0.136   |0.481  |114.128|4             |\n",
      "|000fJX0XXUpWDpgitRo3F3|4sf4DrAOkheqktxTyKm7tO|AmaLee     |Unity                                   |otacore         |507318   |59        |https://i.scdn.co/image/ab6761610000e5eb57b5e5d0748723c44fd9aa36|https://open.spotify.com/artist/4sf4DrAOkheqktxTyKm7tO|album     |12          |2020-08-05  |day                   |4nFcTybnh5zmRNoFM0Mnqj|Database (From “Log Horizon”)         |https://p.scdn.co/mp3-preview/e0a104e212c0bc735d0f58407eafb8b81868c103?cid=d636b62692f94f7ab8495b4d490e26cc|0.481       |0.98  |6  |-3.369  |1   |0.189      |3.35E-4     |0.0             |0.343   |0.554  |177.013|4             |\n",
      "|000fJX0XXUpWDpgitRo3F3|4sf4DrAOkheqktxTyKm7tO|AmaLee     |Unity                                   |otacore         |507318   |59        |https://i.scdn.co/image/ab6761610000e5eb57b5e5d0748723c44fd9aa36|https://open.spotify.com/artist/4sf4DrAOkheqktxTyKm7tO|album     |12          |2020-08-05  |day                   |6KdDQ8lbgQUUhzB8Bc6SxU|Orange (From “Your Lie in April”)     |https://p.scdn.co/mp3-preview/602ad8ff8b1efd4814231597589fd27a7cb32036?cid=d636b62692f94f7ab8495b4d490e26cc|0.405       |0.254 |6  |-10.093 |1   |0.0433     |0.907       |0.0             |0.1     |0.245  |83.43  |4             |\n",
      "|000fJX0XXUpWDpgitRo3F3|4sf4DrAOkheqktxTyKm7tO|AmaLee     |Unity                                   |otacore         |507318   |59        |https://i.scdn.co/image/ab6761610000e5eb57b5e5d0748723c44fd9aa36|https://open.spotify.com/artist/4sf4DrAOkheqktxTyKm7tO|album     |12          |2020-08-05  |day                   |4w5qVlvioWz1mfhlanj3Bj|Fallen Angel (From “Panty & Stocking”)|https://p.scdn.co/mp3-preview/bbff4517c3773e6b805f3fde393a9294375c6944?cid=d636b62692f94f7ab8495b4d490e26cc|0.611       |0.931 |10 |-3.071  |0   |0.0381     |0.033       |1.03E-5         |0.15    |0.872  |94.972 |4             |\n",
      "|000fJX0XXUpWDpgitRo3F3|4sf4DrAOkheqktxTyKm7tO|AmaLee     |Unity                                   |otacore         |507318   |59        |https://i.scdn.co/image/ab6761610000e5eb57b5e5d0748723c44fd9aa36|https://open.spotify.com/artist/4sf4DrAOkheqktxTyKm7tO|album     |12          |2020-08-05  |day                   |59dUsq3cezMd1OXdP0JXAl|Enamel (From “Black Butler”)          |https://p.scdn.co/mp3-preview/305c5e0745553d672645a0092772e2879cc44a12?cid=d636b62692f94f7ab8495b4d490e26cc|0.543       |0.942 |5  |-4.626  |0   |0.0473     |3.63E-4     |8.16E-5         |0.331   |0.442  |112.03 |4             |\n",
      "|000fJX0XXUpWDpgitRo3F3|4sf4DrAOkheqktxTyKm7tO|AmaLee     |Unity                                   |otacore         |507318   |59        |https://i.scdn.co/image/ab6761610000e5eb57b5e5d0748723c44fd9aa36|https://open.spotify.com/artist/4sf4DrAOkheqktxTyKm7tO|album     |12          |2020-08-05  |day                   |5CXCoK5wi0qBD0WQA0yn7n|Don’t Say Lazy (From “K-On!”)         |https://p.scdn.co/mp3-preview/b5905d5ae0b37389b499ba16fb0959ea1e5bd0f8?cid=d636b62692f94f7ab8495b4d490e26cc|0.462       |0.926 |9  |-3.669  |1   |0.0733     |0.00297     |0.0             |0.611   |0.637  |180.929|4             |\n",
      "|000fJX0XXUpWDpgitRo3F3|4sf4DrAOkheqktxTyKm7tO|AmaLee     |Unity                                   |otacore         |507318   |59        |https://i.scdn.co/image/ab6761610000e5eb57b5e5d0748723c44fd9aa36|https://open.spotify.com/artist/4sf4DrAOkheqktxTyKm7tO|album     |12          |2020-08-05  |day                   |1tlSLQaAq9rrzi6lXzdFF4|Clattanoia (From “Overlord”)          |https://p.scdn.co/mp3-preview/8ef767c04bd205265436d0dffba5469671769a3a?cid=d636b62692f94f7ab8495b4d490e26cc|0.514       |0.974 |5  |-3.94   |0   |0.181      |0.00108     |2.61E-5         |0.334   |0.447  |94.974 |4             |\n",
      "+----------------------+----------------------+-----------+----------------------------------------+----------------+---------+----------+----------------------------------------------------------------+------------------------------------------------------+----------+------------+------------+----------------------+----------------------+--------------------------------------+-----------------------------------------------------------------------------------------------------------+------------+------+---+--------+----+-----------+------------+----------------+--------+-------+-------+--------------+\n",
      "only showing top 20 rows\n",
      "\n"
     ]
    }
   ],
   "source": [
    "# summary_album_table.show()\n",
    "# summary_feature_table.show()\n",
    "summary_table.show(truncate= False)"
   ]
  },
  {
   "cell_type": "code",
   "execution_count": 3,
   "metadata": {},
   "outputs": [
    {
     "name": "stdout",
     "output_type": "stream",
     "text": [
      "['album_id', 'artist_id', 'artist_name', 'album_name', 'genres', 'followers', 'popularity', 'link_image', 'url', 'album_type', 'total_tracks', 'release_date', 'release_date_precision', 'track_id', 'album_name', 'name', 'preview', 'danceability', 'energy', 'key', 'loudness', 'mode', 'speechiness', 'acousticness', 'instrumentalness', 'liveness', 'valence', 'tempo', 'time_signature']\n"
     ]
    }
   ],
   "source": [
    "print(summary_table.columns)"
   ]
  },
  {
   "cell_type": "markdown",
   "metadata": {},
   "source": [
    "We initially drop the unwanted columns from dataFrame"
   ]
  },
  {
   "cell_type": "code",
   "execution_count": 4,
   "metadata": {},
   "outputs": [],
   "source": [
    "summary_table = summary_table.drop('album_name', 'album_type', 'release_date_precision', 'time_signature')"
   ]
  },
  {
   "cell_type": "markdown",
   "metadata": {},
   "source": [
    "2.303.371 size of summary table"
   ]
  },
  {
   "cell_type": "markdown",
   "metadata": {},
   "source": [
    "### Exploratory Data Analysis (EDA)"
   ]
  },
  {
   "cell_type": "markdown",
   "metadata": {},
   "source": [
    "- Check artist having most followers on the world"
   ]
  },
  {
   "cell_type": "code",
   "execution_count": 5,
   "metadata": {},
   "outputs": [
    {
     "name": "stderr",
     "output_type": "stream",
     "text": [
      "                                                                                \r"
     ]
    },
    {
     "name": "stdout",
     "output_type": "stream",
     "text": [
      "123616624\n"
     ]
    }
   ],
   "source": [
    "from pyspark.sql.functions import max\n",
    "\n",
    "# Find the artist having most followers \n",
    "max_fl = summary_table.agg(max(\"followers\").alias(\"max_fl\")).collect()[0][\"max_fl\"]\n",
    "\n",
    "print(max_fl)"
   ]
  },
  {
   "cell_type": "code",
   "execution_count": 6,
   "metadata": {},
   "outputs": [
    {
     "name": "stdout",
     "output_type": "stream",
     "text": [
      "+------------+\n",
      "|artist_name |\n",
      "+------------+\n",
      "|Arijit Singh|\n",
      "+------------+\n",
      "\n"
     ]
    },
    {
     "name": "stderr",
     "output_type": "stream",
     "text": [
      "[Stage 37:>                                                         (0 + 1) / 1]\r"
     ]
    },
    {
     "name": "stdout",
     "output_type": "stream",
     "text": [
      "Best Playlist:\n",
      " ['Arijit Singh']\n"
     ]
    },
    {
     "name": "stderr",
     "output_type": "stream",
     "text": [
      "                                                                                \r"
     ]
    }
   ],
   "source": [
    "from pyspark.sql.functions import col\n",
    "best_playlist = summary_table.filter(col(\"followers\") == max_fl).select(\"artist_name\").distinct()\n",
    "\n",
    "best_playlist.show(truncate= False)\n",
    "\n",
    "best_playlist_list = best_playlist.rdd.flatMap(lambda x: x).collect()\n",
    "print(\"Best Playlist:\\n\", best_playlist_list)"
   ]
  },
  {
   "cell_type": "markdown",
   "metadata": {},
   "source": [
    "- Check which artists are featured most across all playlist for top 10 artists"
   ]
  },
  {
   "cell_type": "code",
   "execution_count": 7,
   "metadata": {},
   "outputs": [
    {
     "name": "stderr",
     "output_type": "stream",
     "text": [
      "/tmp/ipykernel_184/2540731308.py:18: FutureWarning:                             \n",
      "\n",
      "Passing `palette` without assigning `hue` is deprecated and will be removed in v0.14.0. Assign the `y` variable to `hue` and set `legend=False` for the same effect.\n",
      "\n",
      "  ax = sns.barplot(y = names, x = values, palette= 'pastel')\n"
     ]
    },
    {
     "data": {
      "text/plain": [
       "Text(0.5, 0, 'Total songs across playlists')"
      ]
     },
     "execution_count": 7,
     "metadata": {},
     "output_type": "execute_result"
    },
    {
     "data": {
      "image/png": "[encoded data removed]",
      "text/plain": [
       "<Figure size 640x480 with 1 Axes>"
      ]
     },
     "metadata": {},
     "output_type": "display_data"
    }
   ],
   "source": [
    "import seaborn as sns\n",
    "import matplotlib.pyplot as plt \n",
    "\n",
    "# Step 1: Group by artist_name and count the apparence\n",
    "artist_counts = summary_table.groupBy(\"artist_name\").count()\n",
    "\n",
    "# Step 2: Sort descending by the apparence\n",
    "sorted_artist_counts = artist_counts.orderBy(\"count\", ascending = False)\n",
    "\n",
    "# Step 3: Convert to pandas to plot data\n",
    "artist_counts_pd = sorted_artist_counts.limit(10).toPandas()\n",
    "\n",
    "# Step 4: Take the values and name of artists\n",
    "values = artist_counts_pd['count'].tolist()\n",
    "names = artist_counts_pd['artist_name'].tolist()\n",
    "\n",
    "# Step 5: Plot data with seaborn\n",
    "ax = sns.barplot(y = names, x = values, palette= 'pastel')\n",
    "ax.set_title('Artists with most featured songs across all playlists')\n",
    "ax.set_xlabel('Total songs across playlists')"
   ]
  },
  {
   "cell_type": "markdown",
   "metadata": {},
   "source": [
    "- Top 10 artists and music genres are most popular in the world"
   ]
  },
  {
   "cell_type": "code",
   "execution_count": 8,
   "metadata": {},
   "outputs": [
    {
     "name": "stderr",
     "output_type": "stream",
     "text": [
      "[Stage 53:===========================================>              (3 + 1) / 4]\r"
     ]
    },
    {
     "name": "stdout",
     "output_type": "stream",
     "text": [
      "+-------------+------------+\n",
      "|artist_name  |followers   |\n",
      "+-------------+------------+\n",
      "|Arijit Singh |1.23616624E8|\n",
      "|Taylor Swift |1.22781005E8|\n",
      "|Ed Sheeran   |1.16283003E8|\n",
      "|Billie Eilish|1.00208733E8|\n",
      "|Ariana Grande|1.00144929E8|\n",
      "|Drake        |9.2294533E7 |\n",
      "|The Weeknd   |9.2004576E7 |\n",
      "|Eminem       |9.0916937E7 |\n",
      "|Bad Bunny    |8.600057E7  |\n",
      "|Justin Bieber|7.7680104E7 |\n",
      "+-------------+------------+\n",
      "\n"
     ]
    },
    {
     "name": "stderr",
     "output_type": "stream",
     "text": [
      "                                                                                \r"
     ]
    }
   ],
   "source": [
    "from pyspark.sql import functions as F\n",
    "\n",
    "# Group by artist_name and calculate mean of followers \n",
    "artist_fl = summary_table.groupBy('artist_name').agg(F.mean('followers').alias('followers'))\n",
    "\n",
    "# Sort by followers in descending order\n",
    "sorted_artist_fl = artist_fl.orderBy('followers', ascending = False).limit(10)\n",
    "\n",
    "sorted_artist_fl.show(truncate = False)"
   ]
  },
  {
   "cell_type": "code",
   "execution_count": 9,
   "metadata": {},
   "outputs": [
    {
     "name": "stdout",
     "output_type": "stream",
     "text": [
      "+----------------------+-----------------+\n",
      "|genres                |avg_popularity   |\n",
      "+----------------------+-----------------+\n",
      "|el paso indie         |85.0             |\n",
      "|ambient pop           |85.0             |\n",
      "|big room              |83.73907766990291|\n",
      "|r&drill               |83.0             |\n",
      "|south carolina hip hop|83.0             |\n",
      "|musica tocantinense   |82.83552631578948|\n",
      "|pittsburgh rap        |82.502722323049  |\n",
      "|dutch edm             |82.25934579439253|\n",
      "|nashville hip hop     |82.0             |\n",
      "|barbadian pop         |81.34782608695652|\n",
      "+----------------------+-----------------+\n",
      "\n"
     ]
    }
   ],
   "source": [
    "# Group by genres and calculate mean of popularity\n",
    "popular_genres = summary_table.groupBy('genres').agg(F.mean('popularity').alias('avg_popularity'))\n",
    "\n",
    "# Sort by popularity in descending order\n",
    "sorted_popular_genres = popular_genres.orderBy('avg_popularity', ascending = False).limit(10)\n",
    "\n",
    "sorted_popular_genres.show(truncate = False)"
   ]
  },
  {
   "cell_type": "markdown",
   "metadata": {},
   "source": [
    "### Data Preprocessing"
   ]
  },
  {
   "cell_type": "markdown",
   "metadata": {},
   "source": [
    "1. Check null values in each columns"
   ]
  },
  {
   "cell_type": "code",
   "execution_count": 11,
   "metadata": {},
   "outputs": [],
   "source": [
    "from pyspark.sql import functions as F\n",
    "# Function to check null values in each columns\n",
    "\n",
    "def count_nulls(df):\n",
    "    # Calculate null values in each columns\n",
    "    null_counts = df.select([F.sum(F.col(c).isNull().cast(\"int\")).alias(c) for c in df.columns])\n",
    "    \n",
    "    # Show results\n",
    "    null_counts.show()"
   ]
  },
  {
   "cell_type": "code",
   "execution_count": 13,
   "metadata": {},
   "outputs": [
    {
     "name": "stderr",
     "output_type": "stream",
     "text": [
      "24/12/07 16:25:26 INFO CodeGenerator: Code generated in 76.368119 ms\n",
      "24/12/07 16:25:26 INFO DAGScheduler: Registering RDD 110 (showString at NativeMethodAccessorImpl.java:0) as input to shuffle 8\n",
      "24/12/07 16:25:26 INFO DAGScheduler: Got map stage job 18 (showString at NativeMethodAccessorImpl.java:0) with 4 output partitions\n",
      "24/12/07 16:25:26 INFO DAGScheduler: Final stage: ShuffleMapStage 38 (showString at NativeMethodAccessorImpl.java:0)\n",
      "24/12/07 16:25:26 INFO DAGScheduler: Parents of final stage: List(ShuffleMapStage 37, ShuffleMapStage 36)\n",
      "24/12/07 16:25:26 INFO DAGScheduler: Missing parents: List()\n",
      "24/12/07 16:25:26 INFO DAGScheduler: Submitting ShuffleMapStage 38 (MapPartitionsRDD[110] at showString at NativeMethodAccessorImpl.java:0), which has no missing parents\n",
      "24/12/07 16:25:26 INFO MemoryStore: Block broadcast_36 stored as values in memory (estimated size 119.3 KiB, free 247.5 MiB)\n",
      "24/12/07 16:25:26 INFO MemoryStore: Block broadcast_36_piece0 stored as bytes in memory (estimated size 41.6 KiB, free 247.5 MiB)\n",
      "24/12/07 16:25:26 INFO BlockManagerInfo: Added broadcast_36_piece0 in memory on c110709c2f0f:43421 (size: 41.6 KiB, free: 283.3 MiB)\n",
      "24/12/07 16:25:26 INFO SparkContext: Created broadcast 36 from broadcast at DAGScheduler.scala:1540\n",
      "24/12/07 16:25:26 INFO DAGScheduler: Submitting 4 missing tasks from ShuffleMapStage 38 (MapPartitionsRDD[110] at showString at NativeMethodAccessorImpl.java:0) (first 15 tasks are for partitions Vector(0, 1, 2, 3))\n",
      "24/12/07 16:25:26 INFO TaskSchedulerImpl: Adding task set 38.0 with 4 tasks resource profile 0\n",
      "24/12/07 16:25:26 INFO TaskSetManager: Starting task 0.0 in stage 38.0 (TID 34) (c110709c2f0f, executor driver, partition 0, PROCESS_LOCAL, 7634 bytes) \n",
      "24/12/07 16:25:26 INFO Executor: Running task 0.0 in stage 38.0 (TID 34)\n",
      "24/12/07 16:25:26 INFO BlockManager: Found block rdd_95_0 locally\n",
      "24/12/07 16:25:26 INFO CodeGenerator: Code generated in 32.986007 ms\n",
      "24/12/07 16:25:26 INFO BlockManagerInfo: Removed broadcast_34_piece0 on c110709c2f0f:43421 in memory (size: 33.4 KiB, free: 283.3 MiB)\n",
      "24/12/07 16:25:28 INFO Executor: Finished task 0.0 in stage 38.0 (TID 34). 11284 bytes result sent to driver\n",
      "24/12/07 16:25:28 INFO TaskSetManager: Starting task 1.0 in stage 38.0 (TID 35) (c110709c2f0f, executor driver, partition 1, NODE_LOCAL, 7634 bytes) \n",
      "24/12/07 16:25:28 INFO TaskSetManager: Finished task 0.0 in stage 38.0 (TID 34) in 1861 ms on c110709c2f0f (executor driver) (1/4)\n",
      "24/12/07 16:25:28 INFO Executor: Running task 1.0 in stage 38.0 (TID 35)\n",
      "24/12/07 16:25:28 INFO ShuffleBlockFetcherIterator: Getting 1 (4.8 MiB) non-empty blocks including 1 (4.8 MiB) local and 0 (0.0 B) host-local and 0 (0.0 B) push-merged-local and 0 (0.0 B) remote blocks\n",
      "24/12/07 16:25:28 INFO ShuffleBlockFetcherIterator: Started 0 remote fetches in 1 ms\n",
      "24/12/07 16:25:28 INFO ShuffleBlockFetcherIterator: Getting 4 (49.1 MiB) non-empty blocks including 4 (49.1 MiB) local and 0 (0.0 B) host-local and 0 (0.0 B) push-merged-local and 0 (0.0 B) remote blocks\n",
      "24/12/07 16:25:28 INFO ShuffleBlockFetcherIterator: Started 0 remote fetches in 1 ms\n",
      "24/12/07 16:25:44 INFO MemoryStore: Block rdd_95_1 stored as values in memory (estimated size 71.6 MiB, free 176.0 MiB)\n",
      "24/12/07 16:25:44 INFO BlockManagerInfo: Added rdd_95_1 in memory on c110709c2f0f:43421 (size: 71.6 MiB, free: 211.7 MiB)\n",
      "24/12/07 16:25:45 INFO Executor: Finished task 1.0 in stage 38.0 (TID 35). 11929 bytes result sent to driver\n",
      "24/12/07 16:25:45 INFO TaskSetManager: Starting task 2.0 in stage 38.0 (TID 36) (c110709c2f0f, executor driver, partition 2, NODE_LOCAL, 7634 bytes) \n",
      "24/12/07 16:25:45 INFO TaskSetManager: Finished task 1.0 in stage 38.0 (TID 35) in 17242 ms on c110709c2f0f (executor driver) (2/4)\n",
      "24/12/07 16:25:45 INFO Executor: Running task 2.0 in stage 38.0 (TID 36)\n",
      "24/12/07 16:25:45 INFO ShuffleBlockFetcherIterator: Getting 1 (4.8 MiB) non-empty blocks including 1 (4.8 MiB) local and 0 (0.0 B) host-local and 0 (0.0 B) push-merged-local and 0 (0.0 B) remote blocks\n",
      "24/12/07 16:25:45 INFO ShuffleBlockFetcherIterator: Started 0 remote fetches in 8 ms\n",
      "24/12/07 16:25:45 INFO ShuffleBlockFetcherIterator: Getting 4 (50.2 MiB) non-empty blocks including 4 (50.2 MiB) local and 0 (0.0 B) host-local and 0 (0.0 B) push-merged-local and 0 (0.0 B) remote blocks\n",
      "24/12/07 16:25:45 INFO ShuffleBlockFetcherIterator: Started 0 remote fetches in 1 ms\n",
      "24/12/07 16:25:53 INFO MemoryStore: 4 blocks selected for dropping (19.5 MiB bytes)\n",
      "24/12/07 16:25:53 INFO BlockManager: Dropping block broadcast_4_piece0 from memory\n",
      "24/12/07 16:25:53 INFO BlockManager: Writing block broadcast_4_piece0 to disk\n",
      "24/12/07 16:25:53 INFO BlockManagerInfo: Updated broadcast_4_piece0 on disk on c110709c2f0f:43421 (current size: 35.4 KiB, original size: 0.0 B)\n",
      "24/12/07 16:25:53 INFO BlockManager: Dropping block broadcast_4 from memory\n",
      "24/12/07 16:25:53 INFO BlockManager: Writing block broadcast_4 to disk\n",
      "24/12/07 16:25:53 INFO BlockManager: Dropping block broadcast_6_piece0 from memory\n",
      "24/12/07 16:25:53 INFO BlockManager: Writing block broadcast_6_piece0 to disk\n",
      "24/12/07 16:25:54 INFO BlockManagerInfo: Updated broadcast_6_piece0 on disk on c110709c2f0f:43421 (current size: 2.3 MiB, original size: 0.0 B)\n",
      "24/12/07 16:25:54 INFO BlockManager: Dropping block broadcast_6 from memory\n",
      "24/12/07 16:25:54 INFO BlockManager: Writing block broadcast_6 to disk\n",
      "24/12/07 16:25:54 INFO MemoryStore: After dropping 4 blocks, free memory is 57.6 MiB\n",
      "24/12/07 16:25:59 INFO MemoryStore: 7 blocks selected for dropping (74.0 MiB bytes)\n",
      "24/12/07 16:25:59 INFO BlockManager: Dropping block broadcast_7_piece0 from memory\n",
      "24/12/07 16:25:59 INFO BlockManager: Writing block broadcast_7_piece0 to disk\n",
      "24/12/07 16:25:59 INFO BlockManagerInfo: Updated broadcast_7_piece0 on disk on c110709c2f0f:43421 (current size: 35.4 KiB, original size: 0.0 B)\n",
      "24/12/07 16:25:59 INFO BlockManager: Dropping block broadcast_8_piece0 from memory\n",
      "24/12/07 16:25:59 INFO BlockManager: Writing block broadcast_8_piece0 to disk\n",
      "24/12/07 16:25:59 INFO BlockManagerInfo: Updated broadcast_8_piece0 on disk on c110709c2f0f:43421 (current size: 35.3 KiB, original size: 0.0 B)\n",
      "24/12/07 16:25:59 INFO BlockManager: Dropping block broadcast_9_piece0 from memory\n",
      "24/12/07 16:25:59 INFO BlockManager: Writing block broadcast_9_piece0 to disk\n",
      "24/12/07 16:25:59 INFO BlockManagerInfo: Updated broadcast_9_piece0 on disk on c110709c2f0f:43421 (current size: 35.7 KiB, original size: 0.0 B)\n",
      "24/12/07 16:25:59 INFO BlockManager: Dropping block broadcast_8 from memory\n",
      "24/12/07 16:25:59 INFO BlockManager: Writing block broadcast_8 to disk\n",
      "24/12/07 16:25:59 INFO BlockManager: Dropping block broadcast_9 from memory\n",
      "24/12/07 16:25:59 INFO BlockManager: Writing block broadcast_9 to disk\n",
      "24/12/07 16:25:59 INFO BlockManager: Dropping block broadcast_7 from memory\n",
      "24/12/07 16:25:59 INFO BlockManager: Writing block broadcast_7 to disk\n",
      "24/12/07 16:25:59 INFO BlockManager: Dropping block rdd_38_0 from memory\n",
      "24/12/07 16:25:59 INFO BlockManager: Writing block rdd_38_0 to disk\n",
      "24/12/07 16:26:01 INFO BlockManagerInfo: Updated rdd_38_0 on disk on c110709c2f0f:43421 (current size: 39.9 MiB, original size: 0.0 B)\n",
      "24/12/07 16:26:01 INFO MemoryStore: After dropping 7 blocks, free memory is 131.6 MiB\n",
      "24/12/07 16:26:03 INFO MemoryStore: Block rdd_95_2 stored as values in memory (estimated size 72.8 MiB, free 196.8 MiB)\n",
      "24/12/07 16:26:03 INFO BlockManagerInfo: Added rdd_95_2 in memory on c110709c2f0f:43421 (size: 72.8 MiB, free: 214.7 MiB)\n",
      "24/12/07 16:26:04 INFO Executor: Finished task 2.0 in stage 38.0 (TID 36). 11972 bytes result sent to driver\n",
      "24/12/07 16:26:04 INFO TaskSetManager: Starting task 3.0 in stage 38.0 (TID 37) (c110709c2f0f, executor driver, partition 3, NODE_LOCAL, 7634 bytes) \n",
      "24/12/07 16:26:04 INFO TaskSetManager: Finished task 2.0 in stage 38.0 (TID 36) in 18758 ms on c110709c2f0f (executor driver) (3/4)\n",
      "24/12/07 16:26:04 INFO Executor: Running task 3.0 in stage 38.0 (TID 37)\n",
      "24/12/07 16:26:04 INFO ShuffleBlockFetcherIterator: Getting 1 (4.8 MiB) non-empty blocks including 1 (4.8 MiB) local and 0 (0.0 B) host-local and 0 (0.0 B) push-merged-local and 0 (0.0 B) remote blocks\n",
      "24/12/07 16:26:04 INFO ShuffleBlockFetcherIterator: Started 0 remote fetches in 0 ms\n",
      "24/12/07 16:26:04 INFO ShuffleBlockFetcherIterator: Getting 4 (50.2 MiB) non-empty blocks including 4 (50.2 MiB) local and 0 (0.0 B) host-local and 0 (0.0 B) push-merged-local and 0 (0.0 B) remote blocks\n",
      "24/12/07 16:26:04 INFO ShuffleBlockFetcherIterator: Started 0 remote fetches in 0 ms\n",
      "24/12/07 16:26:13 INFO MemoryStore: Will not store rdd_95_3         (3 + 1) / 4]\n",
      "24/12/07 16:26:13 WARN MemoryStore: Not enough space to cache rdd_95_3 in memory! (computed 62.3 MiB so far)\n",
      "24/12/07 16:26:13 INFO MemoryStore: Memory use = 237.6 MiB (blocks) + 47.6 MiB (scratch space shared across 1 tasks(s)) = 285.2 MiB. Storage limit = 296.4 MiB.\n",
      "24/12/07 16:26:13 WARN BlockManager: Persisting block rdd_95_3 to disk instead.\n",
      "24/12/07 16:26:15 INFO BlockManagerInfo: Added rdd_95_3 on disk on c110709c2f0f:43421 (size: 39.3 MiB)\n",
      "24/12/07 16:26:16 INFO MemoryStore: Block rdd_95_3 stored as values in memory (estimated size 72.8 MiB, free 124.0 MiB)\n",
      "24/12/07 16:26:17 INFO Executor: Finished task 3.0 in stage 38.0 (TID 37). 11972 bytes result sent to driver\n",
      "24/12/07 16:26:17 INFO TaskSetManager: Finished task 3.0 in stage 38.0 (TID 37) in 12838 ms on c110709c2f0f (executor driver) (4/4)\n",
      "24/12/07 16:26:17 INFO TaskSchedulerImpl: Removed TaskSet 38.0, whose tasks have all completed, from pool \n",
      "24/12/07 16:26:17 INFO DAGScheduler: ShuffleMapStage 38 (showString at NativeMethodAccessorImpl.java:0) finished in 50.725 s\n",
      "24/12/07 16:26:17 INFO DAGScheduler: looking for newly runnable stages\n",
      "24/12/07 16:26:17 INFO DAGScheduler: running: Set()\n",
      "24/12/07 16:26:17 INFO DAGScheduler: waiting: Set()\n",
      "24/12/07 16:26:17 INFO DAGScheduler: failed: Set()\n"
     ]
    },
    {
     "name": "stdout",
     "output_type": "stream",
     "text": [
      "+--------+---------+-----------+----------+------+---------+----------+----------+---+----------+------------+------------+----------------------+--------+----+-------+------------+------+------+--------+------+-----------+------------+----------------+--------+-------+------+--------------+\n",
      "|album_id|artist_id|artist_name|album_name|genres|followers|popularity|link_image|url|album_type|total_tracks|release_date|release_date_precision|track_id|name|preview|danceability|energy|   key|loudness|  mode|speechiness|acousticness|instrumentalness|liveness|valence| tempo|time_signature|\n",
      "+--------+---------+-----------+----------+------+---------+----------+----------+---+----------+------------+------------+----------------------+--------+----+-------+------------+------+------+--------+------+-----------+------------+----------------+--------+-------+------+--------------+\n",
      "|       0|        0|          0|         0| 87156|        0|         0|         0|  0|         0|           0|      587377|                     0|       0|  52| 992106|      534770|534770|534770|  534770|534770|     534770|      534770|          534770|  534770| 534770|534770|        534770|\n",
      "+--------+---------+-----------+----------+------+---------+----------+----------+---+----------+------------+------------+----------------------+--------+----+-------+------------+------+------+--------+------+-----------+------------+----------------+--------+-------+------+--------------+\n",
      "\n",
      "None\n"
     ]
    },
    {
     "name": "stderr",
     "output_type": "stream",
     "text": [
      "24/12/07 16:26:18 INFO CodeGenerator: Code generated in 712.651985 ms\n",
      "24/12/07 16:26:18 INFO SparkContext: Starting job: showString at NativeMethodAccessorImpl.java:0\n",
      "24/12/07 16:26:18 INFO DAGScheduler: Got job 19 (showString at NativeMethodAccessorImpl.java:0) with 1 output partitions\n",
      "24/12/07 16:26:18 INFO DAGScheduler: Final stage: ResultStage 44 (showString at NativeMethodAccessorImpl.java:0)\n",
      "24/12/07 16:26:18 INFO DAGScheduler: Parents of final stage: List(ShuffleMapStage 43)\n",
      "24/12/07 16:26:18 INFO DAGScheduler: Missing parents: List()\n",
      "24/12/07 16:26:18 INFO DAGScheduler: Submitting ResultStage 44 (MapPartitionsRDD[113] at showString at NativeMethodAccessorImpl.java:0), which has no missing parents\n",
      "24/12/07 16:26:18 INFO MemoryStore: Block broadcast_37 stored as values in memory (estimated size 65.4 KiB, free 124.0 MiB)\n",
      "24/12/07 16:26:18 INFO MemoryStore: Block broadcast_37_piece0 stored as bytes in memory (estimated size 17.5 KiB, free 123.9 MiB)\n",
      "24/12/07 16:26:18 INFO BlockManagerInfo: Added broadcast_37_piece0 in memory on c110709c2f0f:43421 (size: 17.5 KiB, free: 214.7 MiB)\n",
      "24/12/07 16:26:18 INFO SparkContext: Created broadcast 37 from broadcast at DAGScheduler.scala:1540\n",
      "24/12/07 16:26:18 INFO DAGScheduler: Submitting 1 missing tasks from ResultStage 44 (MapPartitionsRDD[113] at showString at NativeMethodAccessorImpl.java:0) (first 15 tasks are for partitions Vector(0))\n",
      "24/12/07 16:26:18 INFO TaskSchedulerImpl: Adding task set 44.0 with 1 tasks resource profile 0\n",
      "24/12/07 16:26:18 INFO TaskSetManager: Starting task 0.0 in stage 44.0 (TID 38) (c110709c2f0f, executor driver, partition 0, NODE_LOCAL, 7363 bytes) \n",
      "24/12/07 16:26:18 INFO Executor: Running task 0.0 in stage 44.0 (TID 38)\n",
      "24/12/07 16:26:18 INFO ShuffleBlockFetcherIterator: Getting 4 (388.0 B) non-empty blocks including 4 (388.0 B) local and 0 (0.0 B) host-local and 0 (0.0 B) push-merged-local and 0 (0.0 B) remote blocks\n",
      "24/12/07 16:26:18 INFO ShuffleBlockFetcherIterator: Started 0 remote fetches in 0 ms\n",
      "24/12/07 16:26:18 INFO Executor: Finished task 0.0 in stage 44.0 (TID 38). 4213 bytes result sent to driver\n",
      "24/12/07 16:26:18 INFO TaskSetManager: Finished task 0.0 in stage 44.0 (TID 38) in 32 ms on c110709c2f0f (executor driver) (1/1)\n",
      "24/12/07 16:26:18 INFO TaskSchedulerImpl: Removed TaskSet 44.0, whose tasks have all completed, from pool \n",
      "24/12/07 16:26:18 INFO DAGScheduler: ResultStage 44 (showString at NativeMethodAccessorImpl.java:0) finished in 0.048 s\n",
      "24/12/07 16:26:18 INFO DAGScheduler: Job 19 is finished. Cancelling potential speculative or zombie tasks for this job\n",
      "24/12/07 16:26:18 INFO TaskSchedulerImpl: Killing all running tasks in stage 44: Stage finished\n",
      "24/12/07 16:26:18 INFO DAGScheduler: Job 19 finished: showString at NativeMethodAccessorImpl.java:0, took 0.068675 s\n",
      "                                                                                \r"
     ]
    }
   ],
   "source": [
    "print(count_nulls(summary_table))"
   ]
  },
  {
   "cell_type": "markdown",
   "metadata": {},
   "source": [
    "2. Drop those columns not affect to build the model"
   ]
  },
  {
   "cell_type": "code",
   "execution_count": 9,
   "metadata": {},
   "outputs": [],
   "source": [
    "tracks = summary_table.drop('release_date', 'total_tracks', 'mode')"
   ]
  },
  {
   "cell_type": "code",
   "execution_count": 12,
   "metadata": {},
   "outputs": [
    {
     "name": "stderr",
     "output_type": "stream",
     "text": [
      "24/12/07 17:40:09 WARN MemoryStore: Not enough space to cache rdd_38_3 in memory! (computed 62.3 MiB so far)\n",
      "24/12/07 17:40:09 WARN BlockManager: Persisting block rdd_38_3 to disk instead.\n"
     ]
    },
    {
     "name": "stdout",
     "output_type": "stream",
     "text": [
      "+--------+---------+-----------+----------+------+---------+----------+----------+---+----------+----------------------+--------+----+-------+------------+------+------+--------+-----------+------------+----------------+--------+-------+------+--------------+\n",
      "|album_id|artist_id|artist_name|album_name|genres|followers|popularity|link_image|url|album_type|release_date_precision|track_id|name|preview|danceability|energy|   key|loudness|speechiness|acousticness|instrumentalness|liveness|valence| tempo|time_signature|\n",
      "+--------+---------+-----------+----------+------+---------+----------+----------+---+----------+----------------------+--------+----+-------+------------+------+------+--------+-----------+------------+----------------+--------+-------+------+--------------+\n",
      "|       0|        0|          0|         0| 87156|        0|         0|         0|  0|         0|                     0|       0|  52| 992106|      534770|534770|534770|  534770|     534770|      534770|          534770|  534770| 534770|534770|        534770|\n",
      "+--------+---------+-----------+----------+------+---------+----------+----------+---+----------+----------------------+--------+----+-------+------------+------+------+--------+-----------+------------+----------------+--------+-------+------+--------------+\n",
      "\n",
      "None\n"
     ]
    },
    {
     "name": "stderr",
     "output_type": "stream",
     "text": [
      "                                                                                \r"
     ]
    }
   ],
   "source": [
    "print(count_nulls(tracks))"
   ]
  },
  {
   "cell_type": "code",
   "execution_count": 13,
   "metadata": {},
   "outputs": [],
   "source": [
    "# Function to return shape of table\n",
    "def shape(df):\n",
    "    num_rows = df.count()\n",
    "    nums_cols = len(df.columns)\n",
    "    \n",
    "    return (num_rows, nums_cols)"
   ]
  },
  {
   "cell_type": "code",
   "execution_count": 11,
   "metadata": {},
   "outputs": [
    {
     "name": "stdout",
     "output_type": "stream",
     "text": [
      "(2390438, 21)\n"
     ]
    }
   ],
   "source": [
    "print(shape(tracks))"
   ]
  },
  {
   "cell_type": "markdown",
   "metadata": {},
   "source": [
    "Vì những cột name là tên bài hát không có nên ta sẽ bỏ những hàng không có tên bài hát đó đi vì nếu không có tên bài hát thì không thể nào recommend cho user"
   ]
  },
  {
   "cell_type": "code",
   "execution_count": 14,
   "metadata": {},
   "outputs": [
    {
     "name": "stdout",
     "output_type": "stream",
     "text": [
      "(2850436, 25)\n"
     ]
    }
   ],
   "source": [
    "tracks = tracks.dropna(subset = ['name'])\n",
    "print(shape(tracks))"
   ]
  },
  {
   "cell_type": "markdown",
   "metadata": {},
   "source": [
    "Vì những cột features như là danceability, energy, acousticness, valence, tempo là những features quan trọng cho việc phân loại theo cảm xúc nên nếu là null values ta sẽ loại bỏ hết những hàng đó"
   ]
  },
  {
   "cell_type": "code",
   "execution_count": 15,
   "metadata": {},
   "outputs": [
    {
     "name": "stderr",
     "output_type": "stream",
     "text": [
      "[Stage 41:===========================================>              (3 + 1) / 4]\r"
     ]
    },
    {
     "name": "stdout",
     "output_type": "stream",
     "text": [
      "(2315666, 25)\n"
     ]
    },
    {
     "name": "stderr",
     "output_type": "stream",
     "text": [
      "                                                                                \r"
     ]
    }
   ],
   "source": [
    "# List of columns need to be dropped\n",
    "cols_to_drop = ['danceability', 'energy', 'key', 'loudness', 'speechiness', 'acousticness', 'instrumentalness', 'liveness', 'valence', 'tempo']\n",
    "\n",
    "# Drop those columns above\n",
    "tracks = tracks.dropna(subset = cols_to_drop)\n",
    "print(shape(tracks))"
   ]
  },
  {
   "cell_type": "code",
   "execution_count": 13,
   "metadata": {},
   "outputs": [
    {
     "name": "stderr",
     "output_type": "stream",
     "text": [
      "24/12/07 16:36:22 INFO BlockManagerInfo: Removed broadcast_25_piece0 on c110709c2f0f:46049 in memory (size: 5.8 KiB, free: 214.7 MiB)\n",
      "24/12/07 16:36:22 INFO BlockManagerInfo: Removed broadcast_24_piece0 on c110709c2f0f:46049 in memory (size: 32.2 KiB, free: 214.7 MiB)\n",
      "24/12/07 16:36:23 INFO CodeGenerator: Code generated in 74.414682 ms\n",
      "24/12/07 16:36:23 INFO DAGScheduler: Registering RDD 85 (showString at NativeMethodAccessorImpl.java:0) as input to shuffle 7\n",
      "24/12/07 16:36:23 INFO DAGScheduler: Got map stage job 17 (showString at NativeMethodAccessorImpl.java:0) with 4 output partitions\n",
      "24/12/07 16:36:23 INFO DAGScheduler: Final stage: ShuffleMapStage 56 (showString at NativeMethodAccessorImpl.java:0)\n",
      "24/12/07 16:36:23 INFO DAGScheduler: Parents of final stage: List(ShuffleMapStage 54, ShuffleMapStage 55)\n",
      "24/12/07 16:36:23 INFO DAGScheduler: Missing parents: List()\n",
      "24/12/07 16:36:23 INFO DAGScheduler: Submitting ShuffleMapStage 56 (MapPartitionsRDD[85] at showString at NativeMethodAccessorImpl.java:0), which has no missing parents\n",
      "24/12/07 16:36:23 INFO MemoryStore: Block broadcast_26 stored as values in memory (estimated size 117.0 KiB, free 123.9 MiB)\n",
      "24/12/07 16:36:23 INFO MemoryStore: Block broadcast_26_piece0 stored as bytes in memory (estimated size 41.3 KiB, free 123.9 MiB)\n",
      "24/12/07 16:36:23 INFO BlockManagerInfo: Added broadcast_26_piece0 in memory on c110709c2f0f:46049 (size: 41.3 KiB, free: 214.7 MiB)\n",
      "24/12/07 16:36:23 INFO SparkContext: Created broadcast 26 from broadcast at DAGScheduler.scala:1540\n",
      "24/12/07 16:36:23 INFO DAGScheduler: Submitting 4 missing tasks from ShuffleMapStage 56 (MapPartitionsRDD[85] at showString at NativeMethodAccessorImpl.java:0) (first 15 tasks are for partitions Vector(0, 1, 2, 3))\n",
      "24/12/07 16:36:23 INFO TaskSchedulerImpl: Adding task set 56.0 with 4 tasks resource profile 0\n",
      "24/12/07 16:36:23 INFO TaskSetManager: Starting task 0.0 in stage 56.0 (TID 34) (c110709c2f0f, executor driver, partition 0, PROCESS_LOCAL, 7634 bytes) \n",
      "24/12/07 16:36:23 INFO Executor: Running task 0.0 in stage 56.0 (TID 34)\n",
      "24/12/07 16:36:23 INFO BlockManager: Found block rdd_46_0 locally\n",
      "24/12/07 16:36:24 INFO Executor: Finished task 0.0 in stage 56.0 (TID 34). 11254 bytes result sent to driver\n",
      "24/12/07 16:36:24 INFO TaskSetManager: Starting task 1.0 in stage 56.0 (TID 35) (c110709c2f0f, executor driver, partition 1, PROCESS_LOCAL, 7634 bytes) \n",
      "24/12/07 16:36:24 INFO Executor: Running task 1.0 in stage 56.0 (TID 35)\n",
      "24/12/07 16:36:24 INFO TaskSetManager: Finished task 0.0 in stage 56.0 (TID 34) in 1351 ms on c110709c2f0f (executor driver) (1/4)\n",
      "24/12/07 16:36:24 INFO BlockManager: Found block rdd_46_1 locally\n",
      "24/12/07 16:36:25 INFO Executor: Finished task 1.0 in stage 56.0 (TID 35). 11340 bytes result sent to driver\n",
      "24/12/07 16:36:25 INFO TaskSetManager: Starting task 2.0 in stage 56.0 (TID 36) (c110709c2f0f, executor driver, partition 2, PROCESS_LOCAL, 7634 bytes) \n",
      "24/12/07 16:36:25 INFO TaskSetManager: Finished task 1.0 in stage 56.0 (TID 35) in 1172 ms on c110709c2f0f (executor driver) (2/4)\n",
      "24/12/07 16:36:25 INFO Executor: Running task 2.0 in stage 56.0 (TID 36)\n",
      "24/12/07 16:36:25 INFO BlockManager: Found block rdd_46_2 locally\n",
      "24/12/07 16:36:25 INFO BlockManagerInfo: Removed broadcast_20_piece0 on c110709c2f0f:46049 in memory (size: 40.7 KiB, free: 214.7 MiB)\n",
      "24/12/07 16:36:26 INFO Executor: Finished task 2.0 in stage 56.0 (TID 36). 11254 bytes result sent to driver\n",
      "24/12/07 16:36:26 INFO TaskSetManager: Starting task 3.0 in stage 56.0 (TID 37) (c110709c2f0f, executor driver, partition 3, PROCESS_LOCAL, 7634 bytes) \n",
      "24/12/07 16:36:26 INFO Executor: Running task 3.0 in stage 56.0 (TID 37)\n",
      "24/12/07 16:36:26 INFO TaskSetManager: Finished task 2.0 in stage 56.0 (TID 36) in 1137 ms on c110709c2f0f (executor driver) (3/4)\n",
      "24/12/07 16:36:26 INFO BlockManager: Found block rdd_46_3 locally\n",
      "[Stage 56:===========================================>              (3 + 1) / 4]\r"
     ]
    },
    {
     "name": "stdout",
     "output_type": "stream",
     "text": [
      "+--------+---------+-----------+----------+------+---------+----------+----------+---+----------+----------------------+--------+----+-------+------------+------+---+--------+-----------+------------+----------------+--------+-------+-----+--------------+\n",
      "|album_id|artist_id|artist_name|album_name|genres|followers|popularity|link_image|url|album_type|release_date_precision|track_id|name|preview|danceability|energy|key|loudness|speechiness|acousticness|instrumentalness|liveness|valence|tempo|time_signature|\n",
      "+--------+---------+-----------+----------+------+---------+----------+----------+---+----------+----------------------+--------+----+-------+------------+------+---+--------+-----------+------------+----------------+--------+-------+-----+--------------+\n",
      "|       0|        0|          0|         0| 81748|        0|         0|         0|  0|         0|                     0|       0|   0| 525853|           0|     0|  0|       0|          0|           0|               0|       0|      0|    0|             0|\n",
      "+--------+---------+-----------+----------+------+---------+----------+----------+---+----------+----------------------+--------+----+-------+------------+------+---+--------+-----------+------------+----------------+--------+-------+-----+--------------+\n",
      "\n",
      "None\n"
     ]
    },
    {
     "name": "stderr",
     "output_type": "stream",
     "text": [
      "24/12/07 16:36:27 INFO Executor: Finished task 3.0 in stage 56.0 (TID 37). 11297 bytes result sent to driver\n",
      "24/12/07 16:36:27 INFO TaskSetManager: Finished task 3.0 in stage 56.0 (TID 37) in 1000 ms on c110709c2f0f (executor driver) (4/4)\n",
      "24/12/07 16:36:27 INFO TaskSchedulerImpl: Removed TaskSet 56.0, whose tasks have all completed, from pool \n",
      "24/12/07 16:36:27 INFO DAGScheduler: ShuffleMapStage 56 (showString at NativeMethodAccessorImpl.java:0) finished in 4.689 s\n",
      "24/12/07 16:36:27 INFO DAGScheduler: looking for newly runnable stages\n",
      "24/12/07 16:36:27 INFO DAGScheduler: running: Set()\n",
      "24/12/07 16:36:27 INFO DAGScheduler: waiting: Set()\n",
      "24/12/07 16:36:27 INFO DAGScheduler: failed: Set()\n",
      "24/12/07 16:36:27 INFO SparkContext: Starting job: showString at NativeMethodAccessorImpl.java:0\n",
      "24/12/07 16:36:27 INFO DAGScheduler: Got job 18 (showString at NativeMethodAccessorImpl.java:0) with 1 output partitions\n",
      "24/12/07 16:36:27 INFO DAGScheduler: Final stage: ResultStage 62 (showString at NativeMethodAccessorImpl.java:0)\n",
      "24/12/07 16:36:27 INFO DAGScheduler: Parents of final stage: List(ShuffleMapStage 61)\n",
      "24/12/07 16:36:27 INFO DAGScheduler: Missing parents: List()\n",
      "24/12/07 16:36:27 INFO DAGScheduler: Submitting ResultStage 62 (MapPartitionsRDD[88] at showString at NativeMethodAccessorImpl.java:0), which has no missing parents\n",
      "24/12/07 16:36:27 INFO MemoryStore: Block broadcast_27 stored as values in memory (estimated size 59.6 KiB, free 124.0 MiB)\n",
      "24/12/07 16:36:27 INFO MemoryStore: Block broadcast_27_piece0 stored as bytes in memory (estimated size 16.2 KiB, free 123.9 MiB)\n",
      "24/12/07 16:36:27 INFO BlockManagerInfo: Added broadcast_27_piece0 in memory on c110709c2f0f:46049 (size: 16.2 KiB, free: 214.7 MiB)\n",
      "24/12/07 16:36:27 INFO SparkContext: Created broadcast 27 from broadcast at DAGScheduler.scala:1540\n",
      "24/12/07 16:36:27 INFO DAGScheduler: Submitting 1 missing tasks from ResultStage 62 (MapPartitionsRDD[88] at showString at NativeMethodAccessorImpl.java:0) (first 15 tasks are for partitions Vector(0))\n",
      "24/12/07 16:36:27 INFO TaskSchedulerImpl: Adding task set 62.0 with 1 tasks resource profile 0\n",
      "24/12/07 16:36:27 INFO TaskSetManager: Starting task 0.0 in stage 62.0 (TID 38) (c110709c2f0f, executor driver, partition 0, NODE_LOCAL, 7363 bytes) \n",
      "24/12/07 16:36:27 INFO Executor: Running task 0.0 in stage 62.0 (TID 38)\n",
      "24/12/07 16:36:27 INFO ShuffleBlockFetcherIterator: Getting 4 (320.0 B) non-empty blocks including 4 (320.0 B) local and 0 (0.0 B) host-local and 0 (0.0 B) push-merged-local and 0 (0.0 B) remote blocks\n",
      "24/12/07 16:36:27 INFO ShuffleBlockFetcherIterator: Started 0 remote fetches in 1 ms\n",
      "24/12/07 16:36:27 INFO Executor: Finished task 0.0 in stage 62.0 (TID 38). 4141 bytes result sent to driver\n",
      "24/12/07 16:36:27 INFO TaskSetManager: Finished task 0.0 in stage 62.0 (TID 38) in 20 ms on c110709c2f0f (executor driver) (1/1)\n",
      "24/12/07 16:36:27 INFO TaskSchedulerImpl: Removed TaskSet 62.0, whose tasks have all completed, from pool \n",
      "24/12/07 16:36:27 INFO DAGScheduler: ResultStage 62 (showString at NativeMethodAccessorImpl.java:0) finished in 0.034 s\n",
      "24/12/07 16:36:27 INFO DAGScheduler: Job 18 is finished. Cancelling potential speculative or zombie tasks for this job\n",
      "24/12/07 16:36:27 INFO TaskSchedulerImpl: Killing all running tasks in stage 62: Stage finished\n",
      "24/12/07 16:36:27 INFO DAGScheduler: Job 18 finished: showString at NativeMethodAccessorImpl.java:0, took 0.052248 s\n",
      "                                                                                \r"
     ]
    }
   ],
   "source": [
    "print(count_nulls(tracks))"
   ]
  },
  {
   "cell_type": "code",
   "execution_count": 16,
   "metadata": {},
   "outputs": [
    {
     "name": "stderr",
     "output_type": "stream",
     "text": [
      "[Stage 58:>                                                         (0 + 1) / 1]\r"
     ]
    },
    {
     "name": "stdout",
     "output_type": "stream",
     "text": [
      "903635\n"
     ]
    },
    {
     "name": "stderr",
     "output_type": "stream",
     "text": [
      "                                                                                \r"
     ]
    }
   ],
   "source": [
    "print(tracks.select('track_id').distinct().count())"
   ]
  },
  {
   "cell_type": "markdown",
   "metadata": {},
   "source": [
    "### Build Recommendation System"
   ]
  },
  {
   "cell_type": "markdown",
   "metadata": {},
   "source": [
    "##### 1/ Recommend songs by name of song using Content-based Filtering "
   ]
  },
  {
   "cell_type": "code",
   "execution_count": 17,
   "metadata": {},
   "outputs": [
    {
     "data": {
      "text/plain": [
       "DataFrame[album_id: string, artist_id: string, artist_name: string, album_name: string, genres: string, followers: int, popularity: int, link_image: string, url: string, album_type: string, release_date_precision: string, track_id: string, name: string, preview: string, danceability: float, energy: float, key: int, loudness: float, speechiness: float, acousticness: float, instrumentalness: float, liveness: float, valence: float, tempo: float, time_signature: int]"
      ]
     },
     "execution_count": 17,
     "metadata": {},
     "output_type": "execute_result"
    }
   ],
   "source": [
    "summary_table.unpersist()\n",
    "tracks.cache()"
   ]
  },
  {
   "cell_type": "code",
   "execution_count": 18,
   "metadata": {},
   "outputs": [
    {
     "name": "stderr",
     "output_type": "stream",
     "text": [
      "[Stage 71:===========================================>              (3 + 1) / 4]\r"
     ]
    },
    {
     "name": "stdout",
     "output_type": "stream",
     "text": [
      "Number of unique genres: 2889\n"
     ]
    },
    {
     "name": "stderr",
     "output_type": "stream",
     "text": [
      "                                                                                \r"
     ]
    }
   ],
   "source": [
    "tracks_for_cbf = tracks\n",
    "print(f\"Number of unique genres: {tracks_for_cbf.select('genres').distinct().count()}\")"
   ]
  },
  {
   "cell_type": "markdown",
   "metadata": {},
   "source": [
    "1. Find the similarities between input song with each song in dataset\n",
    "\n",
    "Content-based filtering cung cấp các đề xuất được thiết kế riêng bằng cách tập trung vào sở thích cá nhân, sắp xếp hiệu quả các tùy chọn với sở thích và mối quan tâm riêng của từng người dùng. Điều này thường đạt được thông qua các kỹ thuật như cosin similarities, đo lường độ tương đồng giữa vectơ người dùng (đại diện cho sở thích của người dùng) và hồ sơ mục. Mô hình không cần bất kỳ dữ liệu nào về người dùng khác vì các đề xuất dành riêng cho người dùng này. Điều này giúp dễ dàng mở rộng quy mô cho nhiều người dùng hơn. Mô hình có thể nắm bắt được sở thích cụ thể của người dùng và có thể đề xuất các mặt hàng ngách mà rất ít người dùng khác quan tâm.\n",
    "\n",
    "Content-based filtering delivers tailored recommendations by focusing on individual preferences, effectively aligning options with each user's unique tastes and interests. This is often achieved through techniques like cosine similarity, which measures the similarity between the user vector (representing the user's preferences) and the item profile. The model doesn't need any data about other users, since the recommendations are specific to this user. This makes it easier to scale to a large number of users. The model can capture the specific interests of a user, and can recommend niche items that very few other users are interested in."
   ]
  },
  {
   "cell_type": "markdown",
   "metadata": {},
   "source": [
    "- Filtering null values in genres column to empty space \"\""
   ]
  },
  {
   "cell_type": "code",
   "execution_count": 16,
   "metadata": {},
   "outputs": [],
   "source": [
    "from pyspark.sql.functions import col, when\n",
    "\n",
    "tracks_for_cbf = tracks_for_cbf.withColumn(\n",
    "    \"genres\", when(col(\"genres\").isNotNull(), col(\"genres\")).otherwise(\"\")\n",
    ")"
   ]
  },
  {
   "cell_type": "code",
   "execution_count": 17,
   "metadata": {},
   "outputs": [],
   "source": [
    "tracks_for_cbf = tracks_for_cbf.withColumn(\n",
    "    \"preview\", when(col(\"preview\").isNotNull(), col(\"preview\")).otherwise(\"\")\n",
    ")"
   ]
  },
  {
   "cell_type": "code",
   "execution_count": 18,
   "metadata": {},
   "outputs": [
    {
     "name": "stderr",
     "output_type": "stream",
     "text": [
      "24/12/07 16:37:43 INFO BlockManagerInfo: Removed broadcast_40_piece0 on c110709c2f0f:46049 in memory (size: 5.8 KiB, free: 194.1 MiB)\n",
      "24/12/07 16:37:43 INFO BlockManagerInfo: Removed broadcast_39_piece0 on c110709c2f0f:46049 in memory (size: 35.7 KiB, free: 194.1 MiB)\n",
      "24/12/07 16:37:43 INFO CodeGenerator: Code generated in 56.615341 ms\n",
      "24/12/07 16:37:43 INFO DAGScheduler: Registering RDD 135 (showString at NativeMethodAccessorImpl.java:0) as input to shuffle 14\n",
      "24/12/07 16:37:43 INFO DAGScheduler: Got map stage job 23 (showString at NativeMethodAccessorImpl.java:0) with 4 output partitions\n",
      "24/12/07 16:37:43 INFO DAGScheduler: Final stage: ShuffleMapStage 86 (showString at NativeMethodAccessorImpl.java:0)\n",
      "24/12/07 16:37:43 INFO DAGScheduler: Parents of final stage: List(ShuffleMapStage 84, ShuffleMapStage 85)\n",
      "24/12/07 16:37:43 INFO DAGScheduler: Missing parents: List()\n",
      "24/12/07 16:37:43 INFO DAGScheduler: Submitting ShuffleMapStage 86 (MapPartitionsRDD[135] at showString at NativeMethodAccessorImpl.java:0), which has no missing parents\n",
      "24/12/07 16:37:43 INFO MemoryStore: Block broadcast_41 stored as values in memory (estimated size 112.1 KiB, free 176.1 MiB)\n",
      "24/12/07 16:37:43 INFO MemoryStore: Block broadcast_41_piece0 stored as bytes in memory (estimated size 40.6 KiB, free 176.1 MiB)\n",
      "24/12/07 16:37:43 INFO BlockManagerInfo: Added broadcast_41_piece0 in memory on c110709c2f0f:46049 (size: 40.6 KiB, free: 194.1 MiB)\n",
      "24/12/07 16:37:43 INFO SparkContext: Created broadcast 41 from broadcast at DAGScheduler.scala:1540\n",
      "24/12/07 16:37:43 INFO DAGScheduler: Submitting 4 missing tasks from ShuffleMapStage 86 (MapPartitionsRDD[135] at showString at NativeMethodAccessorImpl.java:0) (first 15 tasks are for partitions Vector(0, 1, 2, 3))\n",
      "24/12/07 16:37:43 INFO TaskSchedulerImpl: Adding task set 86.0 with 4 tasks resource profile 0\n",
      "24/12/07 16:37:43 INFO TaskSetManager: Starting task 0.0 in stage 86.0 (TID 54) (c110709c2f0f, executor driver, partition 0, PROCESS_LOCAL, 7634 bytes) \n",
      "24/12/07 16:37:43 INFO Executor: Running task 0.0 in stage 86.0 (TID 54)\n",
      "24/12/07 16:37:43 INFO BlockManager: Found block rdd_119_0 locally\n",
      "24/12/07 16:37:43 INFO CodeGenerator: Code generated in 55.968694 ms\n",
      "24/12/07 16:37:45 INFO Executor: Finished task 0.0 in stage 86.0 (TID 54). 11241 bytes result sent to driver\n",
      "24/12/07 16:37:45 INFO TaskSetManager: Starting task 1.0 in stage 86.0 (TID 55) (c110709c2f0f, executor driver, partition 1, PROCESS_LOCAL, 7634 bytes) \n",
      "24/12/07 16:37:45 INFO Executor: Running task 1.0 in stage 86.0 (TID 55)\n",
      "24/12/07 16:37:45 INFO TaskSetManager: Finished task 0.0 in stage 86.0 (TID 54) in 1677 ms on c110709c2f0f (executor driver) (1/4)\n",
      "24/12/07 16:37:45 INFO BlockManager: Found block rdd_119_1 locally\n",
      "24/12/07 16:37:46 INFO Executor: Finished task 1.0 in stage 86.0 (TID 55). 11284 bytes result sent to driver\n",
      "24/12/07 16:37:46 INFO TaskSetManager: Starting task 2.0 in stage 86.0 (TID 56) (c110709c2f0f, executor driver, partition 2, PROCESS_LOCAL, 7634 bytes) \n",
      "24/12/07 16:37:46 INFO TaskSetManager: Finished task 1.0 in stage 86.0 (TID 55) in 987 ms on c110709c2f0f (executor driver) (2/4)\n",
      "24/12/07 16:37:46 INFO Executor: Running task 2.0 in stage 86.0 (TID 56)\n",
      "24/12/07 16:37:46 INFO BlockManager: Found block rdd_119_2 locally\n",
      "24/12/07 16:37:46 INFO BlockManagerInfo: Removed broadcast_38_piece0 on c110709c2f0f:46049 in memory (size: 32.6 KiB, free: 194.1 MiB)\n",
      "24/12/07 16:37:47 INFO Executor: Finished task 2.0 in stage 86.0 (TID 56). 11198 bytes result sent to driver\n",
      "24/12/07 16:37:47 INFO TaskSetManager: Starting task 3.0 in stage 86.0 (TID 57) (c110709c2f0f, executor driver, partition 3, PROCESS_LOCAL, 7634 bytes) \n",
      "24/12/07 16:37:47 INFO TaskSetManager: Finished task 2.0 in stage 86.0 (TID 56) in 1107 ms on c110709c2f0f (executor driver) (3/4)\n",
      "24/12/07 16:37:47 INFO Executor: Running task 3.0 in stage 86.0 (TID 57)\n",
      "24/12/07 16:37:47 INFO BlockManager: Found block rdd_119_3 locally\n",
      "24/12/07 16:37:48 INFO Executor: Finished task 3.0 in stage 86.0 (TID 57). 11241 bytes result sent to driver\n",
      "24/12/07 16:37:48 INFO TaskSetManager: Finished task 3.0 in stage 86.0 (TID 57) in 859 ms on c110709c2f0f (executor driver) (4/4)\n",
      "24/12/07 16:37:48 INFO TaskSchedulerImpl: Removed TaskSet 86.0, whose tasks have all completed, from pool \n",
      "24/12/07 16:37:48 INFO DAGScheduler: ShuffleMapStage 86 (showString at NativeMethodAccessorImpl.java:0) finished in 4.643 s\n",
      "24/12/07 16:37:48 INFO DAGScheduler: looking for newly runnable stages\n",
      "24/12/07 16:37:48 INFO DAGScheduler: running: Set()\n",
      "24/12/07 16:37:48 INFO DAGScheduler: waiting: Set()\n",
      "24/12/07 16:37:48 INFO DAGScheduler: failed: Set()\n",
      "24/12/07 16:37:48 INFO SparkContext: Starting job: showString at NativeMethodAccessorImpl.java:0\n",
      "24/12/07 16:37:48 INFO DAGScheduler: Got job 24 (showString at NativeMethodAccessorImpl.java:0) with 1 output partitions\n",
      "24/12/07 16:37:48 INFO DAGScheduler: Final stage: ResultStage 92 (showString at NativeMethodAccessorImpl.java:0)\n",
      "24/12/07 16:37:48 INFO DAGScheduler: Parents of final stage: List(ShuffleMapStage 91)\n",
      "24/12/07 16:37:48 INFO DAGScheduler: Missing parents: List()\n",
      "24/12/07 16:37:48 INFO DAGScheduler: Submitting ResultStage 92 (MapPartitionsRDD[138] at showString at NativeMethodAccessorImpl.java:0), which has no missing parents\n",
      "24/12/07 16:37:48 INFO MemoryStore: Block broadcast_42 stored as values in memory (estimated size 59.6 KiB, free 176.1 MiB)\n",
      "24/12/07 16:37:48 INFO MemoryStore: Block broadcast_42_piece0 stored as bytes in memory (estimated size 16.2 KiB, free 176.1 MiB)\n",
      "24/12/07 16:37:48 INFO BlockManagerInfo: Added broadcast_42_piece0 in memory on c110709c2f0f:46049 (size: 16.2 KiB, free: 194.1 MiB)\n",
      "24/12/07 16:37:48 INFO SparkContext: Created broadcast 42 from broadcast at DAGScheduler.scala:1540\n",
      "24/12/07 16:37:48 INFO DAGScheduler: Submitting 1 missing tasks from ResultStage 92 (MapPartitionsRDD[138] at showString at NativeMethodAccessorImpl.java:0) (first 15 tasks are for partitions Vector(0))\n",
      "24/12/07 16:37:48 INFO TaskSchedulerImpl: Adding task set 92.0 with 1 tasks resource profile 0\n",
      "24/12/07 16:37:48 INFO TaskSetManager: Starting task 0.0 in stage 92.0 (TID 58) (c110709c2f0f, executor driver, partition 0, NODE_LOCAL, 7363 bytes) \n",
      "24/12/07 16:37:48 INFO Executor: Running task 0.0 in stage 92.0 (TID 58)\n",
      "24/12/07 16:37:48 INFO ShuffleBlockFetcherIterator: Getting 4 (240.0 B) non-empty blocks including 4 (240.0 B) local and 0 (0.0 B) host-local and 0 (0.0 B) push-merged-local and 0 (0.0 B) remote blocks\n",
      "24/12/07 16:37:48 INFO ShuffleBlockFetcherIterator: Started 0 remote fetches in 0 ms\n",
      "24/12/07 16:37:48 INFO Executor: Finished task 0.0 in stage 92.0 (TID 58). 4101 bytes result sent to driver\n",
      "24/12/07 16:37:48 INFO TaskSetManager: Finished task 0.0 in stage 92.0 (TID 58) in 16 ms on c110709c2f0f (executor driver) (1/1)\n",
      "24/12/07 16:37:48 INFO TaskSchedulerImpl: Removed TaskSet 92.0, whose tasks have all completed, from pool \n",
      "24/12/07 16:37:48 INFO DAGScheduler: ResultStage 92 (showString at NativeMethodAccessorImpl.java:0) finished in 0.039 s\n",
      "24/12/07 16:37:48 INFO DAGScheduler: Job 24 is finished. Cancelling potential speculative or zombie tasks for this job\n",
      "24/12/07 16:37:48 INFO TaskSchedulerImpl: Killing all running tasks in stage 92: Stage finished\n",
      "24/12/07 16:37:48 INFO DAGScheduler: Job 24 finished: showString at NativeMethodAccessorImpl.java:0, took 0.074879 s\n",
      "                                                                                \r"
     ]
    },
    {
     "name": "stdout",
     "output_type": "stream",
     "text": [
      "+--------+---------+-----------+----------+------+---------+----------+----------+---+----------+----------------------+--------+----+-------+------------+------+---+--------+-----------+------------+----------------+--------+-------+-----+--------------+\n",
      "|album_id|artist_id|artist_name|album_name|genres|followers|popularity|link_image|url|album_type|release_date_precision|track_id|name|preview|danceability|energy|key|loudness|speechiness|acousticness|instrumentalness|liveness|valence|tempo|time_signature|\n",
      "+--------+---------+-----------+----------+------+---------+----------+----------+---+----------+----------------------+--------+----+-------+------------+------+---+--------+-----------+------------+----------------+--------+-------+-----+--------------+\n",
      "|       0|        0|          0|         0|     0|        0|         0|         0|  0|         0|                     0|       0|   0|      0|           0|     0|  0|       0|          0|           0|               0|       0|      0|    0|             0|\n",
      "+--------+---------+-----------+----------+------+---------+----------+----------+---+----------+----------------------+--------+----+-------+------------+------+---+--------+-----------+------------+----------------+--------+-------+-----+--------------+\n",
      "\n",
      "None\n"
     ]
    }
   ],
   "source": [
    "print(count_nulls(tracks_for_cbf))"
   ]
  },
  {
   "cell_type": "markdown",
   "metadata": {},
   "source": [
    "- Tokenizing the genres column and Applying CountVectorizer to count the appearance of each word in genres"
   ]
  },
  {
   "cell_type": "code",
   "execution_count": 19,
   "metadata": {},
   "outputs": [
    {
     "name": "stderr",
     "output_type": "stream",
     "text": [
      "24/12/07 16:37:53 INFO CodeGenerator: Code generated in 42.641447 ms\n",
      "24/12/07 16:37:53 INFO SparkContext: Starting job: count at CountVectorizer.scala:233\n",
      "24/12/07 16:37:53 INFO DAGScheduler: Registering RDD 147 (flatMap at CountVectorizer.scala:212) as input to shuffle 15\n",
      "24/12/07 16:37:53 INFO DAGScheduler: Got job 25 (count at CountVectorizer.scala:233) with 4 output partitions\n",
      "24/12/07 16:37:53 INFO DAGScheduler: Final stage: ResultStage 98 (count at CountVectorizer.scala:233)\n",
      "24/12/07 16:37:53 INFO DAGScheduler: Parents of final stage: List(ShuffleMapStage 97)\n",
      "24/12/07 16:37:53 INFO DAGScheduler: Missing parents: List(ShuffleMapStage 97)\n",
      "24/12/07 16:37:53 INFO DAGScheduler: Submitting ShuffleMapStage 97 (MapPartitionsRDD[147] at flatMap at CountVectorizer.scala:212), which has no missing parents\n",
      "24/12/07 16:37:53 INFO MemoryStore: Block broadcast_43 stored as values in memory (estimated size 87.1 KiB, free 176.0 MiB)\n",
      "24/12/07 16:37:53 INFO MemoryStore: Block broadcast_43_piece0 stored as bytes in memory (estimated size 36.9 KiB, free 176.0 MiB)\n",
      "24/12/07 16:37:53 INFO BlockManagerInfo: Added broadcast_43_piece0 in memory on c110709c2f0f:46049 (size: 36.9 KiB, free: 194.0 MiB)\n",
      "24/12/07 16:37:53 INFO SparkContext: Created broadcast 43 from broadcast at DAGScheduler.scala:1540\n",
      "24/12/07 16:37:53 INFO DAGScheduler: Submitting 4 missing tasks from ShuffleMapStage 97 (MapPartitionsRDD[147] at flatMap at CountVectorizer.scala:212) (first 15 tasks are for partitions Vector(0, 1, 2, 3))\n",
      "24/12/07 16:37:53 INFO TaskSchedulerImpl: Adding task set 97.0 with 4 tasks resource profile 0\n",
      "24/12/07 16:37:53 INFO TaskSetManager: Starting task 0.0 in stage 97.0 (TID 59) (c110709c2f0f, executor driver, partition 0, PROCESS_LOCAL, 7634 bytes) \n",
      "24/12/07 16:37:53 INFO Executor: Running task 0.0 in stage 97.0 (TID 59)\n",
      "24/12/07 16:37:53 INFO BlockManager: Found block rdd_119_0 locally\n",
      "24/12/07 16:37:53 INFO CodeGenerator: Code generated in 18.07388 ms\n",
      "24/12/07 16:37:54 INFO CodeGenerator: Code generated in 9.064141 ms\n",
      "24/12/07 16:37:54 INFO CodeGenerator: Code generated in 36.952107 ms\n",
      "24/12/07 16:37:56 INFO BlockManagerInfo: Removed broadcast_41_piece0 on c110709c2f0f:46049 in memory (size: 40.6 KiB, free: 194.1 MiB)\n",
      "24/12/07 16:37:56 INFO BlockManagerInfo: Removed broadcast_42_piece0 on c110709c2f0f:46049 in memory (size: 16.2 KiB, free: 194.1 MiB)\n",
      "24/12/07 16:37:58 INFO Executor: Finished task 0.0 in stage 97.0 (TID 59). 11008 bytes result sent to driver\n",
      "24/12/07 16:37:58 INFO TaskSetManager: Starting task 1.0 in stage 97.0 (TID 60) (c110709c2f0f, executor driver, partition 1, PROCESS_LOCAL, 7634 bytes) \n",
      "24/12/07 16:37:58 INFO TaskSetManager: Finished task 0.0 in stage 97.0 (TID 59) in 4248 ms on c110709c2f0f (executor driver) (1/4)\n",
      "24/12/07 16:37:58 INFO Executor: Running task 1.0 in stage 97.0 (TID 60)\n",
      "24/12/07 16:37:58 INFO BlockManager: Found block rdd_119_1 locally\n",
      "24/12/07 16:37:59 INFO Executor: Finished task 1.0 in stage 97.0 (TID 60). 11008 bytes result sent to driver\n",
      "24/12/07 16:37:59 INFO TaskSetManager: Starting task 2.0 in stage 97.0 (TID 61) (c110709c2f0f, executor driver, partition 2, PROCESS_LOCAL, 7634 bytes) \n",
      "24/12/07 16:37:59 INFO Executor: Running task 2.0 in stage 97.0 (TID 61)\n",
      "24/12/07 16:37:59 INFO TaskSetManager: Finished task 1.0 in stage 97.0 (TID 60) in 1618 ms on c110709c2f0f (executor driver) (2/4)\n",
      "24/12/07 16:37:59 INFO BlockManager: Found block rdd_119_2 locally\n",
      "24/12/07 16:38:01 INFO Executor: Finished task 2.0 in stage 97.0 (TID 61). 11008 bytes result sent to driver\n",
      "24/12/07 16:38:01 INFO TaskSetManager: Starting task 3.0 in stage 97.0 (TID 62) (c110709c2f0f, executor driver, partition 3, PROCESS_LOCAL, 7634 bytes) \n",
      "24/12/07 16:38:01 INFO TaskSetManager: Finished task 2.0 in stage 97.0 (TID 61) in 1874 ms on c110709c2f0f (executor driver) (3/4)\n",
      "24/12/07 16:38:01 INFO Executor: Running task 3.0 in stage 97.0 (TID 62)\n",
      "24/12/07 16:38:01 INFO BlockManager: Found block rdd_119_3 locally\n",
      "24/12/07 16:38:03 INFO Executor: Finished task 3.0 in stage 97.0 (TID 62). 11008 bytes result sent to driver\n",
      "24/12/07 16:38:03 INFO TaskSetManager: Finished task 3.0 in stage 97.0 (TID 62) in 1524 ms on c110709c2f0f (executor driver) (4/4)\n",
      "24/12/07 16:38:03 INFO TaskSchedulerImpl: Removed TaskSet 97.0, whose tasks have all completed, from pool \n",
      "24/12/07 16:38:03 INFO DAGScheduler: ShuffleMapStage 97 (flatMap at CountVectorizer.scala:212) finished in 9.300 s\n",
      "24/12/07 16:38:03 INFO DAGScheduler: looking for newly runnable stages\n",
      "24/12/07 16:38:03 INFO DAGScheduler: running: Set()\n",
      "24/12/07 16:38:03 INFO DAGScheduler: waiting: Set(ResultStage 98)\n",
      "24/12/07 16:38:03 INFO DAGScheduler: failed: Set()\n",
      "24/12/07 16:38:03 INFO DAGScheduler: Submitting ResultStage 98 (MapPartitionsRDD[149] at map at CountVectorizer.scala:230), which has no missing parents\n",
      "24/12/07 16:38:03 INFO MemoryStore: Block broadcast_44 stored as values in memory (estimated size 5.8 KiB, free 176.2 MiB)\n",
      "24/12/07 16:38:03 INFO MemoryStore: Block broadcast_44_piece0 stored as bytes in memory (estimated size 3.2 KiB, free 176.2 MiB)\n",
      "24/12/07 16:38:03 INFO BlockManagerInfo: Added broadcast_44_piece0 in memory on c110709c2f0f:46049 (size: 3.2 KiB, free: 194.1 MiB)\n",
      "24/12/07 16:38:03 INFO SparkContext: Created broadcast 44 from broadcast at DAGScheduler.scala:1540\n",
      "24/12/07 16:38:03 INFO DAGScheduler: Submitting 4 missing tasks from ResultStage 98 (MapPartitionsRDD[149] at map at CountVectorizer.scala:230) (first 15 tasks are for partitions Vector(0, 1, 2, 3))\n",
      "24/12/07 16:38:03 INFO TaskSchedulerImpl: Adding task set 98.0 with 4 tasks resource profile 0\n",
      "24/12/07 16:38:03 INFO TaskSetManager: Starting task 0.0 in stage 98.0 (TID 63) (c110709c2f0f, executor driver, partition 0, NODE_LOCAL, 7181 bytes) \n",
      "24/12/07 16:38:03 INFO Executor: Running task 0.0 in stage 98.0 (TID 63)\n",
      "24/12/07 16:38:03 INFO ShuffleBlockFetcherIterator: Getting 4 (23.4 KiB) non-empty blocks including 4 (23.4 KiB) local and 0 (0.0 B) host-local and 0 (0.0 B) push-merged-local and 0 (0.0 B) remote blocks\n",
      "24/12/07 16:38:03 INFO ShuffleBlockFetcherIterator: Started 0 remote fetches in 0 ms\n",
      "24/12/07 16:38:03 INFO MemoryStore: Block rdd_149_0 stored as values in memory (estimated size 39.5 KiB, free 176.2 MiB)\n",
      "24/12/07 16:38:03 INFO BlockManagerInfo: Added rdd_149_0 in memory on c110709c2f0f:46049 (size: 39.5 KiB, free: 194.0 MiB)\n",
      "24/12/07 16:38:03 INFO Executor: Finished task 0.0 in stage 98.0 (TID 63). 1747 bytes result sent to driver\n",
      "24/12/07 16:38:03 INFO TaskSetManager: Starting task 1.0 in stage 98.0 (TID 64) (c110709c2f0f, executor driver, partition 1, NODE_LOCAL, 7181 bytes) \n",
      "24/12/07 16:38:03 INFO Executor: Running task 1.0 in stage 98.0 (TID 64)\n",
      "24/12/07 16:38:03 INFO TaskSetManager: Finished task 0.0 in stage 98.0 (TID 63) in 125 ms on c110709c2f0f (executor driver) (1/4)\n",
      "24/12/07 16:38:03 INFO ShuffleBlockFetcherIterator: Getting 4 (22.8 KiB) non-empty blocks including 4 (22.8 KiB) local and 0 (0.0 B) host-local and 0 (0.0 B) push-merged-local and 0 (0.0 B) remote blocks\n",
      "24/12/07 16:38:03 INFO ShuffleBlockFetcherIterator: Started 0 remote fetches in 0 ms\n",
      "24/12/07 16:38:03 INFO MemoryStore: Block rdd_149_1 stored as values in memory (estimated size 39.6 KiB, free 176.1 MiB)\n",
      "24/12/07 16:38:03 INFO BlockManagerInfo: Added rdd_149_1 in memory on c110709c2f0f:46049 (size: 39.6 KiB, free: 194.0 MiB)\n",
      "24/12/07 16:38:03 INFO Executor: Finished task 1.0 in stage 98.0 (TID 64). 1747 bytes result sent to driver\n",
      "24/12/07 16:38:03 INFO TaskSetManager: Finished task 1.0 in stage 98.0 (TID 64) in 77 ms on c110709c2f0f (executor driver) (2/4)\n",
      "24/12/07 16:38:03 INFO TaskSetManager: Starting task 2.0 in stage 98.0 (TID 65) (c110709c2f0f, executor driver, partition 2, NODE_LOCAL, 7181 bytes) \n",
      "24/12/07 16:38:03 INFO Executor: Running task 2.0 in stage 98.0 (TID 65)\n",
      "24/12/07 16:38:03 INFO ShuffleBlockFetcherIterator: Getting 4 (22.8 KiB) non-empty blocks including 4 (22.8 KiB) local and 0 (0.0 B) host-local and 0 (0.0 B) push-merged-local and 0 (0.0 B) remote blocks\n",
      "24/12/07 16:38:03 INFO ShuffleBlockFetcherIterator: Started 0 remote fetches in 0 ms\n",
      "24/12/07 16:38:03 INFO MemoryStore: Block rdd_149_2 stored as values in memory (estimated size 38.8 KiB, free 176.1 MiB)\n",
      "24/12/07 16:38:03 INFO BlockManagerInfo: Added rdd_149_2 in memory on c110709c2f0f:46049 (size: 38.8 KiB, free: 194.0 MiB)\n",
      "24/12/07 16:38:03 INFO Executor: Finished task 2.0 in stage 98.0 (TID 65). 1747 bytes result sent to driver\n",
      "24/12/07 16:38:03 INFO TaskSetManager: Starting task 3.0 in stage 98.0 (TID 66) (c110709c2f0f, executor driver, partition 3, NODE_LOCAL, 7181 bytes) \n",
      "24/12/07 16:38:03 INFO TaskSetManager: Finished task 2.0 in stage 98.0 (TID 65) in 70 ms on c110709c2f0f (executor driver) (3/4)\n",
      "24/12/07 16:38:03 INFO Executor: Running task 3.0 in stage 98.0 (TID 66)\n",
      "24/12/07 16:38:03 INFO ShuffleBlockFetcherIterator: Getting 4 (24.5 KiB) non-empty blocks including 4 (24.5 KiB) local and 0 (0.0 B) host-local and 0 (0.0 B) push-merged-local and 0 (0.0 B) remote blocks\n",
      "24/12/07 16:38:03 INFO ShuffleBlockFetcherIterator: Started 0 remote fetches in 1 ms\n",
      "24/12/07 16:38:03 INFO MemoryStore: Block rdd_149_3 stored as values in memory (estimated size 39.6 KiB, free 176.0 MiB)\n",
      "24/12/07 16:38:03 INFO BlockManagerInfo: Added rdd_149_3 in memory on c110709c2f0f:46049 (size: 39.6 KiB, free: 193.9 MiB)\n",
      "24/12/07 16:38:03 INFO Executor: Finished task 3.0 in stage 98.0 (TID 66). 1747 bytes result sent to driver\n",
      "24/12/07 16:38:03 INFO TaskSetManager: Finished task 3.0 in stage 98.0 (TID 66) in 59 ms on c110709c2f0f (executor driver) (4/4)\n",
      "24/12/07 16:38:03 INFO TaskSchedulerImpl: Removed TaskSet 98.0, whose tasks have all completed, from pool \n",
      "24/12/07 16:38:03 INFO DAGScheduler: ResultStage 98 (count at CountVectorizer.scala:233) finished in 0.365 s\n",
      "24/12/07 16:38:03 INFO DAGScheduler: Job 25 is finished. Cancelling potential speculative or zombie tasks for this job\n",
      "24/12/07 16:38:03 INFO TaskSchedulerImpl: Killing all running tasks in stage 98: Stage finished\n",
      "24/12/07 16:38:03 INFO DAGScheduler: Job 25 finished: count at CountVectorizer.scala:233, took 9.695561 s\n",
      "24/12/07 16:38:03 INFO SparkContext: Starting job: top at CountVectorizer.scala:236\n",
      "24/12/07 16:38:03 INFO DAGScheduler: Got job 26 (top at CountVectorizer.scala:236) with 4 output partitions\n",
      "24/12/07 16:38:03 INFO DAGScheduler: Final stage: ResultStage 104 (top at CountVectorizer.scala:236)\n",
      "24/12/07 16:38:03 INFO DAGScheduler: Parents of final stage: List(ShuffleMapStage 103)\n",
      "24/12/07 16:38:03 INFO DAGScheduler: Missing parents: List()\n",
      "24/12/07 16:38:03 INFO DAGScheduler: Submitting ResultStage 104 (MapPartitionsRDD[150] at top at CountVectorizer.scala:236), which has no missing parents\n",
      "24/12/07 16:38:03 INFO MemoryStore: Block broadcast_45 stored as values in memory (estimated size 7.0 KiB, free 176.0 MiB)\n",
      "24/12/07 16:38:03 INFO MemoryStore: Block broadcast_45_piece0 stored as bytes in memory (estimated size 3.6 KiB, free 176.0 MiB)\n",
      "24/12/07 16:38:03 INFO BlockManagerInfo: Added broadcast_45_piece0 in memory on c110709c2f0f:46049 (size: 3.6 KiB, free: 193.9 MiB)\n",
      "24/12/07 16:38:03 INFO SparkContext: Created broadcast 45 from broadcast at DAGScheduler.scala:1540\n",
      "24/12/07 16:38:03 INFO DAGScheduler: Submitting 4 missing tasks from ResultStage 104 (MapPartitionsRDD[150] at top at CountVectorizer.scala:236) (first 15 tasks are for partitions Vector(0, 1, 2, 3))\n",
      "24/12/07 16:38:03 INFO TaskSchedulerImpl: Adding task set 104.0 with 4 tasks resource profile 0\n",
      "24/12/07 16:38:03 INFO TaskSetManager: Starting task 0.0 in stage 104.0 (TID 67) (c110709c2f0f, executor driver, partition 0, PROCESS_LOCAL, 7181 bytes) \n",
      "24/12/07 16:38:03 INFO Executor: Running task 0.0 in stage 104.0 (TID 67)\n",
      "24/12/07 16:38:03 INFO BlockManager: Found block rdd_149_0 locally\n",
      "24/12/07 16:38:03 INFO Executor: Finished task 0.0 in stage 104.0 (TID 67). 13808 bytes result sent to driver\n",
      "24/12/07 16:38:03 INFO TaskSetManager: Starting task 1.0 in stage 104.0 (TID 68) (c110709c2f0f, executor driver, partition 1, PROCESS_LOCAL, 7181 bytes) \n",
      "24/12/07 16:38:03 INFO Executor: Running task 1.0 in stage 104.0 (TID 68)\n",
      "24/12/07 16:38:03 INFO TaskSetManager: Finished task 0.0 in stage 104.0 (TID 67) in 42 ms on c110709c2f0f (executor driver) (1/4)\n",
      "24/12/07 16:38:03 INFO BlockManager: Found block rdd_149_1 locally\n",
      "24/12/07 16:38:03 INFO Executor: Finished task 1.0 in stage 104.0 (TID 68). 13322 bytes result sent to driver\n",
      "24/12/07 16:38:03 INFO TaskSetManager: Starting task 2.0 in stage 104.0 (TID 69) (c110709c2f0f, executor driver, partition 2, PROCESS_LOCAL, 7181 bytes) \n",
      "24/12/07 16:38:03 INFO Executor: Running task 2.0 in stage 104.0 (TID 69)\n",
      "24/12/07 16:38:03 INFO TaskSetManager: Finished task 1.0 in stage 104.0 (TID 68) in 40 ms on c110709c2f0f (executor driver) (2/4)\n",
      "24/12/07 16:38:03 INFO BlockManager: Found block rdd_149_2 locally\n",
      "24/12/07 16:38:03 INFO Executor: Finished task 2.0 in stage 104.0 (TID 69). 12806 bytes result sent to driver\n",
      "24/12/07 16:38:03 INFO TaskSetManager: Starting task 3.0 in stage 104.0 (TID 70) (c110709c2f0f, executor driver, partition 3, PROCESS_LOCAL, 7181 bytes) \n",
      "24/12/07 16:38:03 INFO TaskSetManager: Finished task 2.0 in stage 104.0 (TID 69) in 38 ms on c110709c2f0f (executor driver) (3/4)\n",
      "24/12/07 16:38:03 INFO Executor: Running task 3.0 in stage 104.0 (TID 70)\n",
      "24/12/07 16:38:03 INFO BlockManager: Found block rdd_149_3 locally\n",
      "24/12/07 16:38:03 INFO Executor: Finished task 3.0 in stage 104.0 (TID 70). 13940 bytes result sent to driver\n",
      "24/12/07 16:38:03 INFO TaskSetManager: Finished task 3.0 in stage 104.0 (TID 70) in 23 ms on c110709c2f0f (executor driver) (4/4)\n",
      "24/12/07 16:38:03 INFO TaskSchedulerImpl: Removed TaskSet 104.0, whose tasks have all completed, from pool \n",
      "24/12/07 16:38:03 INFO DAGScheduler: ResultStage 104 (top at CountVectorizer.scala:236) finished in 0.144 s\n",
      "24/12/07 16:38:03 INFO DAGScheduler: Job 26 is finished. Cancelling potential speculative or zombie tasks for this job\n",
      "24/12/07 16:38:03 INFO TaskSchedulerImpl: Killing all running tasks in stage 104: Stage finished\n",
      "24/12/07 16:38:03 INFO DAGScheduler: Job 26 finished: top at CountVectorizer.scala:236, took 0.158233 s\n",
      "24/12/07 16:38:03 INFO MapPartitionsRDD: Removing RDD 149 from persistence list\n",
      "24/12/07 16:38:03 INFO BlockManager: Removing RDD 149\n",
      "24/12/07 16:38:03 INFO MemoryStore: Block broadcast_46 stored as values in memory (estimated size 231.7 KiB, free 176.0 MiB)\n",
      "24/12/07 16:38:03 INFO MemoryStore: Block broadcast_46_piece0 stored as bytes in memory (estimated size 19.1 KiB, free 175.9 MiB)\n",
      "24/12/07 16:38:03 INFO BlockManagerInfo: Added broadcast_46_piece0 in memory on c110709c2f0f:46049 (size: 19.1 KiB, free: 194.1 MiB)\n",
      "24/12/07 16:38:03 INFO SparkContext: Created broadcast 46 from broadcast at CountVectorizer.scala:309\n",
      "24/12/07 16:38:04 INFO CodeGenerator: Code generated in 68.823882 ms\n",
      "24/12/07 16:38:04 INFO SparkContext: Starting job: showString at NativeMethodAccessorImpl.java:0\n",
      "24/12/07 16:38:04 INFO DAGScheduler: Got job 27 (showString at NativeMethodAccessorImpl.java:0) with 1 output partitions\n",
      "24/12/07 16:38:04 INFO DAGScheduler: Final stage: ResultStage 109 (showString at NativeMethodAccessorImpl.java:0)\n",
      "24/12/07 16:38:04 INFO DAGScheduler: Parents of final stage: List(ShuffleMapStage 107, ShuffleMapStage 108)\n",
      "24/12/07 16:38:04 INFO DAGScheduler: Missing parents: List()\n",
      "24/12/07 16:38:04 INFO DAGScheduler: Submitting ResultStage 109 (MapPartitionsRDD[155] at showString at NativeMethodAccessorImpl.java:0), which has no missing parents\n",
      "24/12/07 16:38:04 INFO MemoryStore: Block broadcast_47 stored as values in memory (estimated size 116.8 KiB, free 175.8 MiB)\n",
      "24/12/07 16:38:04 INFO MemoryStore: Block broadcast_47_piece0 stored as bytes in memory (estimated size 53.4 KiB, free 175.8 MiB)\n",
      "24/12/07 16:38:04 INFO BlockManagerInfo: Added broadcast_47_piece0 in memory on c110709c2f0f:46049 (size: 53.4 KiB, free: 194.0 MiB)\n",
      "24/12/07 16:38:04 INFO SparkContext: Created broadcast 47 from broadcast at DAGScheduler.scala:1540\n",
      "24/12/07 16:38:04 INFO DAGScheduler: Submitting 1 missing tasks from ResultStage 109 (MapPartitionsRDD[155] at showString at NativeMethodAccessorImpl.java:0) (first 15 tasks are for partitions Vector(0))\n",
      "24/12/07 16:38:04 INFO TaskSchedulerImpl: Adding task set 109.0 with 1 tasks resource profile 0\n",
      "24/12/07 16:38:04 INFO TaskSetManager: Starting task 0.0 in stage 109.0 (TID 71) (c110709c2f0f, executor driver, partition 0, PROCESS_LOCAL, 7645 bytes) \n",
      "24/12/07 16:38:04 INFO Executor: Running task 0.0 in stage 109.0 (TID 71)\n",
      "24/12/07 16:38:04 INFO BlockManager: Found block rdd_119_0 locally\n",
      "24/12/07 16:38:04 INFO CodeGenerator: Code generated in 12.10141 ms\n"
     ]
    },
    {
     "name": "stdout",
     "output_type": "stream",
     "text": [
      "+----------------------+----------------------+-----------+----------------------------------------+----------------+---------+----------+----------------------------------------------------------------+------------------------------------------------------+----------+----------------------+----------------------+-------------------+-----------------------------------------------------------------------------------------------------------+------------+------+---+--------+-----------+------------+----------------+--------+-------+-------+--------------+-------------------+------------------------+\n",
      "|album_id              |artist_id             |artist_name|album_name                              |genres          |followers|popularity|link_image                                                      |url                                                   |album_type|release_date_precision|track_id              |name               |preview                                                                                                    |danceability|energy|key|loudness|speechiness|acousticness|instrumentalness|liveness|valence|tempo  |time_signature|tokens             |raw_features            |\n",
      "+----------------------+----------------------+-----------+----------------------------------------+----------------+---------+----------+----------------------------------------------------------------+------------------------------------------------------+----------+----------------------+----------------------+-------------------+-----------------------------------------------------------------------------------------------------------+------------+------+---+--------+-----------+------------+----------------+--------+-------+-------+--------------+-------------------+------------------------+\n",
      "|000LYwpRfBAlh4aFMYLsep|1dVygo6tRFXC8CSWURQJq2|Sonu Nigam |Sonu Nigam Kannada Hits Birthday Special|modern bollywood|18221992 |77        |https://i.scdn.co/image/ab6761610000e5ebbc959d7569618ec2af2210f5|https://open.spotify.com/artist/1dVygo6tRFXC8CSWURQJq2|album     |day                   |49Rok6gqXzoDQDojE89LZX|Neeli Neeli        |https://p.scdn.co/mp3-preview/5e824e01bbf19e14a57a1ab0bc4e460d5bd6f915?cid=05e2ff0a21954615b11878a9eb038e7f|0.746       |0.677 |7  |-6.975  |0.123      |0.651       |0.0             |0.124   |0.833  |91.943 |4             |[modern, bollywood]|(1676,[22,75],[1.0,1.0])|\n",
      "|000LYwpRfBAlh4aFMYLsep|1dVygo6tRFXC8CSWURQJq2|Sonu Nigam |Sonu Nigam Kannada Hits Birthday Special|modern bollywood|18221992 |77        |https://i.scdn.co/image/ab6761610000e5ebbc959d7569618ec2af2210f5|https://open.spotify.com/artist/1dVygo6tRFXC8CSWURQJq2|album     |day                   |7cJiDhNrCCImpIjSWOjKr5|Beladingala Raatri |https://p.scdn.co/mp3-preview/e04d3bb24a5722135782e6e511caac25a584f0bc?cid=05e2ff0a21954615b11878a9eb038e7f|0.528       |0.402 |7  |-6.236  |0.034      |0.675       |0.0             |0.349   |0.548  |149.762|3             |[modern, bollywood]|(1676,[22,75],[1.0,1.0])|\n",
      "|000LYwpRfBAlh4aFMYLsep|1dVygo6tRFXC8CSWURQJq2|Sonu Nigam |Sonu Nigam Kannada Hits Birthday Special|modern bollywood|18221992 |77        |https://i.scdn.co/image/ab6761610000e5ebbc959d7569618ec2af2210f5|https://open.spotify.com/artist/1dVygo6tRFXC8CSWURQJq2|album     |day                   |436eyq4pGkP6yhfy6dC9SI|Nannavalu Nannavalu|https://p.scdn.co/mp3-preview/3250f4554dac772bb44292f34a9beee6243324f7?cid=05e2ff0a21954615b11878a9eb038e7f|0.686       |0.588 |5  |-11.361 |0.0998     |0.458       |0.0             |0.236   |0.806  |173.879|4             |[modern, bollywood]|(1676,[22,75],[1.0,1.0])|\n",
      "+----------------------+----------------------+-----------+----------------------------------------+----------------+---------+----------+----------------------------------------------------------------+------------------------------------------------------+----------+----------------------+----------------------+-------------------+-----------------------------------------------------------------------------------------------------------+------------+------+---+--------+-----------+------------+----------------+--------+-------+-------+--------------+-------------------+------------------------+\n",
      "only showing top 3 rows\n",
      "\n"
     ]
    },
    {
     "name": "stderr",
     "output_type": "stream",
     "text": [
      "24/12/07 16:38:04 INFO CodeGenerator: Code generated in 15.071614 ms\n",
      "24/12/07 16:38:04 INFO Executor: 1 block locks were not released by task 0.0 in stage 109.0 (TID 71)\n",
      "[rdd_119_0]\n",
      "24/12/07 16:38:04 INFO Executor: Finished task 0.0 in stage 109.0 (TID 71). 12201 bytes result sent to driver\n",
      "24/12/07 16:38:04 INFO TaskSetManager: Finished task 0.0 in stage 109.0 (TID 71) in 166 ms on c110709c2f0f (executor driver) (1/1)\n",
      "24/12/07 16:38:04 INFO TaskSchedulerImpl: Removed TaskSet 109.0, whose tasks have all completed, from pool \n",
      "24/12/07 16:38:04 INFO DAGScheduler: ResultStage 109 (showString at NativeMethodAccessorImpl.java:0) finished in 0.219 s\n",
      "24/12/07 16:38:04 INFO DAGScheduler: Job 27 is finished. Cancelling potential speculative or zombie tasks for this job\n",
      "24/12/07 16:38:04 INFO TaskSchedulerImpl: Killing all running tasks in stage 109: Stage finished\n",
      "24/12/07 16:38:04 INFO DAGScheduler: Job 27 finished: showString at NativeMethodAccessorImpl.java:0, took 0.236423 s\n",
      "24/12/07 16:38:04 INFO CodeGenerator: Code generated in 17.868024 ms\n"
     ]
    }
   ],
   "source": [
    "from pyspark.ml.feature import Tokenizer, CountVectorizer\n",
    "\n",
    "# Tokennize the word in genres column\n",
    "tokenizer = Tokenizer(inputCol=\"genres\", outputCol=\"tokens\")\n",
    "tracks_for_cbf = tokenizer.transform(tracks_for_cbf)\n",
    "\n",
    "# Apply CountVectorizer to the tokenized data to count the appearance of those unique word of genres\n",
    "cv = CountVectorizer(inputCol = \"tokens\", outputCol = \"raw_features\")\n",
    "cv_model = cv.fit(tracks_for_cbf)\n",
    "tracks_for_cbf = cv_model.transform(tracks_for_cbf)\n",
    "tracks_for_cbf.show(3, truncate = False)"
   ]
  },
  {
   "cell_type": "markdown",
   "metadata": {},
   "source": [
    "- Combine column that after applying CountVectorizer for genres columns is raw_features with those features columns like danceability, acousticness, tempo, ... so on"
   ]
  },
  {
   "cell_type": "code",
   "execution_count": 20,
   "metadata": {},
   "outputs": [
    {
     "name": "stderr",
     "output_type": "stream",
     "text": [
      "24/12/07 16:38:20 INFO CodeGenerator: Code generated in 150.301547 ms\n",
      "24/12/07 16:38:20 INFO SparkContext: Starting job: showString at NativeMethodAccessorImpl.java:0\n",
      "24/12/07 16:38:20 INFO DAGScheduler: Got job 28 (showString at NativeMethodAccessorImpl.java:0) with 1 output partitions\n",
      "24/12/07 16:38:20 INFO DAGScheduler: Final stage: ResultStage 114 (showString at NativeMethodAccessorImpl.java:0)\n",
      "24/12/07 16:38:20 INFO DAGScheduler: Parents of final stage: List(ShuffleMapStage 112, ShuffleMapStage 113)\n",
      "24/12/07 16:38:20 INFO DAGScheduler: Missing parents: List()\n",
      "24/12/07 16:38:20 INFO DAGScheduler: Submitting ResultStage 114 (MapPartitionsRDD[160] at showString at NativeMethodAccessorImpl.java:0), which has no missing parents\n",
      "24/12/07 16:38:20 INFO MemoryStore: Block broadcast_48 stored as values in memory (estimated size 139.0 KiB, free 175.6 MiB)\n",
      "24/12/07 16:38:20 INFO MemoryStore: Block broadcast_48_piece0 stored as bytes in memory (estimated size 59.3 KiB, free 175.6 MiB)\n",
      "24/12/07 16:38:20 INFO BlockManagerInfo: Added broadcast_48_piece0 in memory on c110709c2f0f:46049 (size: 59.3 KiB, free: 194.0 MiB)\n",
      "24/12/07 16:38:20 INFO SparkContext: Created broadcast 48 from broadcast at DAGScheduler.scala:1540\n",
      "24/12/07 16:38:20 INFO DAGScheduler: Submitting 1 missing tasks from ResultStage 114 (MapPartitionsRDD[160] at showString at NativeMethodAccessorImpl.java:0) (first 15 tasks are for partitions Vector(0))\n",
      "24/12/07 16:38:20 INFO TaskSchedulerImpl: Adding task set 114.0 with 1 tasks resource profile 0\n",
      "24/12/07 16:38:20 INFO TaskSetManager: Starting task 0.0 in stage 114.0 (TID 72) (c110709c2f0f, executor driver, partition 0, PROCESS_LOCAL, 7645 bytes) \n",
      "24/12/07 16:38:20 INFO Executor: Running task 0.0 in stage 114.0 (TID 72)\n",
      "24/12/07 16:38:20 INFO BlockManager: Found block rdd_119_0 locally\n",
      "24/12/07 16:38:20 INFO Executor: 1 block locks were not released by task 0.0 in stage 114.0 (TID 72)\n",
      "[rdd_119_0]\n",
      "24/12/07 16:38:20 INFO Executor: Finished task 0.0 in stage 114.0 (TID 72). 13463 bytes result sent to driver\n",
      "24/12/07 16:38:20 INFO TaskSetManager: Finished task 0.0 in stage 114.0 (TID 72) in 67 ms on c110709c2f0f (executor driver) (1/1)\n",
      "24/12/07 16:38:20 INFO DAGScheduler: ResultStage 114 (showString at NativeMethodAccessorImpl.java:0) finished in 0.116 s\n",
      "24/12/07 16:38:20 INFO DAGScheduler: Job 28 is finished. Cancelling potential speculative or zombie tasks for this job\n",
      "24/12/07 16:38:20 INFO TaskSchedulerImpl: Removed TaskSet 114.0, whose tasks have all completed, from pool \n",
      "24/12/07 16:38:20 INFO TaskSchedulerImpl: Killing all running tasks in stage 114: Stage finished\n",
      "24/12/07 16:38:20 INFO DAGScheduler: Job 28 finished: showString at NativeMethodAccessorImpl.java:0, took 0.125453 s\n"
     ]
    },
    {
     "name": "stdout",
     "output_type": "stream",
     "text": [
      "+----------------------+----------------------+-----------+----------------------------------------+----------------+---------+----------+----------------------------------------------------------------+------------------------------------------------------+----------+----------------------+----------------------+-------------------+-----------------------------------------------------------------------------------------------------------+------------+------+---+--------+-----------+------------+----------------+--------+-------+-------+--------------+-------------------+------------------------+-------------------------------------------------------------------------------------------------------------------------------------------------------------------------------------------------------------------------------------------------------------+\n",
      "|album_id              |artist_id             |artist_name|album_name                              |genres          |followers|popularity|link_image                                                      |url                                                   |album_type|release_date_precision|track_id              |name               |preview                                                                                                    |danceability|energy|key|loudness|speechiness|acousticness|instrumentalness|liveness|valence|tempo  |time_signature|tokens             |raw_features            |combined_features                                                                                                                                                                                                                                            |\n",
      "+----------------------+----------------------+-----------+----------------------------------------+----------------+---------+----------+----------------------------------------------------------------+------------------------------------------------------+----------+----------------------+----------------------+-------------------+-----------------------------------------------------------------------------------------------------------+------------+------+---+--------+-----------+------------+----------------+--------+-------+-------+--------------+-------------------+------------------------+-------------------------------------------------------------------------------------------------------------------------------------------------------------------------------------------------------------------------------------------------------------+\n",
      "|000LYwpRfBAlh4aFMYLsep|1dVygo6tRFXC8CSWURQJq2|Sonu Nigam |Sonu Nigam Kannada Hits Birthday Special|modern bollywood|18221992 |77        |https://i.scdn.co/image/ab6761610000e5ebbc959d7569618ec2af2210f5|https://open.spotify.com/artist/1dVygo6tRFXC8CSWURQJq2|album     |day                   |49Rok6gqXzoDQDojE89LZX|Neeli Neeli        |https://p.scdn.co/mp3-preview/5e824e01bbf19e14a57a1ab0bc4e460d5bd6f915?cid=05e2ff0a21954615b11878a9eb038e7f|0.746       |0.677 |7  |-6.975  |0.123      |0.651       |0.0             |0.124   |0.833  |91.943 |4             |[modern, bollywood]|(1676,[22,75],[1.0,1.0])|(1686,[22,75,1676,1677,1678,1679,1681,1682,1683,1684,1685],[1.0,1.0,7.0,-6.974999904632568,0.12300000339746475,0.12399999797344208,0.8330000042915344,0.6769999861717224,0.7459999918937683,0.6510000228881836,91.94300079345703])                           |\n",
      "|000LYwpRfBAlh4aFMYLsep|1dVygo6tRFXC8CSWURQJq2|Sonu Nigam |Sonu Nigam Kannada Hits Birthday Special|modern bollywood|18221992 |77        |https://i.scdn.co/image/ab6761610000e5ebbc959d7569618ec2af2210f5|https://open.spotify.com/artist/1dVygo6tRFXC8CSWURQJq2|album     |day                   |7cJiDhNrCCImpIjSWOjKr5|Beladingala Raatri |https://p.scdn.co/mp3-preview/e04d3bb24a5722135782e6e511caac25a584f0bc?cid=05e2ff0a21954615b11878a9eb038e7f|0.528       |0.402 |7  |-6.236  |0.034      |0.675       |0.0             |0.349   |0.548  |149.762|3             |[modern, bollywood]|(1676,[22,75],[1.0,1.0])|(1686,[22,75,1676,1677,1678,1679,1681,1682,1683,1684,1685],[1.0,1.0,7.0,-6.236000061035156,0.03400000184774399,0.3490000069141388,0.5479999780654907,0.4020000100135803,0.527999997138977,0.675000011920929,149.76199340820312])                             |\n",
      "|000LYwpRfBAlh4aFMYLsep|1dVygo6tRFXC8CSWURQJq2|Sonu Nigam |Sonu Nigam Kannada Hits Birthday Special|modern bollywood|18221992 |77        |https://i.scdn.co/image/ab6761610000e5ebbc959d7569618ec2af2210f5|https://open.spotify.com/artist/1dVygo6tRFXC8CSWURQJq2|album     |day                   |436eyq4pGkP6yhfy6dC9SI|Nannavalu Nannavalu|https://p.scdn.co/mp3-preview/3250f4554dac772bb44292f34a9beee6243324f7?cid=05e2ff0a21954615b11878a9eb038e7f|0.686       |0.588 |5  |-11.361 |0.0998     |0.458       |0.0             |0.236   |0.806  |173.879|4             |[modern, bollywood]|(1676,[22,75],[1.0,1.0])|(1686,[22,75,1676,1677,1678,1679,1681,1682,1683,1684,1685],[1.0,1.0,5.0,-11.361000061035156,0.0997999981045723,0.23600000143051147,0.8059999942779541,0.5879999995231628,0.6859999895095825,0.4580000042915344,173.87899780273438])                          |\n",
      "|000LYwpRfBAlh4aFMYLsep|1dVygo6tRFXC8CSWURQJq2|Sonu Nigam |Sonu Nigam Kannada Hits Birthday Special|modern bollywood|18221992 |77        |https://i.scdn.co/image/ab6761610000e5ebbc959d7569618ec2af2210f5|https://open.spotify.com/artist/1dVygo6tRFXC8CSWURQJq2|album     |day                   |43rGRbdULW6J93E7Xn90xO|O Manase           |https://p.scdn.co/mp3-preview/fbe03d6a6865a6ac7e5680831041c090a367df69?cid=05e2ff0a21954615b11878a9eb038e7f|0.653       |0.546 |2  |-6.986  |0.0319     |0.338       |8.01E-5         |0.139   |0.434  |90.015 |4             |[modern, bollywood]|(1676,[22,75],[1.0,1.0])|(1686,[22,75,1676,1677,1678,1679,1680,1681,1682,1683,1684,1685],[1.0,1.0,2.0,-6.986000061035156,0.03189999982714653,0.13899999856948853,8.009999874047935E-5,0.4339999854564667,0.5460000038146973,0.652999997138977,0.33799999952316284,90.01499938964844]) |\n",
      "|000LYwpRfBAlh4aFMYLsep|1dVygo6tRFXC8CSWURQJq2|Sonu Nigam |Sonu Nigam Kannada Hits Birthday Special|modern bollywood|18221992 |77        |https://i.scdn.co/image/ab6761610000e5ebbc959d7569618ec2af2210f5|https://open.spotify.com/artist/1dVygo6tRFXC8CSWURQJq2|album     |day                   |5DPg7CrZJ7v2ow6t2F0mxk|Thusu Preethiya    |https://p.scdn.co/mp3-preview/e8a96cdf469ecf0659295141fbead481005911c4?cid=05e2ff0a21954615b11878a9eb038e7f|0.447       |0.651 |4  |-7.143  |0.0423     |0.509       |0.00321         |0.138   |0.377  |80.217 |4             |[modern, bollywood]|(1676,[22,75],[1.0,1.0])|(1686,[22,75,1676,1677,1678,1679,1680,1681,1682,1683,1684,1685],[1.0,1.0,4.0,-7.14300012588501,0.04230000078678131,0.1379999965429306,0.0032099999953061342,0.37700000405311584,0.6510000228881836,0.44699999690055847,0.5090000033378601,80.21700286865234])|\n",
      "+----------------------+----------------------+-----------+----------------------------------------+----------------+---------+----------+----------------------------------------------------------------+------------------------------------------------------+----------+----------------------+----------------------+-------------------+-----------------------------------------------------------------------------------------------------------+------------+------+---+--------+-----------+------------+----------------+--------+-------+-------+--------------+-------------------+------------------------+-------------------------------------------------------------------------------------------------------------------------------------------------------------------------------------------------------------------------------------------------------------+\n",
      "only showing top 5 rows\n",
      "\n"
     ]
    }
   ],
   "source": [
    "from pyspark.ml.feature import VectorAssembler\n",
    "\n",
    "# Columns need to be combined\n",
    "cols_combined = ['raw_features', 'key', 'loudness', 'speechiness', 'liveness', 'instrumentalness', 'valence', 'energy', 'danceability', 'acousticness', 'tempo']\n",
    "\n",
    "# Assemble features (combine genre features and numerical features)\n",
    "assembler = VectorAssembler(inputCols = cols_combined, outputCol = \"combined_features\")\n",
    "tracks_for_cbf = assembler.transform(tracks_for_cbf)\n",
    "tracks_for_cbf.show(5, truncate = False)"
   ]
  },
  {
   "cell_type": "markdown",
   "metadata": {},
   "source": [
    "- Normalizing the combined columns above to range (0, 1) to the model will not be biased 1 way "
   ]
  },
  {
   "cell_type": "code",
   "execution_count": 21,
   "metadata": {},
   "outputs": [
    {
     "name": "stderr",
     "output_type": "stream",
     "text": [
      "24/12/07 16:38:32 INFO CodeGenerator: Code generated in 66.898489 ms\n",
      "24/12/07 16:38:32 INFO SparkContext: Starting job: showString at NativeMethodAccessorImpl.java:0\n",
      "24/12/07 16:38:32 INFO DAGScheduler: Got job 29 (showString at NativeMethodAccessorImpl.java:0) with 1 output partitions\n",
      "24/12/07 16:38:32 INFO DAGScheduler: Final stage: ResultStage 119 (showString at NativeMethodAccessorImpl.java:0)\n",
      "24/12/07 16:38:32 INFO DAGScheduler: Parents of final stage: List(ShuffleMapStage 117, ShuffleMapStage 118)\n",
      "24/12/07 16:38:32 INFO DAGScheduler: Missing parents: List()\n",
      "24/12/07 16:38:32 INFO DAGScheduler: Submitting ResultStage 119 (MapPartitionsRDD[165] at showString at NativeMethodAccessorImpl.java:0), which has no missing parents\n",
      "24/12/07 16:38:32 INFO MemoryStore: Block broadcast_49 stored as values in memory (estimated size 143.6 KiB, free 175.4 MiB)\n",
      "24/12/07 16:38:32 INFO MemoryStore: Block broadcast_49_piece0 stored as bytes in memory (estimated size 60.3 KiB, free 175.4 MiB)\n",
      "24/12/07 16:38:32 INFO BlockManagerInfo: Added broadcast_49_piece0 in memory on c110709c2f0f:46049 (size: 60.3 KiB, free: 193.9 MiB)\n",
      "24/12/07 16:38:32 INFO SparkContext: Created broadcast 49 from broadcast at DAGScheduler.scala:1540\n",
      "24/12/07 16:38:32 INFO DAGScheduler: Submitting 1 missing tasks from ResultStage 119 (MapPartitionsRDD[165] at showString at NativeMethodAccessorImpl.java:0) (first 15 tasks are for partitions Vector(0))\n",
      "24/12/07 16:38:32 INFO TaskSchedulerImpl: Adding task set 119.0 with 1 tasks resource profile 0\n",
      "24/12/07 16:38:32 INFO TaskSetManager: Starting task 0.0 in stage 119.0 (TID 73) (c110709c2f0f, executor driver, partition 0, PROCESS_LOCAL, 7645 bytes) \n",
      "24/12/07 16:38:32 INFO Executor: Running task 0.0 in stage 119.0 (TID 73)\n",
      "24/12/07 16:38:32 INFO BlockManager: Found block rdd_119_0 locally\n",
      "24/12/07 16:38:32 INFO CodeGenerator: Code generated in 13.813914 ms\n",
      "24/12/07 16:38:32 INFO Executor: 1 block locks were not released by task 0.0 in stage 119.0 (TID 73)\n",
      "[rdd_119_0]\n",
      "24/12/07 16:38:32 INFO Executor: Finished task 0.0 in stage 119.0 (TID 73). 14711 bytes result sent to driver\n",
      "24/12/07 16:38:32 INFO TaskSetManager: Finished task 0.0 in stage 119.0 (TID 73) in 89 ms on c110709c2f0f (executor driver) (1/1)\n",
      "24/12/07 16:38:32 INFO TaskSchedulerImpl: Removed TaskSet 119.0, whose tasks have all completed, from pool \n",
      "24/12/07 16:38:32 INFO DAGScheduler: ResultStage 119 (showString at NativeMethodAccessorImpl.java:0) finished in 0.105 s\n",
      "24/12/07 16:38:32 INFO DAGScheduler: Job 29 is finished. Cancelling potential speculative or zombie tasks for this job\n",
      "24/12/07 16:38:32 INFO TaskSchedulerImpl: Killing all running tasks in stage 119: Stage finished\n",
      "24/12/07 16:38:32 INFO DAGScheduler: Job 29 finished: showString at NativeMethodAccessorImpl.java:0, took 0.116448 s\n",
      "24/12/07 16:38:32 INFO CodeGenerator: Code generated in 22.718045 ms\n"
     ]
    },
    {
     "name": "stdout",
     "output_type": "stream",
     "text": [
      "+----------------------+----------------------+-----------+----------------------------------------+----------------+---------+----------+----------------------------------------------------------------+------------------------------------------------------+----------+----------------------+----------------------+-------------------+-----------------------------------------------------------------------------------------------------------+------------+------+---+--------+-----------+------------+----------------+--------+-------+-------+--------------+-------------------+------------------------+-------------------------------------------------------------------------------------------------------------------------------------------------------------------------------------------------------------------------------------------------------------+------------------------------------------------------------------------------------------------------------------------------------------------------------------------------------------------------------------------------------------------------------------------------------------------------------------------------+\n",
      "|album_id              |artist_id             |artist_name|album_name                              |genres          |followers|popularity|link_image                                                      |url                                                   |album_type|release_date_precision|track_id              |name               |preview                                                                                                    |danceability|energy|key|loudness|speechiness|acousticness|instrumentalness|liveness|valence|tempo  |time_signature|tokens             |raw_features            |combined_features                                                                                                                                                                                                                                            |normalized_features                                                                                                                                                                                                                                                                                                           |\n",
      "+----------------------+----------------------+-----------+----------------------------------------+----------------+---------+----------+----------------------------------------------------------------+------------------------------------------------------+----------+----------------------+----------------------+-------------------+-----------------------------------------------------------------------------------------------------------+------------+------+---+--------+-----------+------------+----------------+--------+-------+-------+--------------+-------------------+------------------------+-------------------------------------------------------------------------------------------------------------------------------------------------------------------------------------------------------------------------------------------------------------+------------------------------------------------------------------------------------------------------------------------------------------------------------------------------------------------------------------------------------------------------------------------------------------------------------------------------+\n",
      "|000LYwpRfBAlh4aFMYLsep|1dVygo6tRFXC8CSWURQJq2|Sonu Nigam |Sonu Nigam Kannada Hits Birthday Special|modern bollywood|18221992 |77        |https://i.scdn.co/image/ab6761610000e5ebbc959d7569618ec2af2210f5|https://open.spotify.com/artist/1dVygo6tRFXC8CSWURQJq2|album     |day                   |49Rok6gqXzoDQDojE89LZX|Neeli Neeli        |https://p.scdn.co/mp3-preview/5e824e01bbf19e14a57a1ab0bc4e460d5bd6f915?cid=05e2ff0a21954615b11878a9eb038e7f|0.746       |0.677 |7  |-6.975  |0.123      |0.651       |0.0             |0.124   |0.833  |91.943 |4             |[modern, bollywood]|(1676,[22,75],[1.0,1.0])|(1686,[22,75,1676,1677,1678,1679,1681,1682,1683,1684,1685],[1.0,1.0,7.0,-6.974999904632568,0.12300000339746475,0.12399999797344208,0.8330000042915344,0.6769999861717224,0.7459999918937683,0.6510000228881836,91.94300079345703])                           |(1686,[22,75,1676,1677,1678,1679,1681,1682,1683,1684,1685],[0.010811392661926905,0.010811392661926905,0.07567974863348834,-0.07540946278588541,0.0013298013341483347,0.0013406126681690226,0.009005890133782574,0.007319312682621575,0.008065298838157818,0.007038216870367555,0.9940318840939208])                           |\n",
      "|000LYwpRfBAlh4aFMYLsep|1dVygo6tRFXC8CSWURQJq2|Sonu Nigam |Sonu Nigam Kannada Hits Birthday Special|modern bollywood|18221992 |77        |https://i.scdn.co/image/ab6761610000e5ebbc959d7569618ec2af2210f5|https://open.spotify.com/artist/1dVygo6tRFXC8CSWURQJq2|album     |day                   |7cJiDhNrCCImpIjSWOjKr5|Beladingala Raatri |https://p.scdn.co/mp3-preview/e04d3bb24a5722135782e6e511caac25a584f0bc?cid=05e2ff0a21954615b11878a9eb038e7f|0.528       |0.402 |7  |-6.236  |0.034      |0.675       |0.0             |0.349   |0.548  |149.762|3             |[modern, bollywood]|(1676,[22,75],[1.0,1.0])|(1686,[22,75,1676,1677,1678,1679,1681,1682,1683,1684,1685],[1.0,1.0,7.0,-6.236000061035156,0.03400000184774399,0.3490000069141388,0.5479999780654907,0.4020000100135803,0.527999997138977,0.675000011920929,149.76199340820312])                             |(1686,[22,75,1676,1677,1678,1679,1681,1682,1683,1684,1685],[0.006663726148068811,0.006663726148068811,0.04664608303648168,-0.04155499666607867,2.2656670134719949E-4,0.0023256404717499424,0.003651721782976145,0.0026788179782514187,0.0035184473871152583,0.004498015229384253,0.997972911461152])                          |\n",
      "|000LYwpRfBAlh4aFMYLsep|1dVygo6tRFXC8CSWURQJq2|Sonu Nigam |Sonu Nigam Kannada Hits Birthday Special|modern bollywood|18221992 |77        |https://i.scdn.co/image/ab6761610000e5ebbc959d7569618ec2af2210f5|https://open.spotify.com/artist/1dVygo6tRFXC8CSWURQJq2|album     |day                   |436eyq4pGkP6yhfy6dC9SI|Nannavalu Nannavalu|https://p.scdn.co/mp3-preview/3250f4554dac772bb44292f34a9beee6243324f7?cid=05e2ff0a21954615b11878a9eb038e7f|0.686       |0.588 |5  |-11.361 |0.0998     |0.458       |0.0             |0.236   |0.806  |173.879|4             |[modern, bollywood]|(1676,[22,75],[1.0,1.0])|(1686,[22,75,1676,1677,1678,1679,1681,1682,1683,1684,1685],[1.0,1.0,5.0,-11.361000061035156,0.0997999981045723,0.23600000143051147,0.8059999942779541,0.5879999995231628,0.6859999895095825,0.4580000042915344,173.87899780273438])                          |(1686,[22,75,1676,1677,1678,1679,1681,1682,1683,1684,1685],[0.005736174614562099,0.005736174614562099,0.028680873072810496,-0.06516868014614832,5.724702156607932E-4,0.001353737217242319,0.004623356706514398,0.0033728706706272933,0.0039350157254147335,0.002627167998086432,0.997400293201544])                           |\n",
      "|000LYwpRfBAlh4aFMYLsep|1dVygo6tRFXC8CSWURQJq2|Sonu Nigam |Sonu Nigam Kannada Hits Birthday Special|modern bollywood|18221992 |77        |https://i.scdn.co/image/ab6761610000e5ebbc959d7569618ec2af2210f5|https://open.spotify.com/artist/1dVygo6tRFXC8CSWURQJq2|album     |day                   |43rGRbdULW6J93E7Xn90xO|O Manase           |https://p.scdn.co/mp3-preview/fbe03d6a6865a6ac7e5680831041c090a367df69?cid=05e2ff0a21954615b11878a9eb038e7f|0.653       |0.546 |2  |-6.986  |0.0319     |0.338       |8.01E-5         |0.139   |0.434  |90.015 |4             |[modern, bollywood]|(1676,[22,75],[1.0,1.0])|(1686,[22,75,1676,1677,1678,1679,1680,1681,1682,1683,1684,1685],[1.0,1.0,2.0,-6.986000061035156,0.03189999982714653,0.13899999856948853,8.009999874047935E-5,0.4339999854564667,0.5460000038146973,0.652999997138977,0.33799999952316284,90.01499938964844]) |(1686,[22,75,1676,1677,1678,1679,1680,1681,1682,1683,1684,1685],[0.011071168559949131,0.011071168559949131,0.022142337119898263,-0.07734318423553514,3.531702751486874E-4,0.0015388924139954957,8.868005877075601E-7,0.004804886994004014,0.006044858075965383,0.007229473037971916,0.0037420549679836623,0.9965712311665161])|\n",
      "|000LYwpRfBAlh4aFMYLsep|1dVygo6tRFXC8CSWURQJq2|Sonu Nigam |Sonu Nigam Kannada Hits Birthday Special|modern bollywood|18221992 |77        |https://i.scdn.co/image/ab6761610000e5ebbc959d7569618ec2af2210f5|https://open.spotify.com/artist/1dVygo6tRFXC8CSWURQJq2|album     |day                   |5DPg7CrZJ7v2ow6t2F0mxk|Thusu Preethiya    |https://p.scdn.co/mp3-preview/e8a96cdf469ecf0659295141fbead481005911c4?cid=05e2ff0a21954615b11878a9eb038e7f|0.447       |0.651 |4  |-7.143  |0.0423     |0.509       |0.00321         |0.138   |0.377  |80.217 |4             |[modern, bollywood]|(1676,[22,75],[1.0,1.0])|(1686,[22,75,1676,1677,1678,1679,1680,1681,1682,1683,1684,1685],[1.0,1.0,4.0,-7.14300012588501,0.04230000078678131,0.1379999965429306,0.0032099999953061342,0.37700000405311584,0.6510000228881836,0.44699999690055847,0.5090000033378601,80.21700286865234])|(1686,[22,75,1676,1677,1678,1679,1680,1681,1682,1683,1684,1685],[0.01239886226041625,0.01239886226041625,0.049595449041665,-0.08856507468698417,5.244718833708004E-4,0.001711042949073715,3.980034779773757E-5,0.004674371122430951,0.008071659615318414,0.005542291391976515,0.006311020931937539,0.9945995695118356])       |\n",
      "+----------------------+----------------------+-----------+----------------------------------------+----------------+---------+----------+----------------------------------------------------------------+------------------------------------------------------+----------+----------------------+----------------------+-------------------+-----------------------------------------------------------------------------------------------------------+------------+------+---+--------+-----------+------------+----------------+--------+-------+-------+--------------+-------------------+------------------------+-------------------------------------------------------------------------------------------------------------------------------------------------------------------------------------------------------------------------------------------------------------+------------------------------------------------------------------------------------------------------------------------------------------------------------------------------------------------------------------------------------------------------------------------------------------------------------------------------+\n",
      "only showing top 5 rows\n",
      "\n"
     ]
    }
   ],
   "source": [
    "from pyspark.ml.feature import Normalizer\n",
    "\n",
    "# Normalize the raw_features (cosine similarity requires normalized vectors)\n",
    "normalizer = Normalizer(inputCol = \"combined_features\", outputCol = \"normalized_features\", p = 2)\n",
    "tracks_for_cbf = normalizer.transform(tracks_for_cbf)\n",
    "tracks_for_cbf.show(5, truncate = False)"
   ]
  },
  {
   "cell_type": "code",
   "execution_count": 22,
   "metadata": {},
   "outputs": [
    {
     "name": "stderr",
     "output_type": "stream",
     "text": [
      "24/12/07 16:38:41 INFO CodeGenerator: Code generated in 46.515069 ms\n",
      "24/12/07 16:38:42 INFO SparkContext: Starting job: first at /tmp/ipykernel_2230/3098812298.py:1\n",
      "24/12/07 16:38:42 INFO DAGScheduler: Got job 30 (first at /tmp/ipykernel_2230/3098812298.py:1) with 1 output partitions\n",
      "24/12/07 16:38:42 INFO DAGScheduler: Final stage: ResultStage 124 (first at /tmp/ipykernel_2230/3098812298.py:1)\n",
      "24/12/07 16:38:42 INFO DAGScheduler: Parents of final stage: List(ShuffleMapStage 122, ShuffleMapStage 123)\n",
      "24/12/07 16:38:42 INFO DAGScheduler: Missing parents: List()\n",
      "24/12/07 16:38:42 INFO DAGScheduler: Submitting ResultStage 124 (MapPartitionsRDD[170] at first at /tmp/ipykernel_2230/3098812298.py:1), which has no missing parents\n",
      "24/12/07 16:38:42 INFO MemoryStore: Block broadcast_50 stored as values in memory (estimated size 133.4 KiB, free 175.3 MiB)\n",
      "24/12/07 16:38:42 INFO MemoryStore: Block broadcast_50_piece0 stored as bytes in memory (estimated size 58.4 KiB, free 175.2 MiB)\n",
      "24/12/07 16:38:42 INFO BlockManagerInfo: Added broadcast_50_piece0 in memory on c110709c2f0f:46049 (size: 58.4 KiB, free: 193.8 MiB)\n",
      "24/12/07 16:38:42 INFO SparkContext: Created broadcast 50 from broadcast at DAGScheduler.scala:1540\n",
      "24/12/07 16:38:42 INFO DAGScheduler: Submitting 1 missing tasks from ResultStage 124 (MapPartitionsRDD[170] at first at /tmp/ipykernel_2230/3098812298.py:1) (first 15 tasks are for partitions Vector(0))\n",
      "24/12/07 16:38:42 INFO TaskSchedulerImpl: Adding task set 124.0 with 1 tasks resource profile 0\n",
      "24/12/07 16:38:42 INFO TaskSetManager: Starting task 0.0 in stage 124.0 (TID 74) (c110709c2f0f, executor driver, partition 0, PROCESS_LOCAL, 7645 bytes) \n",
      "24/12/07 16:38:42 INFO Executor: Running task 0.0 in stage 124.0 (TID 74)\n",
      "24/12/07 16:38:42 INFO BlockManager: Found block rdd_119_0 locally\n",
      "24/12/07 16:38:42 INFO CodeGenerator: Code generated in 28.814902 ms\n",
      "24/12/07 16:38:42 INFO Executor: 1 block locks were not released by task 0.0 in stage 124.0 (TID 74)\n",
      "[rdd_119_0]\n",
      "24/12/07 16:38:42 INFO Executor: Finished task 0.0 in stage 124.0 (TID 74). 11092 bytes result sent to driver\n",
      "24/12/07 16:38:42 INFO TaskSetManager: Finished task 0.0 in stage 124.0 (TID 74) in 98 ms on c110709c2f0f (executor driver) (1/1)\n",
      "24/12/07 16:38:42 INFO TaskSchedulerImpl: Removed TaskSet 124.0, whose tasks have all completed, from pool \n",
      "24/12/07 16:38:42 INFO DAGScheduler: ResultStage 124 (first at /tmp/ipykernel_2230/3098812298.py:1) finished in 0.121 s\n",
      "24/12/07 16:38:42 INFO DAGScheduler: Job 30 is finished. Cancelling potential speculative or zombie tasks for this job\n",
      "24/12/07 16:38:42 INFO TaskSchedulerImpl: Killing all running tasks in stage 124: Stage finished\n",
      "24/12/07 16:38:42 INFO DAGScheduler: Job 30 finished: first at /tmp/ipykernel_2230/3098812298.py:1, took 0.139670 s\n"
     ]
    },
    {
     "data": {
      "text/plain": [
       "Row(normalized_features=SparseVector(1686, {22: 0.0087, 75: 0.0087, 1677: -0.0782, 1678: 0.0002, 1679: 0.0012, 1680: 0.0, 1681: 0.0042, 1682: 0.0035, 1683: 0.0057, 1684: 0.0072, 1685: 0.9968}))"
      ]
     },
     "execution_count": 22,
     "metadata": {},
     "output_type": "execute_result"
    }
   ],
   "source": [
    "tracks_for_cbf.filter(F.lower(col(\"name\")).contains(\"Nenape\".lower())).select(\"normalized_features\").first()"
   ]
  },
  {
   "cell_type": "code",
   "execution_count": 23,
   "metadata": {},
   "outputs": [
    {
     "data": {
      "text/plain": [
       "DataFrame[album_id: string, artist_id: string, artist_name: string, album_name: string, genres: string, followers: int, popularity: int, link_image: string, url: string, album_type: string, release_date_precision: string, track_id: string, name: string, preview: string, danceability: float, energy: float, key: int, loudness: float, speechiness: float, acousticness: float, instrumentalness: float, liveness: float, valence: float, tempo: float, time_signature: int, tokens: array<string>, raw_features: vector, combined_features: vector, normalized_features: vector]"
      ]
     },
     "execution_count": 23,
     "metadata": {},
     "output_type": "execute_result"
    }
   ],
   "source": [
    "tracks_for_cbf.cache()"
   ]
  },
  {
   "cell_type": "markdown",
   "metadata": {},
   "source": [
    "2. Build the recommend songs by name"
   ]
  },
  {
   "cell_type": "markdown",
   "metadata": {},
   "source": [
    "- Function to calculate Consine Similarity"
   ]
  },
  {
   "cell_type": "code",
   "execution_count": 33,
   "metadata": {},
   "outputs": [],
   "source": [
    "# def cosine_similarity(v1, v2):\n",
    "#     dot_product = float(v1.dot(v2))\n",
    "#     norm_v1 = float(v1.norm(2))\n",
    "#     norm_v2 = float(v2.norm(2))\n",
    "#     return dot_product/ (norm_v1 * norm_v2)"
   ]
  },
  {
   "cell_type": "markdown",
   "metadata": {},
   "source": [
    "- Build music recommendation system"
   ]
  },
  {
   "cell_type": "code",
   "execution_count": 19,
   "metadata": {},
   "outputs": [],
   "source": [
    "from pyspark.sql import Row\n",
    "\n",
    "def recommend_songs_by_name(song_name, df, top_n = 5):\n",
    "    # Find all songs having name of song (finding based on key words)\n",
    "    target_song = df.filter(F.lower(col(\"name\")).contains(song_name.lower()))\n",
    "    \n",
    "    if target_song.count() == 0:\n",
    "        print(f\"Not found the songs matched with {song_name}\")\n",
    "        return None\n",
    "    \n",
    "    # Get vector normalized_features of input song\n",
    "    input_song = df.select(\"album_id\", \"name\", \"normalized_features\").first()\n",
    "    \n",
    "    if input_song is None:\n",
    "        print(f\"Song {song_name} does not exist in dataset\")\n",
    "        return None\n",
    "    \n",
    "    input_album_id, input_song_name, input_features = input_song\n",
    "    \n",
    "    # Calculate cosine similarity between the input song and all songs in the dataset\n",
    "    def cosine_similarity(v1, v2):\n",
    "        dot_product = float(v1.dot(v2))\n",
    "        norm_v1 = float(v1.norm(2))\n",
    "        norm_v2 = float(v2.norm(2))\n",
    "        return dot_product/ (norm_v1 * norm_v2)\n",
    "    \n",
    "    # Create a list with cosine similarity scores\n",
    "    similarities = target_song.rdd.map(lambda row: (\n",
    "        row[\"album_id\"],\n",
    "        row[\"name\"],\n",
    "        row[\"artist_name\"],\n",
    "        row[\"genres\"],\n",
    "        row[\"popularity\"],\n",
    "        row[\"link_image\"],\n",
    "        row[\"url\"],\n",
    "        row['preview'],\n",
    "        cosine_similarity(input_features, row[\"normalized_features\"]) # apply cosine similarity with normailized features\n",
    "    ))\n",
    "    \n",
    "    # Sort descending by cosine similarity scores\n",
    "    top_recommendations = similarities.takeOrdered(top_n, key = lambda x : (-x[8], -x[4])) # sum of 2 values cosine (genres and features)\n",
    "    \n",
    "    # Change list to DataFrame\n",
    "    recommendations_df = spark.createDataFrame(\n",
    "        [Row(\n",
    "            song_name = row[1],\n",
    "            artist_name = row[2],\n",
    "            genres = row[3],\n",
    "            cosine_similarity_score = row[8],\n",
    "            popularity = row[4],\n",
    "            link_image = row[5],\n",
    "            url = row[6],\n",
    "            preview = row[7] \n",
    "        ) for row in top_recommendations]\n",
    "    )\n",
    "    \n",
    "    return recommendations_df"
   ]
  },
  {
   "cell_type": "code",
   "execution_count": 29,
   "metadata": {},
   "outputs": [
    {
     "name": "stderr",
     "output_type": "stream",
     "text": [
      "24/12/07 16:53:22 INFO DefaultCachedBatchSerializer: Predicate isnotnull(name#420) generates partition filter: ((name.count#19373 - name.nullCount#19372) > 0)\n",
      "24/12/07 16:53:22 INFO DAGScheduler: Registering RDD 301 (count at NativeMethodAccessorImpl.java:0) as input to shuffle 24\n",
      "24/12/07 16:53:22 INFO DAGScheduler: Got map stage job 55 (count at NativeMethodAccessorImpl.java:0) with 4 output partitions\n",
      "24/12/07 16:53:22 INFO DAGScheduler: Final stage: ShuffleMapStage 225 (count at NativeMethodAccessorImpl.java:0)\n",
      "24/12/07 16:53:22 INFO DAGScheduler: Parents of final stage: List(ShuffleMapStage 223, ShuffleMapStage 224)\n",
      "24/12/07 16:53:22 INFO DAGScheduler: Missing parents: List()\n",
      "24/12/07 16:53:22 INFO DAGScheduler: Submitting ShuffleMapStage 225 (MapPartitionsRDD[301] at count at NativeMethodAccessorImpl.java:0), which has no missing parents\n",
      "24/12/07 16:53:22 INFO MemoryStore: Block broadcast_75 stored as values in memory (estimated size 257.2 KiB, free 314.3 MiB)\n",
      "24/12/07 16:53:22 INFO MemoryStore: Block broadcast_75_piece0 stored as bytes in memory (estimated size 80.2 KiB, free 314.2 MiB)\n",
      "24/12/07 16:53:22 INFO BlockManagerInfo: Added broadcast_75_piece0 in memory on c110709c2f0f:46049 (size: 80.2 KiB, free: 434.2 MiB)\n",
      "24/12/07 16:53:22 INFO SparkContext: Created broadcast 75 from broadcast at DAGScheduler.scala:1540\n",
      "24/12/07 16:53:22 INFO DAGScheduler: Submitting 4 missing tasks from ShuffleMapStage 225 (MapPartitionsRDD[301] at count at NativeMethodAccessorImpl.java:0) (first 15 tasks are for partitions Vector(0, 1, 2, 3))\n",
      "24/12/07 16:53:22 INFO TaskSchedulerImpl: Adding task set 225.0 with 4 tasks resource profile 0\n",
      "24/12/07 16:53:22 INFO TaskSetManager: Starting task 0.0 in stage 225.0 (TID 123) (c110709c2f0f, executor driver, partition 0, PROCESS_LOCAL, 7634 bytes) \n",
      "24/12/07 16:53:22 INFO Executor: Running task 0.0 in stage 225.0 (TID 123)\n",
      "24/12/07 16:53:22 INFO BlockManagerInfo: Removed broadcast_73_piece0 on c110709c2f0f:46049 in memory (size: 15.9 KiB, free: 434.2 MiB)\n",
      "24/12/07 16:53:22 INFO BlockManagerInfo: Removed broadcast_74_piece0 on c110709c2f0f:46049 in memory (size: 19.4 KiB, free: 434.2 MiB)\n",
      "24/12/07 16:53:22 INFO BlockManagerInfo: Removed broadcast_72_piece0 on c110709c2f0f:46049 in memory (size: 89.6 KiB, free: 434.3 MiB)\n",
      "24/12/07 16:53:22 INFO MemoryStore: Will not store rdd_176_0\n",
      "24/12/07 16:53:22 WARN MemoryStore: Not enough space to cache rdd_176_0 in memory! (computed 303.8 MiB so far)\n",
      "24/12/07 16:53:22 INFO MemoryStore: Memory use = 119.7 MiB (blocks) + 262.0 MiB (scratch space shared across 1 tasks(s)) = 381.7 MiB. Storage limit = 434.4 MiB.\n",
      "24/12/07 16:53:22 INFO BlockManager: Found block rdd_176_0 locally\n",
      "24/12/07 16:53:23 INFO Executor: Finished task 0.0 in stage 225.0 (TID 123). 11495 bytes result sent to driver\n",
      "24/12/07 16:53:23 INFO TaskSetManager: Starting task 1.0 in stage 225.0 (TID 124) (c110709c2f0f, executor driver, partition 1, PROCESS_LOCAL, 7634 bytes) \n",
      "24/12/07 16:53:23 INFO TaskSetManager: Finished task 0.0 in stage 225.0 (TID 123) in 1049 ms on c110709c2f0f (executor driver) (1/4)\n",
      "24/12/07 16:53:23 INFO Executor: Running task 1.0 in stage 225.0 (TID 124)\n",
      "24/12/07 16:53:23 INFO MemoryStore: Will not store rdd_176_1        (1 + 1) / 4]\n",
      "24/12/07 16:53:23 WARN MemoryStore: Not enough space to cache rdd_176_1 in memory! (computed 304.2 MiB so far)\n",
      "24/12/07 16:53:23 INFO MemoryStore: Memory use = 119.7 MiB (blocks) + 262.3 MiB (scratch space shared across 1 tasks(s)) = 382.0 MiB. Storage limit = 434.4 MiB.\n",
      "24/12/07 16:53:23 INFO BlockManager: Found block rdd_176_1 locally\n",
      "24/12/07 16:53:24 INFO Executor: Finished task 1.0 in stage 225.0 (TID 124). 11495 bytes result sent to driver\n",
      "24/12/07 16:53:24 INFO TaskSetManager: Starting task 2.0 in stage 225.0 (TID 125) (c110709c2f0f, executor driver, partition 2, PROCESS_LOCAL, 7634 bytes) \n",
      "24/12/07 16:53:24 INFO Executor: Running task 2.0 in stage 225.0 (TID 125)\n",
      "24/12/07 16:53:24 INFO TaskSetManager: Finished task 1.0 in stage 225.0 (TID 124) in 978 ms on c110709c2f0f (executor driver) (2/4)\n",
      "24/12/07 16:53:24 INFO MemoryStore: Will not store rdd_176_2        (2 + 1) / 4]\n",
      "24/12/07 16:53:24 WARN MemoryStore: Not enough space to cache rdd_176_2 in memory! (computed 304.0 MiB so far)\n",
      "24/12/07 16:53:24 INFO MemoryStore: Memory use = 119.7 MiB (blocks) + 262.7 MiB (scratch space shared across 1 tasks(s)) = 382.4 MiB. Storage limit = 434.4 MiB.\n",
      "24/12/07 16:53:24 INFO BlockManager: Found block rdd_176_2 locally\n",
      "24/12/07 16:53:25 INFO Executor: Finished task 2.0 in stage 225.0 (TID 125). 11495 bytes result sent to driver\n",
      "24/12/07 16:53:25 INFO TaskSetManager: Starting task 3.0 in stage 225.0 (TID 126) (c110709c2f0f, executor driver, partition 3, PROCESS_LOCAL, 7634 bytes) \n",
      "24/12/07 16:53:25 INFO Executor: Running task 3.0 in stage 225.0 (TID 126)\n",
      "24/12/07 16:53:25 INFO TaskSetManager: Finished task 2.0 in stage 225.0 (TID 125) in 924 ms on c110709c2f0f (executor driver) (3/4)\n",
      "24/12/07 16:53:25 INFO MemoryStore: Will not store rdd_176_3        (3 + 1) / 4]\n",
      "24/12/07 16:53:25 WARN MemoryStore: Not enough space to cache rdd_176_3 in memory! (computed 303.6 MiB so far)\n",
      "24/12/07 16:53:25 INFO MemoryStore: Memory use = 119.7 MiB (blocks) + 262.3 MiB (scratch space shared across 1 tasks(s)) = 382.0 MiB. Storage limit = 434.4 MiB.\n",
      "24/12/07 16:53:25 INFO BlockManager: Found block rdd_176_3 locally\n",
      "24/12/07 16:53:26 INFO Executor: Finished task 3.0 in stage 225.0 (TID 126). 11495 bytes result sent to driver\n",
      "24/12/07 16:53:26 INFO TaskSetManager: Finished task 3.0 in stage 225.0 (TID 126) in 860 ms on c110709c2f0f (executor driver) (4/4)\n",
      "24/12/07 16:53:26 INFO TaskSchedulerImpl: Removed TaskSet 225.0, whose tasks have all completed, from pool \n",
      "24/12/07 16:53:26 INFO DAGScheduler: ShuffleMapStage 225 (count at NativeMethodAccessorImpl.java:0) finished in 3.818 s\n",
      "24/12/07 16:53:26 INFO DAGScheduler: looking for newly runnable stages\n",
      "24/12/07 16:53:26 INFO DAGScheduler: running: Set()\n",
      "24/12/07 16:53:26 INFO DAGScheduler: waiting: Set()\n",
      "24/12/07 16:53:26 INFO DAGScheduler: failed: Set()\n",
      "24/12/07 16:53:26 INFO SparkContext: Starting job: count at NativeMethodAccessorImpl.java:0\n",
      "24/12/07 16:53:26 INFO DAGScheduler: Got job 56 (count at NativeMethodAccessorImpl.java:0) with 1 output partitions\n",
      "24/12/07 16:53:26 INFO DAGScheduler: Final stage: ResultStage 231 (count at NativeMethodAccessorImpl.java:0)\n",
      "24/12/07 16:53:26 INFO DAGScheduler: Parents of final stage: List(ShuffleMapStage 230)\n",
      "24/12/07 16:53:26 INFO DAGScheduler: Missing parents: List()\n",
      "24/12/07 16:53:26 INFO DAGScheduler: Submitting ResultStage 231 (MapPartitionsRDD[304] at count at NativeMethodAccessorImpl.java:0), which has no missing parents\n",
      "24/12/07 16:53:26 INFO MemoryStore: Block broadcast_76 stored as values in memory (estimated size 12.1 KiB, free 314.7 MiB)\n",
      "24/12/07 16:53:26 INFO MemoryStore: Block broadcast_76_piece0 stored as bytes in memory (estimated size 5.8 KiB, free 314.7 MiB)\n",
      "24/12/07 16:53:26 INFO BlockManagerInfo: Added broadcast_76_piece0 in memory on c110709c2f0f:46049 (size: 5.8 KiB, free: 434.3 MiB)\n",
      "24/12/07 16:53:26 INFO SparkContext: Created broadcast 76 from broadcast at DAGScheduler.scala:1540\n",
      "24/12/07 16:53:26 INFO DAGScheduler: Submitting 1 missing tasks from ResultStage 231 (MapPartitionsRDD[304] at count at NativeMethodAccessorImpl.java:0) (first 15 tasks are for partitions Vector(0))\n",
      "24/12/07 16:53:26 INFO TaskSchedulerImpl: Adding task set 231.0 with 1 tasks resource profile 0\n",
      "24/12/07 16:53:26 INFO TaskSetManager: Starting task 0.0 in stage 231.0 (TID 127) (c110709c2f0f, executor driver, partition 0, NODE_LOCAL, 7363 bytes) \n",
      "24/12/07 16:53:26 INFO Executor: Running task 0.0 in stage 231.0 (TID 127)\n",
      "24/12/07 16:53:26 INFO ShuffleBlockFetcherIterator: Getting 4 (240.0 B) non-empty blocks including 4 (240.0 B) local and 0 (0.0 B) host-local and 0 (0.0 B) push-merged-local and 0 (0.0 B) remote blocks\n",
      "24/12/07 16:53:26 INFO ShuffleBlockFetcherIterator: Started 0 remote fetches in 0 ms\n",
      "24/12/07 16:53:26 INFO Executor: Finished task 0.0 in stage 231.0 (TID 127). 3995 bytes result sent to driver\n",
      "24/12/07 16:53:26 INFO TaskSetManager: Finished task 0.0 in stage 231.0 (TID 127) in 17 ms on c110709c2f0f (executor driver) (1/1)\n",
      "24/12/07 16:53:26 INFO TaskSchedulerImpl: Removed TaskSet 231.0, whose tasks have all completed, from pool \n",
      "24/12/07 16:53:26 INFO DAGScheduler: ResultStage 231 (count at NativeMethodAccessorImpl.java:0) finished in 0.029 s\n",
      "24/12/07 16:53:26 INFO DAGScheduler: Job 56 is finished. Cancelling potential speculative or zombie tasks for this job\n",
      "24/12/07 16:53:26 INFO TaskSchedulerImpl: Killing all running tasks in stage 231: Stage finished\n",
      "24/12/07 16:53:26 INFO DAGScheduler: Job 56 finished: count at NativeMethodAccessorImpl.java:0, took 0.039670 s\n",
      "24/12/07 16:53:26 INFO SparkContext: Starting job: first at /tmp/ipykernel_2230/3396539482.py:12\n",
      "24/12/07 16:53:26 INFO DAGScheduler: Got job 57 (first at /tmp/ipykernel_2230/3396539482.py:12) with 1 output partitions\n",
      "24/12/07 16:53:26 INFO DAGScheduler: Final stage: ResultStage 236 (first at /tmp/ipykernel_2230/3396539482.py:12)\n",
      "24/12/07 16:53:26 INFO DAGScheduler: Parents of final stage: List(ShuffleMapStage 234, ShuffleMapStage 235)\n",
      "24/12/07 16:53:26 INFO DAGScheduler: Missing parents: List()\n",
      "24/12/07 16:53:26 INFO DAGScheduler: Submitting ResultStage 236 (MapPartitionsRDD[308] at first at /tmp/ipykernel_2230/3396539482.py:12), which has no missing parents\n",
      "24/12/07 16:53:26 INFO MemoryStore: Block broadcast_77 stored as values in memory (estimated size 252.5 KiB, free 314.4 MiB)\n",
      "24/12/07 16:53:26 INFO MemoryStore: Block broadcast_77_piece0 stored as bytes in memory (estimated size 77.6 KiB, free 314.3 MiB)\n",
      "24/12/07 16:53:26 INFO BlockManagerInfo: Added broadcast_77_piece0 in memory on c110709c2f0f:46049 (size: 77.6 KiB, free: 434.2 MiB)\n",
      "24/12/07 16:53:26 INFO SparkContext: Created broadcast 77 from broadcast at DAGScheduler.scala:1540\n",
      "24/12/07 16:53:26 INFO DAGScheduler: Submitting 1 missing tasks from ResultStage 236 (MapPartitionsRDD[308] at first at /tmp/ipykernel_2230/3396539482.py:12) (first 15 tasks are for partitions Vector(0))\n",
      "24/12/07 16:53:26 INFO TaskSchedulerImpl: Adding task set 236.0 with 1 tasks resource profile 0\n",
      "24/12/07 16:53:26 INFO TaskSetManager: Starting task 0.0 in stage 236.0 (TID 128) (c110709c2f0f, executor driver, partition 0, PROCESS_LOCAL, 7645 bytes) \n",
      "24/12/07 16:53:26 INFO Executor: Running task 0.0 in stage 236.0 (TID 128)\n",
      "24/12/07 16:53:26 INFO BlockManagerInfo: Removed broadcast_76_piece0 on c110709c2f0f:46049 in memory (size: 5.8 KiB, free: 434.2 MiB)\n",
      "24/12/07 16:53:26 INFO BlockManagerInfo: Removed broadcast_75_piece0 on c110709c2f0f:46049 in memory (size: 80.2 KiB, free: 434.3 MiB)\n",
      "24/12/07 16:53:26 INFO MemoryStore: Will not store rdd_176_0\n",
      "24/12/07 16:53:26 WARN MemoryStore: Not enough space to cache rdd_176_0 in memory! (computed 303.8 MiB so far)\n",
      "24/12/07 16:53:26 INFO MemoryStore: Memory use = 119.7 MiB (blocks) + 262.0 MiB (scratch space shared across 1 tasks(s)) = 381.7 MiB. Storage limit = 434.4 MiB.\n",
      "24/12/07 16:53:26 INFO BlockManager: Found block rdd_176_0 locally\n",
      "24/12/07 16:53:26 INFO Executor: 1 block locks were not released by task 0.0 in stage 236.0 (TID 128)\n",
      "[rdd_176_0]\n",
      "24/12/07 16:53:26 INFO Executor: Finished task 0.0 in stage 236.0 (TID 128). 11275 bytes result sent to driver\n",
      "24/12/07 16:53:26 INFO TaskSetManager: Finished task 0.0 in stage 236.0 (TID 128) in 496 ms on c110709c2f0f (executor driver) (1/1)\n",
      "24/12/07 16:53:26 INFO TaskSchedulerImpl: Removed TaskSet 236.0, whose tasks have all completed, from pool \n",
      "24/12/07 16:53:26 INFO DAGScheduler: ResultStage 236 (first at /tmp/ipykernel_2230/3396539482.py:12) finished in 0.516 s\n",
      "24/12/07 16:53:26 INFO DAGScheduler: Job 57 is finished. Cancelling potential speculative or zombie tasks for this job\n",
      "24/12/07 16:53:26 INFO TaskSchedulerImpl: Killing all running tasks in stage 236: Stage finished\n",
      "24/12/07 16:53:26 INFO DAGScheduler: Job 57 finished: first at /tmp/ipykernel_2230/3396539482.py:12, took 0.531619 s\n",
      "24/12/07 16:53:26 INFO DefaultCachedBatchSerializer: Predicate isnotnull(name#420) generates partition filter: ((name.count#20536 - name.nullCount#20535) > 0)\n",
      "24/12/07 16:53:26 INFO SparkContext: Starting job: takeOrdered at /tmp/ipykernel_2230/3396539482.py:41\n",
      "24/12/07 16:53:26 INFO DAGScheduler: Got job 58 (takeOrdered at /tmp/ipykernel_2230/3396539482.py:41) with 4 output partitions\n",
      "24/12/07 16:53:26 INFO DAGScheduler: Final stage: ResultStage 241 (takeOrdered at /tmp/ipykernel_2230/3396539482.py:41)\n",
      "24/12/07 16:53:26 INFO DAGScheduler: Parents of final stage: List(ShuffleMapStage 239, ShuffleMapStage 240)\n",
      "24/12/07 16:53:26 INFO DAGScheduler: Missing parents: List()\n",
      "24/12/07 16:53:26 INFO DAGScheduler: Submitting ResultStage 241 (PythonRDD[316] at takeOrdered at /tmp/ipykernel_2230/3396539482.py:41), which has no missing parents\n",
      "24/12/07 16:53:26 INFO MemoryStore: Block broadcast_78 stored as values in memory (estimated size 285.6 KiB, free 314.4 MiB)\n",
      "24/12/07 16:53:26 INFO MemoryStore: Block broadcast_78_piece0 stored as bytes in memory (estimated size 89.6 KiB, free 314.3 MiB)\n",
      "24/12/07 16:53:26 INFO BlockManagerInfo: Added broadcast_78_piece0 in memory on c110709c2f0f:46049 (size: 89.6 KiB, free: 434.2 MiB)\n",
      "24/12/07 16:53:26 INFO SparkContext: Created broadcast 78 from broadcast at DAGScheduler.scala:1540\n",
      "24/12/07 16:53:26 INFO DAGScheduler: Submitting 4 missing tasks from ResultStage 241 (PythonRDD[316] at takeOrdered at /tmp/ipykernel_2230/3396539482.py:41) (first 15 tasks are for partitions Vector(0, 1, 2, 3))\n",
      "24/12/07 16:53:26 INFO TaskSchedulerImpl: Adding task set 241.0 with 4 tasks resource profile 0\n",
      "24/12/07 16:53:26 INFO TaskSetManager: Starting task 0.0 in stage 241.0 (TID 129) (c110709c2f0f, executor driver, partition 0, PROCESS_LOCAL, 7645 bytes) \n",
      "24/12/07 16:53:26 INFO Executor: Running task 0.0 in stage 241.0 (TID 129)\n",
      "24/12/07 16:53:27 INFO BlockManagerInfo: Removed broadcast_77_piece0 on c110709c2f0f:46049 in memory (size: 77.6 KiB, free: 434.3 MiB)\n",
      "24/12/07 16:53:27 INFO MemoryStore: Will not store rdd_176_0\n",
      "24/12/07 16:53:27 WARN MemoryStore: Not enough space to cache rdd_176_0 in memory! (computed 303.8 MiB so far)\n",
      "24/12/07 16:53:27 INFO MemoryStore: Memory use = 119.7 MiB (blocks) + 262.0 MiB (scratch space shared across 1 tasks(s)) = 381.7 MiB. Storage limit = 434.4 MiB.\n",
      "24/12/07 16:53:27 INFO BlockManager: Found block rdd_176_0 locally\n",
      "24/12/07 16:53:28 INFO PythonRunner: Times: total = 1312, boot = 6, init = 924, finish = 382\n",
      "24/12/07 16:53:28 INFO Executor: Finished task 0.0 in stage 241.0 (TID 129). 12777 bytes result sent to driver\n",
      "24/12/07 16:53:28 INFO TaskSetManager: Starting task 1.0 in stage 241.0 (TID 130) (c110709c2f0f, executor driver, partition 1, PROCESS_LOCAL, 7645 bytes) \n",
      "24/12/07 16:53:28 INFO TaskSetManager: Finished task 0.0 in stage 241.0 (TID 129) in 1802 ms on c110709c2f0f (executor driver) (1/4)\n",
      "24/12/07 16:53:28 INFO Executor: Running task 1.0 in stage 241.0 (TID 130)\n",
      "24/12/07 16:53:29 INFO MemoryStore: Will not store rdd_176_1        (1 + 1) / 4]\n",
      "24/12/07 16:53:29 WARN MemoryStore: Not enough space to cache rdd_176_1 in memory! (computed 304.2 MiB so far)\n",
      "24/12/07 16:53:29 INFO MemoryStore: Memory use = 119.7 MiB (blocks) + 262.3 MiB (scratch space shared across 1 tasks(s)) = 382.1 MiB. Storage limit = 434.4 MiB.\n",
      "24/12/07 16:53:29 INFO BlockManager: Found block rdd_176_1 locally\n",
      "24/12/07 16:53:30 INFO PythonRunner: Times: total = 1257, boot = -591, init = 945, finish = 903\n",
      "24/12/07 16:53:30 INFO Executor: Finished task 1.0 in stage 241.0 (TID 130). 12705 bytes result sent to driver\n",
      "24/12/07 16:53:30 INFO TaskSetManager: Starting task 2.0 in stage 241.0 (TID 131) (c110709c2f0f, executor driver, partition 2, PROCESS_LOCAL, 7645 bytes) \n",
      "24/12/07 16:53:30 INFO TaskSetManager: Finished task 1.0 in stage 241.0 (TID 130) in 1944 ms on c110709c2f0f (executor driver) (2/4)\n",
      "24/12/07 16:53:30 INFO Executor: Running task 2.0 in stage 241.0 (TID 131)\n",
      "24/12/07 16:53:31 INFO MemoryStore: Will not store rdd_176_2        (2 + 1) / 4]\n",
      "24/12/07 16:53:31 WARN MemoryStore: Not enough space to cache rdd_176_2 in memory! (computed 304.0 MiB so far)\n",
      "24/12/07 16:53:31 INFO MemoryStore: Memory use = 119.7 MiB (blocks) + 262.7 MiB (scratch space shared across 1 tasks(s)) = 382.5 MiB. Storage limit = 434.4 MiB.\n",
      "24/12/07 16:53:31 INFO BlockManager: Found block rdd_176_2 locally\n",
      "24/12/07 16:53:32 INFO PythonRunner: Times: total = 1122, boot = -414, init = 604, finish = 932\n",
      "24/12/07 16:53:32 INFO Executor: Finished task 2.0 in stage 241.0 (TID 131). 12688 bytes result sent to driver\n",
      "24/12/07 16:53:32 INFO TaskSetManager: Starting task 3.0 in stage 241.0 (TID 132) (c110709c2f0f, executor driver, partition 3, PROCESS_LOCAL, 7645 bytes) \n",
      "24/12/07 16:53:32 INFO Executor: Running task 3.0 in stage 241.0 (TID 132)\n",
      "24/12/07 16:53:32 INFO TaskSetManager: Finished task 2.0 in stage 241.0 (TID 131) in 1582 ms on c110709c2f0f (executor driver) (3/4)\n",
      "24/12/07 16:53:32 INFO MemoryStore: Will not store rdd_176_3        (3 + 1) / 4]\n",
      "24/12/07 16:53:32 WARN MemoryStore: Not enough space to cache rdd_176_3 in memory! (computed 303.6 MiB so far)\n",
      "24/12/07 16:53:32 INFO MemoryStore: Memory use = 119.7 MiB (blocks) + 262.3 MiB (scratch space shared across 1 tasks(s)) = 382.0 MiB. Storage limit = 434.4 MiB.\n",
      "24/12/07 16:53:32 INFO BlockManager: Found block rdd_176_3 locally\n",
      "24/12/07 16:53:34 INFO PythonRunner: Times: total = 1440, boot = -584, init = 1075, finish = 949\n",
      "24/12/07 16:53:34 INFO Executor: Finished task 3.0 in stage 241.0 (TID 132). 12801 bytes result sent to driver\n",
      "24/12/07 16:53:34 INFO TaskSetManager: Finished task 3.0 in stage 241.0 (TID 132) in 2065 ms on c110709c2f0f (executor driver) (4/4)\n",
      "24/12/07 16:53:34 INFO TaskSchedulerImpl: Removed TaskSet 241.0, whose tasks have all completed, from pool \n",
      "24/12/07 16:53:34 INFO DAGScheduler: ResultStage 241 (takeOrdered at /tmp/ipykernel_2230/3396539482.py:41) finished in 7.404 s\n",
      "24/12/07 16:53:34 INFO DAGScheduler: Job 58 is finished. Cancelling potential speculative or zombie tasks for this job\n",
      "24/12/07 16:53:34 INFO TaskSchedulerImpl: Killing all running tasks in stage 241: Stage finished\n",
      "24/12/07 16:53:34 INFO DAGScheduler: Job 58 finished: takeOrdered at /tmp/ipykernel_2230/3396539482.py:41, took 7.452663 s\n",
      "24/12/07 16:53:34 INFO HashAggregateExec: spark.sql.codegen.aggregate.map.twolevel.enabled is set to true, but current version of codegened fast hashmap does not support this aggregate.\n",
      "24/12/07 16:53:34 INFO DAGScheduler: Registering RDD 323 (showString at NativeMethodAccessorImpl.java:0) as input to shuffle 25\n",
      "24/12/07 16:53:34 INFO DAGScheduler: Got map stage job 59 (showString at NativeMethodAccessorImpl.java:0) with 1 output partitions\n",
      "24/12/07 16:53:34 INFO DAGScheduler: Final stage: ShuffleMapStage 242 (showString at NativeMethodAccessorImpl.java:0)\n",
      "24/12/07 16:53:34 INFO DAGScheduler: Parents of final stage: List()\n",
      "24/12/07 16:53:34 INFO DAGScheduler: Missing parents: List()\n",
      "24/12/07 16:53:34 INFO DAGScheduler: Submitting ShuffleMapStage 242 (MapPartitionsRDD[323] at showString at NativeMethodAccessorImpl.java:0), which has no missing parents\n",
      "24/12/07 16:53:34 INFO MemoryStore: Block broadcast_79 stored as values in memory (estimated size 34.6 KiB, free 314.6 MiB)\n",
      "24/12/07 16:53:34 INFO MemoryStore: Block broadcast_79_piece0 stored as bytes in memory (estimated size 15.9 KiB, free 314.6 MiB)\n",
      "24/12/07 16:53:34 INFO BlockManagerInfo: Added broadcast_79_piece0 in memory on c110709c2f0f:46049 (size: 15.9 KiB, free: 434.3 MiB)\n",
      "24/12/07 16:53:34 INFO SparkContext: Created broadcast 79 from broadcast at DAGScheduler.scala:1540\n",
      "24/12/07 16:53:34 INFO DAGScheduler: Submitting 1 missing tasks from ShuffleMapStage 242 (MapPartitionsRDD[323] at showString at NativeMethodAccessorImpl.java:0) (first 15 tasks are for partitions Vector(0))\n",
      "24/12/07 16:53:34 INFO TaskSchedulerImpl: Adding task set 242.0 with 1 tasks resource profile 0\n",
      "24/12/07 16:53:34 INFO TaskSetManager: Starting task 0.0 in stage 242.0 (TID 133) (c110709c2f0f, executor driver, partition 0, PROCESS_LOCAL, 8627 bytes) \n",
      "24/12/07 16:53:34 INFO Executor: Running task 0.0 in stage 242.0 (TID 133)\n"
     ]
    },
    {
     "name": "stdout",
     "output_type": "stream",
     "text": [
      "+------------------------+---------------+-------------+-----------------------+----------+----------------------------------------------------------------+------------------------------------------------------+-----------------------------------------------------------------------------------------------------------+\n",
      "|song_name               |artist_name    |genres       |cosine_similarity_score|popularity|link_image                                                      |url                                                   |preview                                                                                                    |\n",
      "+------------------------+---------------+-------------+-----------------------+----------+----------------------------------------------------------------+------------------------------------------------------+-----------------------------------------------------------------------------------------------------------+\n",
      "|Despacito x Shape Of You|Pentatonix     |viral pop    |0.9994851563733883     |65        |https://i.scdn.co/image/ab6761610000e5ebd910f1c80f8283f62540792b|https://open.spotify.com/artist/26AHtbjWKiwYzsoGoUZq53|https://p.scdn.co/mp3-preview/425db2fe4df3361c5d78369cbfe4baddcef6e0ad?cid=d636b62692f94f7ab8495b4d490e26cc|\n",
      "|Despacito x Shape Of You|Pentatonix     |a cappella   |0.9994851563733883     |65        |https://i.scdn.co/image/ab6761610000e5ebd910f1c80f8283f62540792b|https://open.spotify.com/artist/26AHtbjWKiwYzsoGoUZq53|https://p.scdn.co/mp3-preview/425db2fe4df3361c5d78369cbfe4baddcef6e0ad?cid=d636b62692f94f7ab8495b4d490e26cc|\n",
      "|Shape Of You            |Bigflo & Oli   |french pop   |0.9992028693861251     |62        |https://i.scdn.co/image/ab6761610000e5ebe12c86ed2460e03ba973604a|https://open.spotify.com/artist/5mmEMfYChd6MImBagU7zCs|                                                                                                           |\n",
      "|Shape Of You            |Bigflo & Oli   |rap conscient|0.9992028693861251     |62        |https://i.scdn.co/image/ab6761610000e5ebe12c86ed2460e03ba973604a|https://open.spotify.com/artist/5mmEMfYChd6MImBagU7zCs|                                                                                                           |\n",
      "|Shape Of Your Heart     |Hillsong UNITED|worship      |0.9990832596620273     |71        |https://i.scdn.co/image/ab6761610000e5eb08b1ae876402b0a3c83d0030|https://open.spotify.com/artist/74cb3MG0x0BOnYNW1uXYnM|https://p.scdn.co/mp3-preview/b90944f247575bc58e4b292aba4bd46c80235460?cid=05e2ff0a21954615b11878a9eb038e7f|\n",
      "+------------------------+---------------+-------------+-----------------------+----------+----------------------------------------------------------------+------------------------------------------------------+-----------------------------------------------------------------------------------------------------------+\n",
      "\n"
     ]
    },
    {
     "name": "stderr",
     "output_type": "stream",
     "text": [
      "24/12/07 16:53:34 INFO PythonRunner: Times: total = 322, boot = -142, init = 463, finish = 1\n",
      "24/12/07 16:53:34 INFO Executor: Finished task 0.0 in stage 242.0 (TID 133). 2640 bytes result sent to driver\n",
      "24/12/07 16:53:34 INFO TaskSetManager: Finished task 0.0 in stage 242.0 (TID 133) in 353 ms on c110709c2f0f (executor driver) (1/1)\n",
      "24/12/07 16:53:34 INFO TaskSchedulerImpl: Removed TaskSet 242.0, whose tasks have all completed, from pool \n",
      "24/12/07 16:53:34 INFO DAGScheduler: ShuffleMapStage 242 (showString at NativeMethodAccessorImpl.java:0) finished in 0.378 s\n",
      "24/12/07 16:53:34 INFO DAGScheduler: looking for newly runnable stages\n",
      "24/12/07 16:53:34 INFO DAGScheduler: running: Set()\n",
      "24/12/07 16:53:34 INFO DAGScheduler: waiting: Set()\n",
      "24/12/07 16:53:34 INFO DAGScheduler: failed: Set()\n",
      "24/12/07 16:53:34 INFO ShufflePartitionsUtil: For shuffle(25), advisory target size: 67108864, actual target size 1048576, minimum partition size: 1048576\n",
      "24/12/07 16:53:34 INFO HashAggregateExec: spark.sql.codegen.aggregate.map.twolevel.enabled is set to true, but current version of codegened fast hashmap does not support this aggregate.\n",
      "24/12/07 16:53:34 INFO SparkContext: Starting job: showString at NativeMethodAccessorImpl.java:0\n",
      "24/12/07 16:53:34 INFO DAGScheduler: Got job 60 (showString at NativeMethodAccessorImpl.java:0) with 1 output partitions\n",
      "24/12/07 16:53:34 INFO DAGScheduler: Final stage: ResultStage 244 (showString at NativeMethodAccessorImpl.java:0)\n",
      "24/12/07 16:53:34 INFO DAGScheduler: Parents of final stage: List(ShuffleMapStage 243)\n",
      "24/12/07 16:53:34 INFO DAGScheduler: Missing parents: List()\n",
      "24/12/07 16:53:34 INFO DAGScheduler: Submitting ResultStage 244 (MapPartitionsRDD[326] at showString at NativeMethodAccessorImpl.java:0), which has no missing parents\n",
      "24/12/07 16:53:34 INFO MemoryStore: Block broadcast_80 stored as values in memory (estimated size 43.9 KiB, free 314.6 MiB)\n",
      "24/12/07 16:53:34 INFO MemoryStore: Block broadcast_80_piece0 stored as bytes in memory (estimated size 19.4 KiB, free 314.5 MiB)\n",
      "24/12/07 16:53:34 INFO BlockManagerInfo: Added broadcast_80_piece0 in memory on c110709c2f0f:46049 (size: 19.4 KiB, free: 434.3 MiB)\n",
      "24/12/07 16:53:34 INFO SparkContext: Created broadcast 80 from broadcast at DAGScheduler.scala:1540\n",
      "24/12/07 16:53:34 INFO DAGScheduler: Submitting 1 missing tasks from ResultStage 244 (MapPartitionsRDD[326] at showString at NativeMethodAccessorImpl.java:0) (first 15 tasks are for partitions Vector(0))\n",
      "24/12/07 16:53:34 INFO TaskSchedulerImpl: Adding task set 244.0 with 1 tasks resource profile 0\n",
      "24/12/07 16:53:34 INFO TaskSetManager: Starting task 0.0 in stage 244.0 (TID 134) (c110709c2f0f, executor driver, partition 0, NODE_LOCAL, 7363 bytes) \n",
      "24/12/07 16:53:34 INFO Executor: Running task 0.0 in stage 244.0 (TID 134)\n",
      "24/12/07 16:53:34 INFO ShuffleBlockFetcherIterator: Getting 1 (1132.0 B) non-empty blocks including 1 (1132.0 B) local and 0 (0.0 B) host-local and 0 (0.0 B) push-merged-local and 0 (0.0 B) remote blocks\n",
      "24/12/07 16:53:34 INFO ShuffleBlockFetcherIterator: Started 0 remote fetches in 0 ms\n",
      "24/12/07 16:53:34 INFO Executor: Finished task 0.0 in stage 244.0 (TID 134). 6049 bytes result sent to driver\n",
      "24/12/07 16:53:34 INFO TaskSetManager: Finished task 0.0 in stage 244.0 (TID 134) in 21 ms on c110709c2f0f (executor driver) (1/1)\n",
      "24/12/07 16:53:34 INFO TaskSchedulerImpl: Removed TaskSet 244.0, whose tasks have all completed, from pool \n",
      "24/12/07 16:53:34 INFO DAGScheduler: ResultStage 244 (showString at NativeMethodAccessorImpl.java:0) finished in 0.040 s\n",
      "24/12/07 16:53:34 INFO DAGScheduler: Job 60 is finished. Cancelling potential speculative or zombie tasks for this job\n",
      "24/12/07 16:53:34 INFO TaskSchedulerImpl: Killing all running tasks in stage 244: Stage finished\n",
      "24/12/07 16:53:34 INFO DAGScheduler: Job 60 finished: showString at NativeMethodAccessorImpl.java:0, took 0.048006 s\n"
     ]
    }
   ],
   "source": [
    "recommend_songs_by_name(song_name= \"Shape of you\", df = tracks_for_cbf, top_n =5).distinct().show(truncate = False)"
   ]
  },
  {
   "cell_type": "code",
   "execution_count": null,
   "metadata": {},
   "outputs": [],
   "source": [
    "# from pyspark.sql.functions import min, max\n",
    "\n",
    "# def min_max_scaler(df, columns_to_scale):\n",
    "#     scaled_df = df\n",
    "    \n",
    "#     for col_name in columns_to_scale:\n",
    "#         # Calculate min and max values for the column\n",
    "#         min_val = df.agg(min(F.col(col_name))).first()[0]\n",
    "#         max_val = df.agg(max(F.col(col_name))).first()[0]\n",
    "        \n",
    "#         # Apply min-max scaling \n",
    "#         scaled_df = scaled_df.withColumn(col_name, (F.col(col_name) - min_val) / (max_val - min_val))\n",
    "#     return scaled_df"
   ]
  },
  {
   "cell_type": "markdown",
   "metadata": {},
   "source": [
    "##### 2/ Recommend songs by mood and genres using K-means Clustering"
   ]
  },
  {
   "cell_type": "markdown",
   "metadata": {},
   "source": [
    "1. Using Standard Scaling to scale"
   ]
  },
  {
   "cell_type": "code",
   "execution_count": 20,
   "metadata": {},
   "outputs": [],
   "source": [
    "tracks_cleaned_mood = tracks.drop('album_id')"
   ]
  },
  {
   "cell_type": "markdown",
   "metadata": {},
   "source": [
    "- Function to normalize by using standard scailing method"
   ]
  },
  {
   "cell_type": "code",
   "execution_count": 21,
   "metadata": {},
   "outputs": [],
   "source": [
    "from pyspark.sql import SparkSession\n",
    "from pyspark.sql.functions import col, mean, stddev\n",
    "\n",
    "def z_score(df):\n",
    "    \n",
    "    # Identify numerical columns\n",
    "    num_cols = [col_name for col_name, dtype in df.dtypes if dtype in ['int', 'float', 'double']]\n",
    "\n",
    "    # Create a list to store transformations\n",
    "    z_score_cols = []\n",
    "\n",
    "    for col_name in num_cols:\n",
    "        # Compute mean and standard deviation for the column\n",
    "        mean_val = df.select(mean(col(col_name))).first()[0]\n",
    "        stddev_val = df.select(stddev(col(col_name))).first()[0]\n",
    "\n",
    "        # Apply Z-score formula\n",
    "        z_score_cols.append(((col(col_name) - mean_val) / stddev_val).alias(col_name))\n",
    "\n",
    "    # Add non-numerical columns to the result\n",
    "    other_cols = [col(c) for c in df.columns if c not in num_cols]\n",
    "    result_cols = other_cols + z_score_cols\n",
    "\n",
    "    # Return the updated DataFrame\n",
    "    z_score_df = df.select(*result_cols)\n",
    "    return z_score_df\n",
    "\n",
    "z_score_df = z_score(tracks_cleaned_mood)"
   ]
  },
  {
   "cell_type": "code",
   "execution_count": 22,
   "metadata": {},
   "outputs": [
    {
     "name": "stdout",
     "output_type": "stream",
     "text": [
      "+--------------------+-----------+--------------------+----------------+--------------------+--------------------+----------+----------------------+--------------------+-------------------+--------------------+------------------+------------------+--------------------+--------------------+--------------------+-------------------+--------------------+-------------------+--------------------+--------------------+--------------------+-------------------+-------------------+\n",
      "|           artist_id|artist_name|          album_name|          genres|          link_image|                 url|album_type|release_date_precision|            track_id|               name|             preview|         followers|        popularity|        danceability|              energy|                 key|           loudness|         speechiness|       acousticness|    instrumentalness|            liveness|             valence|              tempo|     time_signature|\n",
      "+--------------------+-----------+--------------------+----------------+--------------------+--------------------+----------+----------------------+--------------------+-------------------+--------------------+------------------+------------------+--------------------+--------------------+--------------------+-------------------+--------------------+-------------------+--------------------+--------------------+--------------------+-------------------+-------------------+\n",
      "|1dVygo6tRFXC8CSWU...| Sonu Nigam|Sonu Nigam Kannad...|modern bollywood|https://i.scdn.co...|https://open.spot...|     album|                   day|49Rok6gqXzoDQDojE...|        Neeli Neeli|https://p.scdn.co...|2.0516858747808335|1.1192620566527354|   1.025415591851581|  0.3133616960508707|  0.4944507741715236| 0.4273541692428933|  0.1882604877877021|  0.887135458168622| -0.4809924911371662| -0.5329219799953596|  1.2924723408699303|-0.9089804786846953|0.25112599839276256|\n",
      "|1dVygo6tRFXC8CSWU...| Sonu Nigam|Sonu Nigam Kannad...|modern bollywood|https://i.scdn.co...|https://open.spot...|     album|                   day|7cJiDhNrCCImpIjSW...| Beladingala Raatri|https://p.scdn.co...|2.0516858747808335|1.1192620566527354|-0.13765989292230008| -0.7664389332883205|  0.4944507741715236| 0.5549551072287597| -0.5067164019651798| 0.9593393609698196| -0.4809924911371662| 0.40616240614924093|   0.231136306866358| 1.0036255711472921|-1.8088460742618362|\n",
      "|1dVygo6tRFXC8CSWU...| Sonu Nigam|Sonu Nigam Kannad...|modern bollywood|https://i.scdn.co...|https://open.spot...|     album|                   day|436eyq4pGkP6yhfy6...|Nannavalu Nannavalu|https://p.scdn.co...|2.0516858747808335|1.1192620566527354|  0.7053030526842508|-0.03610103095325625|-0.06624528602153282|-0.3299636283343603|0.007097934529798436| 0.3064954185265822| -0.4809924911371662|-0.06546664526069837|  1.1919246885579902| 1.8013967951488858|0.25112599839276256|\n",
      "|1dVygo6tRFXC8CSWU...| Sonu Nigam|Sonu Nigam Kannad...|modern bollywood|https://i.scdn.co...|https://open.spot...|     album|                   day|43rGRbdULW6J93E7X...|           O Manase|https://p.scdn.co...|2.0516858747808335|1.1192620566527354|  0.5292412038427027| -0.2010160336082545| -0.9072893763111174| 0.4254548044634251| -0.5231147485644689|-0.0545242747998202| -0.4807295113344503| -0.4703163542523862|-0.19339804014501677|-0.9727572236995924|0.25112599839276256|\n",
      "|1dVygo6tRFXC8CSWU...| Sonu Nigam|Sonu Nigam Kannad...|modern bollywood|https://i.scdn.co...|https://open.spot...|     album|                   day|5DPg7CrZJ7v2ow6t2...|    Thusu Preethiya|https://p.scdn.co...|2.0516858747808335|1.1192620566527354| -0.5698118048980347| 0.21127159004949297|-0.34659331611806105| 0.3983460632204475| -0.4419039598622226| 0.4599287792242825|-0.47045360001659736| -0.4744900709276643|-0.40566515815899234|-1.2968671151872304|0.25112599839276256|\n",
      "+--------------------+-----------+--------------------+----------------+--------------------+--------------------+----------+----------------------+--------------------+-------------------+--------------------+------------------+------------------+--------------------+--------------------+--------------------+-------------------+--------------------+-------------------+--------------------+--------------------+--------------------+-------------------+-------------------+\n",
      "only showing top 5 rows\n",
      "\n"
     ]
    }
   ],
   "source": [
    "z_score_df.show(5)"
   ]
  },
  {
   "cell_type": "markdown",
   "metadata": {},
   "source": [
    "2. Using K-means algorithm to catgorize moods based on those important features"
   ]
  },
  {
   "cell_type": "code",
   "execution_count": 23,
   "metadata": {},
   "outputs": [
    {
     "name": "stderr",
     "output_type": "stream",
     "text": [
      "24/12/07 17:45:32 WARN InstanceBuilder: Failed to load implementation from:dev.ludovic.netlib.blas.JNIBLAS\n",
      "24/12/07 17:45:32 WARN InstanceBuilder: Failed to load implementation from:dev.ludovic.netlib.blas.VectorBLAS\n",
      "[Stage 554:>                                                        (0 + 1) / 1]\r"
     ]
    },
    {
     "name": "stdout",
     "output_type": "stream",
     "text": [
      "+-------------------+-------------------+-------------------+-------------------+--------------------+\n",
      "|            valence|             energy|       danceability|       acousticness|               tempo|\n",
      "+-------------------+-------------------+-------------------+-------------------+--------------------+\n",
      "| 0.8058359501709598|0.33891150571635364|  0.760276862533604|-0.2725459902024632|-0.08237268309191853|\n",
      "|-0.4497939481259029|  0.576461599979964| -0.444947171818634|-0.6905169026491165| 0.47845466382208945|\n",
      "|-0.7961425291798592|-1.2384135239272793|-0.7268399960740791| 1.2637338830143898| -0.4290157464604332|\n",
      "+-------------------+-------------------+-------------------+-------------------+--------------------+\n",
      "\n"
     ]
    },
    {
     "name": "stderr",
     "output_type": "stream",
     "text": [
      "                                                                                \r"
     ]
    },
    {
     "data": {
      "text/plain": [
       "'You can see the cluster features df:\\n1. with high valence, energy, and danceability -> maybe \"Happy\"\\n2. with low valence, energy, danceability but high acouticness -> maybe \"Sad\"\\n3. Remaining features -> will be \"Neutral\" '"
      ]
     },
     "execution_count": 23,
     "metadata": {},
     "output_type": "execute_result"
    }
   ],
   "source": [
    "from pyspark.ml.clustering import KMeans\n",
    "from pyspark.ml.feature import PCA\n",
    "from pyspark.ml.feature import VectorAssembler\n",
    "from pyspark.sql.functions import col, udf\n",
    "from pyspark.sql.types import ArrayType, FloatType\n",
    "\n",
    "# Select relevant features\n",
    "features_cols = ['valence', 'energy', 'danceability', 'acousticness', 'tempo']\n",
    "\n",
    "# Assemble the features into a single vector column\n",
    "vector_assembler = VectorAssembler(inputCols=features_cols, outputCol=\"features\")\n",
    "features_df = vector_assembler.transform(z_score_df)\n",
    "\n",
    "# Apply KMeans with 3 clusters\n",
    "kmeans = KMeans(k=3, seed=42, featuresCol=\"features\", predictionCol=\"mood_score\")\n",
    "kmeans_model = kmeans.fit(features_df)\n",
    "\n",
    "# Get cluster centers\n",
    "cluster_centers = kmeans_model.clusterCenters()\n",
    "cluster_features_list = [center.tolist() for center in cluster_centers]\n",
    "\n",
    "# Create DataFrame with the cluster centers\n",
    "cluster_features = spark.createDataFrame(cluster_features_list, schema=features_cols)\n",
    "cluster_features.show()\n",
    "\n",
    "\"\"\"You can see the cluster features df:\n",
    "1. with high valence, energy, and danceability -> maybe \"Happy\"\n",
    "2. with low valence, energy, danceability but high acouticness -> maybe \"Sad\"\n",
    "3. Remaining features -> will be \"Neutral\" \"\"\""
   ]
  },
  {
   "cell_type": "markdown",
   "metadata": {},
   "source": [
    "3. Applying PCA to reduce the dimensions of the data to 2 components and Sample 0.01 dataset to plot the data in 2D."
   ]
  },
  {
   "cell_type": "code",
   "execution_count": 24,
   "metadata": {},
   "outputs": [
    {
     "name": "stderr",
     "output_type": "stream",
     "text": [
      "24/12/07 17:46:27 WARN InstanceBuilder: Failed to load implementation from:dev.ludovic.netlib.lapack.JNILAPACK\n",
      "                                                                                \r"
     ]
    },
    {
     "data": {
      "image/png": "[encoded data removed]",
      "text/plain": [
       "<Figure size 640x480 with 1 Axes>"
      ]
     },
     "metadata": {},
     "output_type": "display_data"
    }
   ],
   "source": [
    "from pyspark.sql.functions import when\n",
    "import matplotlib.pyplot as plt\n",
    "import seaborn as sns\n",
    "\n",
    "# Predict mood clusters\n",
    "predictions_mood = kmeans_model.transform(features_df)\n",
    "\n",
    "# Map mood labels\n",
    "mood_labels = {0: \"Sad\", 1: \"Happy\", 2: \"Neutral\"}\n",
    "predictions_mood = predictions_mood.withColumn(\n",
    "    \"mood\",\n",
    "    when(col(\"mood_score\") == 0, \"Sad\")\n",
    "    .when(col(\"mood_score\") == 1, \"Happy\")\n",
    "    .when(col(\"mood_score\") == 2, \"Neutral\")\n",
    ")\n",
    "\n",
    "# Apply PCA to reduce dimensions to 2 components\n",
    "pca = PCA(k = 2, inputCol = \"features\", outputCol = \"pca_features\")\n",
    "pca_model = pca.fit(predictions_mood)\n",
    "predictions_pca = pca_model.transform(predictions_mood)\n",
    "\n",
    "# Extract PCA components for plotting\n",
    "def extract_pca_components(pca_col):\n",
    "    if pca_col and len(pca_col) == 2:\n",
    "        return [float(pca_col[0]), float(pca_col[1])]\n",
    "    return [float(0), float(0)]  # Default values in case of issues\n",
    "\n",
    "extract_pca = udf(extract_pca_components, ArrayType(FloatType()))\n",
    "predictions_pca = predictions_pca.withColumn(\"pca_components\", extract_pca(col(\"pca_features\")))\n",
    "\n",
    "# Split PCA components into separate columns\n",
    "predictions_pca = predictions_pca.withColumn(\"PCA1\", col(\"pca_components\")[0])\n",
    "predictions_pca = predictions_pca.withColumn(\"PCA2\", col(\"pca_components\")[1])\n",
    "\n",
    "# Take a radom 1% sample of the data \n",
    "sample_df = predictions_pca.sample(withReplacement = False, fraction = 0.01, seed = 42)\n",
    "\n",
    "# Convert the sampled DataFrame to pandas for plotting \n",
    "sample_converted_df = sample_df.select(\"PCA1\", \"PCA2\", \"mood\").toPandas()\n",
    "\n",
    "# Scatter plot for PCA components with mood labels\n",
    "sns.scatterplot(data = sample_converted_df, x = \"PCA1\", y= \"PCA2\", hue = \"mood\", palette= \"Set2\", s= 50)\n",
    "plt.title(\"Mood clustering based on PCA of features (1% sample)\")\n",
    "plt.xlabel(\"PCA Component 1\")\n",
    "plt.ylabel(\"PCA component 2\")\n",
    "plt.legend(title = \"Mood\")\n",
    "plt.show()"
   ]
  },
  {
   "cell_type": "code",
   "execution_count": 25,
   "metadata": {},
   "outputs": [
    {
     "data": {
      "text/plain": [
       "DataFrame[artist_id: string, artist_name: string, album_name: string, genres: string, link_image: string, url: string, album_type: string, release_date_precision: string, track_id: string, name: string, preview: string, followers: double, popularity: double, danceability: double, energy: double, key: double, loudness: double, speechiness: double, acousticness: double, instrumentalness: double, liveness: double, valence: double, tempo: double, time_signature: double, features: vector, mood_score: int, mood: string, pca_features: vector, pca_components: array<float>, PCA1: float, PCA2: float]"
      ]
     },
     "execution_count": 25,
     "metadata": {},
     "output_type": "execute_result"
    }
   ],
   "source": [
    "predictions_pca.cache()"
   ]
  },
  {
   "cell_type": "code",
   "execution_count": 42,
   "metadata": {},
   "outputs": [
    {
     "name": "stderr",
     "output_type": "stream",
     "text": [
      "24/12/07 15:20:03 WARN MemoryStore: Not enough space to cache rdd_622_1 in memory! (computed 40.1 MiB so far)\n",
      "24/12/07 15:20:03 WARN BlockManager: Persisting block rdd_622_1 to disk instead.\n",
      "24/12/07 15:20:13 WARN MemoryStore: Not enough space to cache rdd_622_1 in memory! (computed 153.4 MiB so far)\n",
      "24/12/07 15:20:31 WARN MemoryStore: Not enough space to cache rdd_622_3 in memory! (computed 40.2 MiB so far)\n",
      "24/12/07 15:20:31 WARN BlockManager: Persisting block rdd_622_3 to disk instead.\n",
      "24/12/07 15:20:41 WARN MemoryStore: Not enough space to cache rdd_622_3 in memory! (computed 153.1 MiB so far)\n"
     ]
    },
    {
     "name": "stdout",
     "output_type": "stream",
     "text": [
      "+-----------+-----------------------------------------------------------------+----------+----+\n",
      "|artist_name|name                                                             |mood_score|mood|\n",
      "+-----------+-----------------------------------------------------------------+----------+----+\n",
      "|Mr.Siro    |Trái Tim Em Cũng Biết Đau - Piano Version                        |0         |Sad |\n",
      "|Mr.Siro    |Em - Piano Version                                               |0         |Sad |\n",
      "|Mr.Siro    |Sống Xa Anh Chẳng Dễ Dàng - Piano Version                        |0         |Sad |\n",
      "|Mr.Siro    |Em Đã Sai Vì Em Tin - Piano Version                              |0         |Sad |\n",
      "|Mr.Siro    |Cánh Đồng Yêu Thương - Piano Version                             |0         |Sad |\n",
      "|Mr.Siro    |Nguyện Làm Tri Kỷ - Piano Version                                |0         |Sad |\n",
      "|Mr.Siro    |Mashup 5 Hit Songs In 2017                                       |0         |Sad |\n",
      "|Mr.Siro    |Người Từng Yêu Anh Rất Sâu Nặng - Piano Version                  |0         |Sad |\n",
      "|Mr.Siro    |Chạm Đáy Nỗi Đau - Piano Version                                 |0         |Sad |\n",
      "|Mr.Siro    |Yêu Một Người Vô Tâm - Piano Version                             |0         |Sad |\n",
      "|Mr.Siro    |Mashup Phải Giữ Em Thế Nào, Lắng Nghe Nước Mắt - Piano Version   |0         |Sad |\n",
      "|Mr.Siro    |Khóc Cùng Em x Anh Chỉ Là Người Thay Thế - Piano Version         |0         |Sad |\n",
      "|Mr.Siro    |Em Gái Mưa - Piano Version                                       |0         |Sad |\n",
      "|Mr.Siro    |Đừng Ai Nhắc Về Anh Ấy - Piano Version                           |0         |Sad |\n",
      "|Mr.Siro    |Mashup Yêu Người Không Thể Yêu, Tình Yêu Đẹp Nhất - Piano version|0         |Sad |\n",
      "+-----------+-----------------------------------------------------------------+----------+----+\n",
      "\n"
     ]
    },
    {
     "name": "stderr",
     "output_type": "stream",
     "text": [
      "                                                                                \r"
     ]
    }
   ],
   "source": [
    "predictions_pca.filter(predictions_pca['artist_name'] == 'Mr.Siro').select('artist_name', 'name', 'mood_score', 'mood').show(truncate = False)"
   ]
  },
  {
   "cell_type": "markdown",
   "metadata": {},
   "source": [
    "- Inverse the popularity and followers for sorted by popularity and followers below"
   ]
  },
  {
   "cell_type": "code",
   "execution_count": 26,
   "metadata": {},
   "outputs": [
    {
     "name": "stderr",
     "output_type": "stream",
     "text": [
      "[Stage 633:>                                                        (0 + 1) / 1]\r"
     ]
    },
    {
     "name": "stdout",
     "output_type": "stream",
     "text": [
      "+--------------------+-----------+--------------------+----------------+--------------------+--------------------+----------+----------------------+--------------------+-------------------+--------------------+-----------+----------+--------------------+--------------------+--------------------+-------------------+--------------------+-------------------+--------------------+--------------------+--------------------+-------------------+-------------------+--------------------+----------+-------+--------------------+--------------------+----------+----------+\n",
      "|           artist_id|artist_name|          album_name|          genres|          link_image|                 url|album_type|release_date_precision|            track_id|               name|             preview|  followers|popularity|        danceability|              energy|                 key|           loudness|         speechiness|       acousticness|    instrumentalness|            liveness|             valence|              tempo|     time_signature|            features|mood_score|   mood|        pca_features|      pca_components|      PCA1|      PCA2|\n",
      "+--------------------+-----------+--------------------+----------------+--------------------+--------------------+----------+----------------------+--------------------+-------------------+--------------------+-----------+----------+--------------------+--------------------+--------------------+-------------------+--------------------+-------------------+--------------------+--------------------+--------------------+-------------------+-------------------+--------------------+----------+-------+--------------------+--------------------+----------+----------+\n",
      "|1dVygo6tRFXC8CSWU...| Sonu Nigam|Sonu Nigam Kannad...|modern bollywood|https://i.scdn.co...|https://open.spot...|     album|                   day|49Rok6gqXzoDQDojE...|        Neeli Neeli|https://p.scdn.co...|1.8221992E7|      77.0|   1.025415591851581|  0.3133616960508707|  0.4944507741715236| 0.4273541692428933|  0.1882604877877021|  0.887135458168622| -0.4809924911371662| -0.5329219799953596|  1.2924723408699303|-0.9089804786846953|0.25112599839276256|[1.29247234086993...|         0|    Sad|[-0.5525150655480...|[-0.5525151, 1.84...|-0.5525151| 1.8422811|\n",
      "|1dVygo6tRFXC8CSWU...| Sonu Nigam|Sonu Nigam Kannad...|modern bollywood|https://i.scdn.co...|https://open.spot...|     album|                   day|7cJiDhNrCCImpIjSW...| Beladingala Raatri|https://p.scdn.co...|1.8221992E7|      77.0|-0.13765989292230008| -0.7664389332883205|  0.4944507741715236| 0.5549551072287597| -0.5067164019651798| 0.9593393609698196| -0.4809924911371662| 0.40616240614924093|   0.231136306866358| 1.0036255711472921|-1.8088460742618362|[0.23113630686635...|         2|Neutral|[0.62242383699518...|[0.6224238, 0.148...| 0.6224238|0.14842592|\n",
      "|1dVygo6tRFXC8CSWU...| Sonu Nigam|Sonu Nigam Kannad...|modern bollywood|https://i.scdn.co...|https://open.spot...|     album|                   day|436eyq4pGkP6yhfy6...|Nannavalu Nannavalu|https://p.scdn.co...|1.8221992E7|      77.0|  0.7053030526842508|-0.03610103095325625|-0.06624528602153282|-0.3299636283343603|0.007097934529798436| 0.3064954185265822| -0.4809924911371662|-0.06546664526069837|  1.1919246885579902| 1.8013967951488858|0.25112599839276256|[1.19192468855799...|         0|    Sad|[-1.0920847470033...|[-1.0920848, 0.23...|-1.0920848|0.23931357|\n",
      "|1dVygo6tRFXC8CSWU...| Sonu Nigam|Sonu Nigam Kannad...|modern bollywood|https://i.scdn.co...|https://open.spot...|     album|                   day|43rGRbdULW6J93E7X...|           O Manase|https://p.scdn.co...|1.8221992E7|      77.0|  0.5292412038427027| -0.2010160336082545| -0.9072893763111174| 0.4254548044634251| -0.5231147485644689|-0.0545242747998202| -0.4807295113344503| -0.4703163542523862|-0.19339804014501677|-0.9727572236995924|0.25112599839276256|[-0.1933980401450...|         0|    Sad|[0.16900170789419...|[0.16900171, 0.71...|0.16900171|0.71619105|\n",
      "|1dVygo6tRFXC8CSWU...| Sonu Nigam|Sonu Nigam Kannad...|modern bollywood|https://i.scdn.co...|https://open.spot...|     album|                   day|5DPg7CrZJ7v2ow6t2...|    Thusu Preethiya|https://p.scdn.co...|1.8221992E7|      77.0| -0.5698118048980347| 0.21127159004949297|-0.34659331611806105| 0.3983460632204475| -0.4419039598622226| 0.4599287792242825|-0.47045360001659736| -0.4744900709276643|-0.40566515815899234|-1.2968671151872304|0.25112599839276256|[-0.4056651581589...|         2|Neutral|[0.84529956997212...|[0.84529954, 0.19...|0.84529954|0.19118106|\n",
      "+--------------------+-----------+--------------------+----------------+--------------------+--------------------+----------+----------------------+--------------------+-------------------+--------------------+-----------+----------+--------------------+--------------------+--------------------+-------------------+--------------------+-------------------+--------------------+--------------------+--------------------+-------------------+-------------------+--------------------+----------+-------+--------------------+--------------------+----------+----------+\n",
      "only showing top 5 rows\n",
      "\n"
     ]
    },
    {
     "name": "stderr",
     "output_type": "stream",
     "text": [
      "                                                                                \r"
     ]
    }
   ],
   "source": [
    "final_df_mood_genre = predictions_pca\n",
    "\n",
    "# Return followers and popularity to original values\n",
    "followers_mean = tracks_cleaned_mood.select(mean(col(\"followers\"))).first()[0]\n",
    "followers_std = tracks_cleaned_mood.select(stddev(col(\"followers\"))).first()[0]\n",
    "\n",
    "popularity_mean = tracks_cleaned_mood.select(mean(col(\"popularity\"))).first()[0]\n",
    "popularity_std = tracks_cleaned_mood.select(stddev(col(\"popularity\"))).first()[0]\n",
    "\n",
    "final_df_mood_genre = final_df_mood_genre.withColumn('followers',  (final_df_mood_genre['followers'] * followers_std) + followers_mean)\n",
    "final_df_mood_genre = final_df_mood_genre.withColumn('popularity', (final_df_mood_genre['popularity'] * popularity_std) + popularity_mean)\n",
    "\n",
    "final_df_mood_genre.show(5)"
   ]
  },
  {
   "cell_type": "markdown",
   "metadata": {},
   "source": [
    "4. Build recommendation songs by mood and genre"
   ]
  },
  {
   "cell_type": "code",
   "execution_count": 36,
   "metadata": {},
   "outputs": [],
   "source": [
    "from pyspark.sql.functions import lit\n",
    "\n",
    "def recommend_songs_by_mood_genre(df, mood, genre, num_recommend = 5):\n",
    "    # Filter dataFrame by mood and genre\n",
    "    filtered_tracks = df.filter(\n",
    "        (col(\"mood\") == lit(mood)) & (F.lower(col(\"genres\")).contains(genre.lower()))\n",
    "    )\n",
    "    \n",
    "    if filtered_tracks.count() == 0:\n",
    "        print(f\"No tracks found with mood {mood} and genre {genre}. Here are some other suggestions:\")\n",
    "        # If no tracks match both mood and genre, recommend random songs from the same mood\n",
    "        # But if no tracks match with mood, recommend random songs from the same genre\n",
    "        mood_tracks = df.filter(col(\"mood\") == lit(mood))\n",
    "        genre_tracks = df.filter(F.lower(col(\"genres\")).contains(genre.lower()))\n",
    "        \n",
    "        if mood_tracks.count() == 0:\n",
    "            print(f\"No tracks found with mood. Showing random suggestions by genre {genre}:\")\n",
    "            genre_recommendations = genre_tracks.orderBy(col(\"popularity\").desc(), col(\"followers\").desc()).limit(num_recommend)\n",
    "            genre_recommendations.select(\"artist_name\", \"name\", \"genres\", \"mood\", \"popularity\", \"link_image\", \"url\", \"preview\").show(truncate = False)\n",
    "        else:\n",
    "            print(f\"No tracks found with genre. Showing random suggesstions by mood {mood}:\")\n",
    "            mood_recommendations = mood_tracks.orderBy(col(\"popularity\").desc(), col(\"followers\").desc()).limit(num_recommend)\n",
    "            mood_recommendations.select(\"artist_name\", \"name\", \"genres\", \"mood\", \"popularity\", \"link_image\", \"url\", \"preview\").show(truncate = False)\n",
    "        return\n",
    "\n",
    "    recommendations = filtered_tracks.orderBy(col(\"popularity\").desc(), col(\"followers\").desc()).limit(num_recommend)\n",
    "    \n",
    "    print(f\"Recommendations songs with mood {mood} and genre {genre}:\")\n",
    "    recommendations.select(\"artist_name\", \"name\", \"genres\", \"mood\", \"popularity\", \"link_image\", \"url\", \"preview\").distinct().show(truncate = False)"
   ]
  },
  {
   "cell_type": "code",
   "execution_count": 37,
   "metadata": {},
   "outputs": [
    {
     "name": "stderr",
     "output_type": "stream",
     "text": [
      "24/12/07 17:00:01 INFO CodeGenerator: Code generated in 32.534784 ms\n",
      "24/12/07 17:00:01 INFO DAGScheduler: Registering RDD 701 (count at NativeMethodAccessorImpl.java:0) as input to shuffle 79\n",
      "24/12/07 17:00:01 INFO DAGScheduler: Got map stage job 161 (count at NativeMethodAccessorImpl.java:0) with 4 output partitions\n",
      "24/12/07 17:00:01 INFO DAGScheduler: Final stage: ShuffleMapStage 798 (count at NativeMethodAccessorImpl.java:0)\n",
      "24/12/07 17:00:01 INFO DAGScheduler: Parents of final stage: List(ShuffleMapStage 796, ShuffleMapStage 797)\n",
      "24/12/07 17:00:01 INFO DAGScheduler: Missing parents: List()\n",
      "24/12/07 17:00:01 INFO DAGScheduler: Submitting ShuffleMapStage 798 (MapPartitionsRDD[701] at count at NativeMethodAccessorImpl.java:0), which has no missing parents\n",
      "24/12/07 17:00:01 INFO MemoryStore: Block broadcast_246 stored as values in memory (estimated size 106.1 KiB, free 195.6 MiB)\n",
      "24/12/07 17:00:01 INFO MemoryStore: Block broadcast_246_piece0 stored as bytes in memory (estimated size 44.0 KiB, free 195.5 MiB)\n",
      "24/12/07 17:00:01 INFO BlockManagerInfo: Added broadcast_246_piece0 in memory on c110709c2f0f:46049 (size: 44.0 KiB, free: 434.1 MiB)\n",
      "24/12/07 17:00:01 INFO SparkContext: Created broadcast 246 from broadcast at DAGScheduler.scala:1540\n",
      "24/12/07 17:00:01 INFO DAGScheduler: Submitting 4 missing tasks from ShuffleMapStage 798 (MapPartitionsRDD[701] at count at NativeMethodAccessorImpl.java:0) (first 15 tasks are for partitions Vector(0, 1, 2, 3))\n",
      "24/12/07 17:00:01 INFO TaskSchedulerImpl: Adding task set 798.0 with 4 tasks resource profile 0\n",
      "24/12/07 17:00:01 INFO TaskSetManager: Starting task 0.0 in stage 798.0 (TID 505) (c110709c2f0f, executor driver, partition 0, PROCESS_LOCAL, 7634 bytes) \n",
      "24/12/07 17:00:01 INFO Executor: Running task 0.0 in stage 798.0 (TID 505)\n",
      "24/12/07 17:00:01 INFO BlockManager: Found block rdd_119_0 locally\n",
      "24/12/07 17:00:01 INFO CodeGenerator: Code generated in 15.116824 ms\n",
      "24/12/07 17:00:02 INFO BlockManagerInfo: Removed broadcast_240_piece0 on c110709c2f0f:46049 in memory (size: 7.1 KiB, free: 434.1 MiB)\n",
      "24/12/07 17:00:02 INFO BlockManagerInfo: Removed broadcast_239_piece0 on c110709c2f0f:46049 in memory (size: 32.3 KiB, free: 434.1 MiB)\n",
      "24/12/07 17:00:02 INFO BlockManagerInfo: Removed broadcast_245_piece0 on c110709c2f0f:46049 in memory (size: 59.1 KiB, free: 434.2 MiB)\n",
      "24/12/07 17:00:02 INFO BlockManagerInfo: Removed broadcast_244_piece0 on c110709c2f0f:46049 in memory (size: 7.2 KiB, free: 434.2 MiB)\n",
      "24/12/07 17:00:02 INFO BlockManagerInfo: Removed broadcast_237_piece0 on c110709c2f0f:46049 in memory (size: 31.5 KiB, free: 434.2 MiB)\n",
      "24/12/07 17:00:02 INFO BlockManagerInfo: Removed broadcast_242_piece0 on c110709c2f0f:46049 in memory (size: 6.4 KiB, free: 434.2 MiB)\n",
      "24/12/07 17:00:02 INFO BlockManagerInfo: Removed broadcast_243_piece0 on c110709c2f0f:46049 in memory (size: 32.3 KiB, free: 434.3 MiB)\n",
      "24/12/07 17:00:02 INFO BlockManagerInfo: Removed broadcast_238_piece0 on c110709c2f0f:46049 in memory (size: 6.4 KiB, free: 434.3 MiB)\n",
      "24/12/07 17:00:02 INFO BlockManagerInfo: Removed broadcast_241_piece0 on c110709c2f0f:46049 in memory (size: 31.5 KiB, free: 434.3 MiB)\n",
      "24/12/07 17:00:03 INFO BlockManagerInfo: Removed broadcast_236_piece0 on c110709c2f0f:46049 in memory (size: 48.7 KiB, free: 434.4 MiB)\n",
      "24/12/07 17:00:03 INFO Executor: Finished task 0.0 in stage 798.0 (TID 505). 11297 bytes result sent to driver\n",
      "24/12/07 17:00:03 INFO TaskSetManager: Starting task 1.0 in stage 798.0 (TID 506) (c110709c2f0f, executor driver, partition 1, PROCESS_LOCAL, 7634 bytes) \n",
      "24/12/07 17:00:03 INFO Executor: Running task 1.0 in stage 798.0 (TID 506)\n",
      "24/12/07 17:00:03 INFO TaskSetManager: Finished task 0.0 in stage 798.0 (TID 505) in 2268 ms on c110709c2f0f (executor driver) (1/4)\n",
      "24/12/07 17:00:03 INFO BlockManager: Found block rdd_119_1 locally\n",
      "24/12/07 17:00:04 INFO Executor: Finished task 1.0 in stage 798.0 (TID 506). 11340 bytes result sent to driver\n",
      "24/12/07 17:00:04 INFO TaskSetManager: Starting task 2.0 in stage 798.0 (TID 507) (c110709c2f0f, executor driver, partition 2, PROCESS_LOCAL, 7634 bytes) \n",
      "24/12/07 17:00:04 INFO TaskSetManager: Finished task 1.0 in stage 798.0 (TID 506) in 1364 ms on c110709c2f0f (executor driver) (2/4)\n",
      "24/12/07 17:00:04 INFO Executor: Running task 2.0 in stage 798.0 (TID 507)\n",
      "24/12/07 17:00:04 INFO BlockManager: Found block rdd_119_2 locally\n",
      "24/12/07 17:00:05 INFO Executor: Finished task 2.0 in stage 798.0 (TID 507). 11340 bytes result sent to driver\n",
      "24/12/07 17:00:05 INFO TaskSetManager: Starting task 3.0 in stage 798.0 (TID 508) (c110709c2f0f, executor driver, partition 3, PROCESS_LOCAL, 7634 bytes) \n",
      "24/12/07 17:00:05 INFO Executor: Running task 3.0 in stage 798.0 (TID 508)\n",
      "24/12/07 17:00:05 INFO TaskSetManager: Finished task 2.0 in stage 798.0 (TID 507) in 1074 ms on c110709c2f0f (executor driver) (3/4)\n",
      "24/12/07 17:00:05 INFO BlockManager: Found block rdd_119_3 locally\n",
      "24/12/07 17:00:06 INFO Executor: Finished task 3.0 in stage 798.0 (TID 508). 11340 bytes result sent to driver\n",
      "24/12/07 17:00:07 INFO TaskSetManager: Finished task 3.0 in stage 798.0 (TID 508) in 1238 ms on c110709c2f0f (executor driver) (4/4)\n",
      "24/12/07 17:00:07 INFO TaskSchedulerImpl: Removed TaskSet 798.0, whose tasks have all completed, from pool \n",
      "24/12/07 17:00:07 INFO DAGScheduler: ShuffleMapStage 798 (count at NativeMethodAccessorImpl.java:0) finished in 5.962 s\n",
      "24/12/07 17:00:07 INFO DAGScheduler: looking for newly runnable stages\n",
      "24/12/07 17:00:07 INFO DAGScheduler: running: Set()\n",
      "24/12/07 17:00:07 INFO DAGScheduler: waiting: Set()\n",
      "24/12/07 17:00:07 INFO DAGScheduler: failed: Set()\n",
      "24/12/07 17:00:07 INFO SparkContext: Starting job: count at NativeMethodAccessorImpl.java:0\n",
      "24/12/07 17:00:07 INFO DAGScheduler: Got job 162 (count at NativeMethodAccessorImpl.java:0) with 1 output partitions\n",
      "24/12/07 17:00:07 INFO DAGScheduler: Final stage: ResultStage 804 (count at NativeMethodAccessorImpl.java:0)\n",
      "24/12/07 17:00:07 INFO DAGScheduler: Parents of final stage: List(ShuffleMapStage 803)\n",
      "24/12/07 17:00:07 INFO DAGScheduler: Missing parents: List()\n",
      "24/12/07 17:00:07 INFO DAGScheduler: Submitting ResultStage 804 (MapPartitionsRDD[704] at count at NativeMethodAccessorImpl.java:0), which has no missing parents\n",
      "24/12/07 17:00:07 INFO MemoryStore: Block broadcast_247 stored as values in memory (estimated size 12.1 KiB, free 196.4 MiB)\n",
      "24/12/07 17:00:07 INFO MemoryStore: Block broadcast_247_piece0 stored as bytes in memory (estimated size 5.8 KiB, free 196.4 MiB)\n",
      "24/12/07 17:00:07 INFO BlockManagerInfo: Added broadcast_247_piece0 in memory on c110709c2f0f:46049 (size: 5.8 KiB, free: 434.4 MiB)\n",
      "24/12/07 17:00:07 INFO SparkContext: Created broadcast 247 from broadcast at DAGScheduler.scala:1540\n",
      "24/12/07 17:00:07 INFO DAGScheduler: Submitting 1 missing tasks from ResultStage 804 (MapPartitionsRDD[704] at count at NativeMethodAccessorImpl.java:0) (first 15 tasks are for partitions Vector(0))\n",
      "24/12/07 17:00:07 INFO TaskSchedulerImpl: Adding task set 804.0 with 1 tasks resource profile 0\n",
      "24/12/07 17:00:07 INFO TaskSetManager: Starting task 0.0 in stage 804.0 (TID 509) (c110709c2f0f, executor driver, partition 0, NODE_LOCAL, 7363 bytes) \n",
      "24/12/07 17:00:07 INFO Executor: Running task 0.0 in stage 804.0 (TID 509)\n",
      "24/12/07 17:00:07 INFO ShuffleBlockFetcherIterator: Getting 4 (240.0 B) non-empty blocks including 4 (240.0 B) local and 0 (0.0 B) host-local and 0 (0.0 B) push-merged-local and 0 (0.0 B) remote blocks\n",
      "24/12/07 17:00:07 INFO ShuffleBlockFetcherIterator: Started 0 remote fetches in 0 ms\n",
      "24/12/07 17:00:07 INFO Executor: Finished task 0.0 in stage 804.0 (TID 509). 3995 bytes result sent to driver\n",
      "24/12/07 17:00:07 INFO TaskSetManager: Finished task 0.0 in stage 804.0 (TID 509) in 20 ms on c110709c2f0f (executor driver) (1/1)\n",
      "24/12/07 17:00:07 INFO TaskSchedulerImpl: Removed TaskSet 804.0, whose tasks have all completed, from pool \n",
      "24/12/07 17:00:07 INFO DAGScheduler: ResultStage 804 (count at NativeMethodAccessorImpl.java:0) finished in 0.034 s\n",
      "24/12/07 17:00:07 INFO DAGScheduler: Job 162 is finished. Cancelling potential speculative or zombie tasks for this job\n",
      "24/12/07 17:00:07 INFO TaskSchedulerImpl: Killing all running tasks in stage 804: Stage finished\n",
      "24/12/07 17:00:07 INFO DAGScheduler: Job 162 finished: count at NativeMethodAccessorImpl.java:0, took 0.041726 s\n",
      "                                                                                \r"
     ]
    },
    {
     "name": "stdout",
     "output_type": "stream",
     "text": [
      "Recommendations songs with mood Happy and genre v-pop:\n"
     ]
    },
    {
     "name": "stderr",
     "output_type": "stream",
     "text": [
      "24/12/07 17:00:07 INFO HashAggregateExec: spark.sql.codegen.aggregate.map.twolevel.enabled is set to true, but current version of codegened fast hashmap does not support this aggregate.\n",
      "24/12/07 17:00:07 INFO HashAggregateExec: spark.sql.codegen.aggregate.map.twolevel.enabled is set to true, but current version of codegened fast hashmap does not support this aggregate.\n",
      "24/12/07 17:00:07 INFO CodeGenerator: Code generated in 25.73162 ms\n",
      "24/12/07 17:00:07 INFO CodeGenerator: Code generated in 15.558874 ms\n",
      "24/12/07 17:00:07 INFO CodeGenerator: Code generated in 25.914654 ms\n",
      "24/12/07 17:00:07 INFO SparkContext: Starting job: showString at <unknown>:0\n",
      "24/12/07 17:00:07 INFO DAGScheduler: Registering RDD 710 (showString at <unknown>:0) as input to shuffle 80\n",
      "24/12/07 17:00:07 INFO DAGScheduler: Got job 163 (showString at <unknown>:0) with 1 output partitions\n",
      "24/12/07 17:00:07 INFO DAGScheduler: Final stage: ResultStage 810 (showString at <unknown>:0)\n",
      "24/12/07 17:00:07 INFO DAGScheduler: Parents of final stage: List(ShuffleMapStage 809)\n",
      "24/12/07 17:00:07 INFO DAGScheduler: Missing parents: List(ShuffleMapStage 809)\n",
      "24/12/07 17:00:07 INFO DAGScheduler: Submitting ShuffleMapStage 809 (MapPartitionsRDD[710] at showString at <unknown>:0), which has no missing parents\n",
      "24/12/07 17:00:07 INFO MemoryStore: Block broadcast_248 stored as values in memory (estimated size 123.0 KiB, free 196.3 MiB)\n",
      "24/12/07 17:00:07 INFO MemoryStore: Block broadcast_248_piece0 stored as bytes in memory (estimated size 48.8 KiB, free 196.2 MiB)\n",
      "24/12/07 17:00:07 INFO BlockManagerInfo: Added broadcast_248_piece0 in memory on c110709c2f0f:46049 (size: 48.8 KiB, free: 434.3 MiB)\n",
      "24/12/07 17:00:07 INFO SparkContext: Created broadcast 248 from broadcast at DAGScheduler.scala:1540\n",
      "24/12/07 17:00:07 INFO DAGScheduler: Submitting 4 missing tasks from ShuffleMapStage 809 (MapPartitionsRDD[710] at showString at <unknown>:0) (first 15 tasks are for partitions Vector(0, 1, 2, 3))\n",
      "24/12/07 17:00:07 INFO TaskSchedulerImpl: Adding task set 809.0 with 4 tasks resource profile 0\n",
      "24/12/07 17:00:07 INFO TaskSetManager: Starting task 0.0 in stage 809.0 (TID 510) (c110709c2f0f, executor driver, partition 0, PROCESS_LOCAL, 7634 bytes) \n",
      "24/12/07 17:00:07 INFO Executor: Running task 0.0 in stage 809.0 (TID 510)\n",
      "24/12/07 17:00:07 INFO BlockManager: Found block rdd_119_0 locally\n",
      "24/12/07 17:00:07 INFO CodeGenerator: Code generated in 18.328404 ms\n",
      "24/12/07 17:00:09 INFO BlockManagerInfo: Removed broadcast_247_piece0 on c110709c2f0f:46049 in memory (size: 5.8 KiB, free: 434.3 MiB)\n",
      "24/12/07 17:00:09 INFO Executor: Finished task 0.0 in stage 809.0 (TID 510). 12095 bytes result sent to driver\n",
      "24/12/07 17:00:09 INFO TaskSetManager: Starting task 1.0 in stage 809.0 (TID 511) (c110709c2f0f, executor driver, partition 1, PROCESS_LOCAL, 7634 bytes) \n",
      "24/12/07 17:00:09 INFO TaskSetManager: Finished task 0.0 in stage 809.0 (TID 510) in 1916 ms on c110709c2f0f (executor driver) (1/4)\n",
      "24/12/07 17:00:09 INFO Executor: Running task 1.0 in stage 809.0 (TID 511)\n",
      "24/12/07 17:00:09 INFO BlockManager: Found block rdd_119_1 locally\n",
      "24/12/07 17:00:10 INFO BlockManagerInfo: Removed broadcast_246_piece0 on c110709c2f0f:46049 in memory (size: 44.0 KiB, free: 434.4 MiB)\n",
      "24/12/07 17:00:11 INFO Executor: Finished task 1.0 in stage 809.0 (TID 511). 12095 bytes result sent to driver\n",
      "24/12/07 17:00:11 INFO TaskSetManager: Starting task 2.0 in stage 809.0 (TID 512) (c110709c2f0f, executor driver, partition 2, PROCESS_LOCAL, 7634 bytes) \n",
      "24/12/07 17:00:11 INFO TaskSetManager: Finished task 1.0 in stage 809.0 (TID 511) in 1492 ms on c110709c2f0f (executor driver) (2/4)\n",
      "24/12/07 17:00:11 INFO Executor: Running task 2.0 in stage 809.0 (TID 512)\n",
      "24/12/07 17:00:11 INFO BlockManager: Found block rdd_119_2 locally\n",
      "24/12/07 17:00:13 INFO Executor: Finished task 2.0 in stage 809.0 (TID 512). 12095 bytes result sent to driver\n",
      "24/12/07 17:00:13 INFO TaskSetManager: Starting task 3.0 in stage 809.0 (TID 513) (c110709c2f0f, executor driver, partition 3, PROCESS_LOCAL, 7634 bytes) \n",
      "24/12/07 17:00:13 INFO Executor: Running task 3.0 in stage 809.0 (TID 513)\n",
      "24/12/07 17:00:13 INFO TaskSetManager: Finished task 2.0 in stage 809.0 (TID 512) in 2022 ms on c110709c2f0f (executor driver) (3/4)\n",
      "24/12/07 17:00:13 INFO BlockManager: Found block rdd_119_3 locally\n",
      "[Stage 809:==========================================>              (3 + 1) / 4]\r"
     ]
    },
    {
     "name": "stdout",
     "output_type": "stream",
     "text": [
      "+-----------+----------------------------------------------+------+-----+----------+----------------------------------------------------------------+------------------------------------------------------+-------+\n",
      "|artist_name|name                                          |genres|mood |popularity|link_image                                                      |url                                                   |preview|\n",
      "+-----------+----------------------------------------------+------+-----+----------+----------------------------------------------------------------+------------------------------------------------------+-------+\n",
      "|tlinh      |những đốm sáng                                |v-pop |Happy|67.0      |https://i.scdn.co/image/ab6761610000e5eb230e62752ca87da1d85d0445|https://open.spotify.com/artist/3diftVOq7aEIebXKkC34oR|null   |\n",
      "|tlinh      |ghệ iu dấu của em ơi (ft. 52Hz) - Gonpop remix|v-pop |Happy|67.0      |https://i.scdn.co/image/ab6761610000e5eb230e62752ca87da1d85d0445|https://open.spotify.com/artist/3diftVOq7aEIebXKkC34oR|null   |\n",
      "|tlinh      |ghệ iu dấu của em ơi - CLOUDEE remix          |v-pop |Happy|67.0      |https://i.scdn.co/image/ab6761610000e5eb230e62752ca87da1d85d0445|https://open.spotify.com/artist/3diftVOq7aEIebXKkC34oR|null   |\n",
      "|tlinh      |kết thúc = mở đầu                             |v-pop |Happy|67.0      |https://i.scdn.co/image/ab6761610000e5eb230e62752ca87da1d85d0445|https://open.spotify.com/artist/3diftVOq7aEIebXKkC34oR|null   |\n",
      "|tlinh      |nếu lúc đó                                    |v-pop |Happy|67.0      |https://i.scdn.co/image/ab6761610000e5eb230e62752ca87da1d85d0445|https://open.spotify.com/artist/3diftVOq7aEIebXKkC34oR|null   |\n",
      "+-----------+----------------------------------------------+------+-----+----------+----------------------------------------------------------------+------------------------------------------------------+-------+\n",
      "\n"
     ]
    },
    {
     "name": "stderr",
     "output_type": "stream",
     "text": [
      "24/12/07 17:00:15 INFO Executor: Finished task 3.0 in stage 809.0 (TID 513). 12095 bytes result sent to driver\n",
      "24/12/07 17:00:15 INFO TaskSetManager: Finished task 3.0 in stage 809.0 (TID 513) in 1887 ms on c110709c2f0f (executor driver) (4/4)\n",
      "24/12/07 17:00:15 INFO TaskSchedulerImpl: Removed TaskSet 809.0, whose tasks have all completed, from pool \n",
      "24/12/07 17:00:15 INFO DAGScheduler: ShuffleMapStage 809 (showString at <unknown>:0) finished in 7.338 s\n",
      "24/12/07 17:00:15 INFO DAGScheduler: looking for newly runnable stages\n",
      "24/12/07 17:00:15 INFO DAGScheduler: running: Set()\n",
      "24/12/07 17:00:15 INFO DAGScheduler: waiting: Set(ResultStage 810)\n",
      "24/12/07 17:00:15 INFO DAGScheduler: failed: Set()\n",
      "24/12/07 17:00:15 INFO DAGScheduler: Submitting ResultStage 810 (MapPartitionsRDD[714] at showString at <unknown>:0), which has no missing parents\n",
      "24/12/07 17:00:15 INFO MemoryStore: Block broadcast_249 stored as values in memory (estimated size 115.4 KiB, free 196.3 MiB)\n",
      "24/12/07 17:00:15 INFO MemoryStore: Block broadcast_249_piece0 stored as bytes in memory (estimated size 46.8 KiB, free 196.3 MiB)\n",
      "24/12/07 17:00:15 INFO BlockManagerInfo: Added broadcast_249_piece0 in memory on c110709c2f0f:46049 (size: 46.8 KiB, free: 434.3 MiB)\n",
      "24/12/07 17:00:15 INFO SparkContext: Created broadcast 249 from broadcast at DAGScheduler.scala:1540\n",
      "24/12/07 17:00:15 INFO DAGScheduler: Submitting 1 missing tasks from ResultStage 810 (MapPartitionsRDD[714] at showString at <unknown>:0) (first 15 tasks are for partitions Vector(0))\n",
      "24/12/07 17:00:15 INFO TaskSchedulerImpl: Adding task set 810.0 with 1 tasks resource profile 0\n",
      "24/12/07 17:00:15 INFO TaskSetManager: Starting task 0.0 in stage 810.0 (TID 514) (c110709c2f0f, executor driver, partition 0, NODE_LOCAL, 7363 bytes) \n",
      "24/12/07 17:00:15 INFO Executor: Running task 0.0 in stage 810.0 (TID 514)\n",
      "24/12/07 17:00:15 INFO ShuffleBlockFetcherIterator: Getting 4 (3.0 KiB) non-empty blocks including 4 (3.0 KiB) local and 0 (0.0 B) host-local and 0 (0.0 B) push-merged-local and 0 (0.0 B) remote blocks\n",
      "24/12/07 17:00:15 INFO ShuffleBlockFetcherIterator: Started 0 remote fetches in 0 ms\n",
      "24/12/07 17:00:15 INFO CodeGenerator: Code generated in 14.679458 ms\n",
      "24/12/07 17:00:15 INFO CodeGenerator: Code generated in 9.570598 ms\n",
      "24/12/07 17:00:15 INFO Executor: Finished task 0.0 in stage 810.0 (TID 514). 14129 bytes result sent to driver\n",
      "24/12/07 17:00:15 INFO TaskSetManager: Finished task 0.0 in stage 810.0 (TID 514) in 74 ms on c110709c2f0f (executor driver) (1/1)\n",
      "24/12/07 17:00:15 INFO TaskSchedulerImpl: Removed TaskSet 810.0, whose tasks have all completed, from pool \n",
      "24/12/07 17:00:15 INFO DAGScheduler: ResultStage 810 (showString at <unknown>:0) finished in 0.089 s\n",
      "24/12/07 17:00:15 INFO DAGScheduler: Job 163 is finished. Cancelling potential speculative or zombie tasks for this job\n",
      "24/12/07 17:00:15 INFO TaskSchedulerImpl: Killing all running tasks in stage 810: Stage finished\n",
      "24/12/07 17:00:15 INFO DAGScheduler: Job 163 finished: showString at <unknown>:0, took 7.442007 s\n",
      "                                                                                \r"
     ]
    }
   ],
   "source": [
    "recommend_songs_by_mood_genre(final_df_mood_genre, \"Happy\", \"v-pop\", 5)"
   ]
  },
  {
   "cell_type": "code",
   "execution_count": 38,
   "metadata": {},
   "outputs": [
    {
     "name": "stderr",
     "output_type": "stream",
     "text": [
      "24/12/07 17:00:36 INFO CodeGenerator: Code generated in 27.980812 ms\n",
      "24/12/07 17:00:36 INFO DAGScheduler: Registering RDD 719 (count at NativeMethodAccessorImpl.java:0) as input to shuffle 81\n",
      "24/12/07 17:00:36 INFO DAGScheduler: Got map stage job 164 (count at NativeMethodAccessorImpl.java:0) with 4 output partitions\n",
      "24/12/07 17:00:36 INFO DAGScheduler: Final stage: ShuffleMapStage 815 (count at NativeMethodAccessorImpl.java:0)\n",
      "24/12/07 17:00:36 INFO DAGScheduler: Parents of final stage: List(ShuffleMapStage 814, ShuffleMapStage 813)\n",
      "24/12/07 17:00:36 INFO DAGScheduler: Missing parents: List()\n",
      "24/12/07 17:00:36 INFO DAGScheduler: Submitting ShuffleMapStage 815 (MapPartitionsRDD[719] at count at NativeMethodAccessorImpl.java:0), which has no missing parents\n",
      "24/12/07 17:00:36 INFO MemoryStore: Block broadcast_250 stored as values in memory (estimated size 106.1 KiB, free 196.1 MiB)\n",
      "24/12/07 17:00:36 INFO MemoryStore: Block broadcast_250_piece0 stored as bytes in memory (estimated size 44.0 KiB, free 196.1 MiB)\n",
      "24/12/07 17:00:36 INFO BlockManagerInfo: Added broadcast_250_piece0 in memory on c110709c2f0f:46049 (size: 44.0 KiB, free: 434.3 MiB)\n",
      "24/12/07 17:00:36 INFO SparkContext: Created broadcast 250 from broadcast at DAGScheduler.scala:1540\n",
      "24/12/07 17:00:36 INFO DAGScheduler: Submitting 4 missing tasks from ShuffleMapStage 815 (MapPartitionsRDD[719] at count at NativeMethodAccessorImpl.java:0) (first 15 tasks are for partitions Vector(0, 1, 2, 3))\n",
      "24/12/07 17:00:36 INFO TaskSchedulerImpl: Adding task set 815.0 with 4 tasks resource profile 0\n",
      "24/12/07 17:00:36 INFO TaskSetManager: Starting task 0.0 in stage 815.0 (TID 515) (c110709c2f0f, executor driver, partition 0, PROCESS_LOCAL, 7634 bytes) \n",
      "24/12/07 17:00:36 INFO Executor: Running task 0.0 in stage 815.0 (TID 515)\n",
      "24/12/07 17:00:36 INFO BlockManager: Found block rdd_119_0 locally\n",
      "24/12/07 17:00:37 INFO BlockManagerInfo: Removed broadcast_249_piece0 on c110709c2f0f:46049 in memory (size: 46.8 KiB, free: 434.3 MiB)\n",
      "24/12/07 17:00:38 INFO Executor: Finished task 0.0 in stage 815.0 (TID 515). 11340 bytes result sent to driver\n",
      "24/12/07 17:00:38 INFO TaskSetManager: Starting task 1.0 in stage 815.0 (TID 516) (c110709c2f0f, executor driver, partition 1, PROCESS_LOCAL, 7634 bytes) \n",
      "24/12/07 17:00:38 INFO TaskSetManager: Finished task 0.0 in stage 815.0 (TID 515) in 1587 ms on c110709c2f0f (executor driver) (1/4)\n",
      "24/12/07 17:00:38 INFO Executor: Running task 1.0 in stage 815.0 (TID 516)\n",
      "24/12/07 17:00:38 INFO BlockManager: Found block rdd_119_1 locally\n",
      "24/12/07 17:00:38 INFO BlockManagerInfo: Removed broadcast_248_piece0 on c110709c2f0f:46049 in memory (size: 48.8 KiB, free: 434.4 MiB)\n",
      "24/12/07 17:00:39 INFO Executor: Finished task 1.0 in stage 815.0 (TID 516). 11340 bytes result sent to driver\n",
      "24/12/07 17:00:39 INFO TaskSetManager: Starting task 2.0 in stage 815.0 (TID 517) (c110709c2f0f, executor driver, partition 2, PROCESS_LOCAL, 7634 bytes) \n",
      "24/12/07 17:00:39 INFO TaskSetManager: Finished task 1.0 in stage 815.0 (TID 516) in 1206 ms on c110709c2f0f (executor driver) (2/4)\n",
      "24/12/07 17:00:39 INFO Executor: Running task 2.0 in stage 815.0 (TID 517)\n",
      "24/12/07 17:00:39 INFO BlockManager: Found block rdd_119_2 locally\n",
      "24/12/07 17:00:40 INFO Executor: Finished task 2.0 in stage 815.0 (TID 517). 11340 bytes result sent to driver\n",
      "24/12/07 17:00:40 INFO TaskSetManager: Starting task 3.0 in stage 815.0 (TID 518) (c110709c2f0f, executor driver, partition 3, PROCESS_LOCAL, 7634 bytes) \n",
      "24/12/07 17:00:40 INFO Executor: Running task 3.0 in stage 815.0 (TID 518)\n",
      "24/12/07 17:00:40 INFO TaskSetManager: Finished task 2.0 in stage 815.0 (TID 517) in 918 ms on c110709c2f0f (executor driver) (3/4)\n",
      "24/12/07 17:00:40 INFO BlockManager: Found block rdd_119_3 locally\n",
      "24/12/07 17:00:41 INFO Executor: Finished task 3.0 in stage 815.0 (TID 518). 11340 bytes result sent to driver\n",
      "24/12/07 17:00:41 INFO TaskSetManager: Finished task 3.0 in stage 815.0 (TID 518) in 1057 ms on c110709c2f0f (executor driver) (4/4)\n",
      "24/12/07 17:00:41 INFO TaskSchedulerImpl: Removed TaskSet 815.0, whose tasks have all completed, from pool \n",
      "24/12/07 17:00:41 INFO DAGScheduler: ShuffleMapStage 815 (count at NativeMethodAccessorImpl.java:0) finished in 4.776 s\n",
      "24/12/07 17:00:41 INFO DAGScheduler: looking for newly runnable stages\n",
      "24/12/07 17:00:41 INFO DAGScheduler: running: Set()\n",
      "24/12/07 17:00:41 INFO DAGScheduler: waiting: Set()\n",
      "24/12/07 17:00:41 INFO DAGScheduler: failed: Set()\n",
      "24/12/07 17:00:41 INFO SparkContext: Starting job: count at NativeMethodAccessorImpl.java:0\n",
      "24/12/07 17:00:41 INFO DAGScheduler: Got job 165 (count at NativeMethodAccessorImpl.java:0) with 1 output partitions\n",
      "24/12/07 17:00:41 INFO DAGScheduler: Final stage: ResultStage 821 (count at NativeMethodAccessorImpl.java:0)\n",
      "24/12/07 17:00:41 INFO DAGScheduler: Parents of final stage: List(ShuffleMapStage 820)\n",
      "24/12/07 17:00:41 INFO DAGScheduler: Missing parents: List()\n",
      "24/12/07 17:00:41 INFO DAGScheduler: Submitting ResultStage 821 (MapPartitionsRDD[722] at count at NativeMethodAccessorImpl.java:0), which has no missing parents\n",
      "24/12/07 17:00:41 INFO MemoryStore: Block broadcast_251 stored as values in memory (estimated size 12.1 KiB, free 196.4 MiB)\n",
      "24/12/07 17:00:41 INFO MemoryStore: Block broadcast_251_piece0 stored as bytes in memory (estimated size 5.8 KiB, free 196.4 MiB)\n",
      "24/12/07 17:00:41 INFO BlockManagerInfo: Added broadcast_251_piece0 in memory on c110709c2f0f:46049 (size: 5.8 KiB, free: 434.4 MiB)\n",
      "24/12/07 17:00:41 INFO SparkContext: Created broadcast 251 from broadcast at DAGScheduler.scala:1540\n",
      "24/12/07 17:00:41 INFO DAGScheduler: Submitting 1 missing tasks from ResultStage 821 (MapPartitionsRDD[722] at count at NativeMethodAccessorImpl.java:0) (first 15 tasks are for partitions Vector(0))\n",
      "24/12/07 17:00:41 INFO TaskSchedulerImpl: Adding task set 821.0 with 1 tasks resource profile 0\n",
      "24/12/07 17:00:41 INFO TaskSetManager: Starting task 0.0 in stage 821.0 (TID 519) (c110709c2f0f, executor driver, partition 0, NODE_LOCAL, 7363 bytes) \n",
      "24/12/07 17:00:41 INFO Executor: Running task 0.0 in stage 821.0 (TID 519)\n",
      "24/12/07 17:00:41 INFO ShuffleBlockFetcherIterator: Getting 4 (240.0 B) non-empty blocks including 4 (240.0 B) local and 0 (0.0 B) host-local and 0 (0.0 B) push-merged-local and 0 (0.0 B) remote blocks\n",
      "24/12/07 17:00:41 INFO ShuffleBlockFetcherIterator: Started 0 remote fetches in 0 ms\n",
      "24/12/07 17:00:41 INFO Executor: Finished task 0.0 in stage 821.0 (TID 519). 3988 bytes result sent to driver\n",
      "24/12/07 17:00:41 INFO TaskSetManager: Finished task 0.0 in stage 821.0 (TID 519) in 15 ms on c110709c2f0f (executor driver) (1/1)\n",
      "24/12/07 17:00:41 INFO TaskSchedulerImpl: Removed TaskSet 821.0, whose tasks have all completed, from pool \n",
      "24/12/07 17:00:41 INFO DAGScheduler: ResultStage 821 (count at NativeMethodAccessorImpl.java:0) finished in 0.024 s\n",
      "24/12/07 17:00:41 INFO DAGScheduler: Job 165 is finished. Cancelling potential speculative or zombie tasks for this job\n",
      "24/12/07 17:00:41 INFO TaskSchedulerImpl: Killing all running tasks in stage 821: Stage finished\n",
      "24/12/07 17:00:41 INFO DAGScheduler: Job 165 finished: count at NativeMethodAccessorImpl.java:0, took 0.028952 s\n",
      "                                                                                \r"
     ]
    },
    {
     "name": "stdout",
     "output_type": "stream",
     "text": [
      "No tracks found with mood Sad and genre v-pop indie. Here are some other suggestions:\n"
     ]
    },
    {
     "name": "stderr",
     "output_type": "stream",
     "text": [
      "24/12/07 17:00:41 INFO CodeGenerator: Code generated in 31.4707 ms\n",
      "24/12/07 17:00:41 INFO DAGScheduler: Registering RDD 727 (count at NativeMethodAccessorImpl.java:0) as input to shuffle 82\n",
      "24/12/07 17:00:41 INFO DAGScheduler: Got map stage job 166 (count at NativeMethodAccessorImpl.java:0) with 4 output partitions\n",
      "24/12/07 17:00:41 INFO DAGScheduler: Final stage: ShuffleMapStage 826 (count at NativeMethodAccessorImpl.java:0)\n",
      "24/12/07 17:00:41 INFO DAGScheduler: Parents of final stage: List(ShuffleMapStage 825, ShuffleMapStage 824)\n",
      "24/12/07 17:00:41 INFO DAGScheduler: Missing parents: List()\n",
      "24/12/07 17:00:41 INFO DAGScheduler: Submitting ShuffleMapStage 826 (MapPartitionsRDD[727] at count at NativeMethodAccessorImpl.java:0), which has no missing parents\n",
      "24/12/07 17:00:41 INFO MemoryStore: Block broadcast_252 stored as values in memory (estimated size 105.6 KiB, free 196.3 MiB)\n",
      "24/12/07 17:00:41 INFO MemoryStore: Block broadcast_252_piece0 stored as bytes in memory (estimated size 43.8 KiB, free 196.3 MiB)\n",
      "24/12/07 17:00:41 INFO BlockManagerInfo: Added broadcast_252_piece0 in memory on c110709c2f0f:46049 (size: 43.8 KiB, free: 434.3 MiB)\n",
      "24/12/07 17:00:41 INFO SparkContext: Created broadcast 252 from broadcast at DAGScheduler.scala:1540\n",
      "24/12/07 17:00:41 INFO DAGScheduler: Submitting 4 missing tasks from ShuffleMapStage 826 (MapPartitionsRDD[727] at count at NativeMethodAccessorImpl.java:0) (first 15 tasks are for partitions Vector(0, 1, 2, 3))\n",
      "24/12/07 17:00:41 INFO TaskSchedulerImpl: Adding task set 826.0 with 4 tasks resource profile 0\n",
      "24/12/07 17:00:41 INFO TaskSetManager: Starting task 0.0 in stage 826.0 (TID 520) (c110709c2f0f, executor driver, partition 0, PROCESS_LOCAL, 7634 bytes) \n",
      "24/12/07 17:00:41 INFO Executor: Running task 0.0 in stage 826.0 (TID 520)\n",
      "24/12/07 17:00:41 INFO BlockManager: Found block rdd_119_0 locally\n",
      "24/12/07 17:00:43 INFO BlockManagerInfo: Removed broadcast_251_piece0 on c110709c2f0f:46049 in memory (size: 5.8 KiB, free: 434.3 MiB)\n",
      "24/12/07 17:00:43 INFO Executor: Finished task 0.0 in stage 826.0 (TID 520). 11340 bytes result sent to driver\n",
      "24/12/07 17:00:43 INFO TaskSetManager: Starting task 1.0 in stage 826.0 (TID 521) (c110709c2f0f, executor driver, partition 1, PROCESS_LOCAL, 7634 bytes) \n",
      "24/12/07 17:00:43 INFO TaskSetManager: Finished task 0.0 in stage 826.0 (TID 520) in 1788 ms on c110709c2f0f (executor driver) (1/4)\n",
      "24/12/07 17:00:43 INFO Executor: Running task 1.0 in stage 826.0 (TID 521)\n",
      "24/12/07 17:00:43 INFO BlockManager: Found block rdd_119_1 locally\n",
      "24/12/07 17:00:43 INFO BlockManagerInfo: Removed broadcast_250_piece0 on c110709c2f0f:46049 in memory (size: 44.0 KiB, free: 434.4 MiB)\n",
      "24/12/07 17:00:44 INFO Executor: Finished task 1.0 in stage 826.0 (TID 521). 11340 bytes result sent to driver\n",
      "24/12/07 17:00:44 INFO TaskSetManager: Starting task 2.0 in stage 826.0 (TID 522) (c110709c2f0f, executor driver, partition 2, PROCESS_LOCAL, 7634 bytes) \n",
      "24/12/07 17:00:44 INFO Executor: Running task 2.0 in stage 826.0 (TID 522)\n",
      "24/12/07 17:00:44 INFO TaskSetManager: Finished task 1.0 in stage 826.0 (TID 521) in 1063 ms on c110709c2f0f (executor driver) (2/4)\n",
      "24/12/07 17:00:44 INFO BlockManager: Found block rdd_119_2 locally\n",
      "24/12/07 17:00:45 INFO Executor: Finished task 2.0 in stage 826.0 (TID 522). 11340 bytes result sent to driver\n",
      "24/12/07 17:00:45 INFO TaskSetManager: Starting task 3.0 in stage 826.0 (TID 523) (c110709c2f0f, executor driver, partition 3, PROCESS_LOCAL, 7634 bytes) \n",
      "24/12/07 17:00:45 INFO Executor: Running task 3.0 in stage 826.0 (TID 523)\n",
      "24/12/07 17:00:45 INFO TaskSetManager: Finished task 2.0 in stage 826.0 (TID 522) in 892 ms on c110709c2f0f (executor driver) (3/4)\n",
      "24/12/07 17:00:45 INFO BlockManager: Found block rdd_119_3 locally\n",
      "24/12/07 17:00:46 INFO Executor: Finished task 3.0 in stage 826.0 (TID 523). 11340 bytes result sent to driver\n",
      "24/12/07 17:00:46 INFO TaskSetManager: Finished task 3.0 in stage 826.0 (TID 523) in 854 ms on c110709c2f0f (executor driver) (4/4)\n",
      "24/12/07 17:00:46 INFO TaskSchedulerImpl: Removed TaskSet 826.0, whose tasks have all completed, from pool \n",
      "24/12/07 17:00:46 INFO DAGScheduler: ShuffleMapStage 826 (count at NativeMethodAccessorImpl.java:0) finished in 4.637 s\n",
      "24/12/07 17:00:46 INFO DAGScheduler: looking for newly runnable stages\n",
      "24/12/07 17:00:46 INFO DAGScheduler: running: Set()\n",
      "24/12/07 17:00:46 INFO DAGScheduler: waiting: Set()\n",
      "24/12/07 17:00:46 INFO DAGScheduler: failed: Set()\n",
      "24/12/07 17:00:46 INFO SparkContext: Starting job: count at NativeMethodAccessorImpl.java:0\n",
      "24/12/07 17:00:46 INFO DAGScheduler: Got job 167 (count at NativeMethodAccessorImpl.java:0) with 1 output partitions\n",
      "24/12/07 17:00:46 INFO DAGScheduler: Final stage: ResultStage 832 (count at NativeMethodAccessorImpl.java:0)\n",
      "24/12/07 17:00:46 INFO DAGScheduler: Parents of final stage: List(ShuffleMapStage 831)\n",
      "24/12/07 17:00:46 INFO DAGScheduler: Missing parents: List()\n",
      "24/12/07 17:00:46 INFO DAGScheduler: Submitting ResultStage 832 (MapPartitionsRDD[730] at count at NativeMethodAccessorImpl.java:0), which has no missing parents\n",
      "24/12/07 17:00:46 INFO MemoryStore: Block broadcast_253 stored as values in memory (estimated size 12.1 KiB, free 196.4 MiB)\n",
      "24/12/07 17:00:46 INFO MemoryStore: Block broadcast_253_piece0 stored as bytes in memory (estimated size 5.8 KiB, free 196.4 MiB)\n",
      "24/12/07 17:00:46 INFO BlockManagerInfo: Added broadcast_253_piece0 in memory on c110709c2f0f:46049 (size: 5.8 KiB, free: 434.4 MiB)\n",
      "24/12/07 17:00:46 INFO SparkContext: Created broadcast 253 from broadcast at DAGScheduler.scala:1540\n",
      "24/12/07 17:00:46 INFO DAGScheduler: Submitting 1 missing tasks from ResultStage 832 (MapPartitionsRDD[730] at count at NativeMethodAccessorImpl.java:0) (first 15 tasks are for partitions Vector(0))\n",
      "24/12/07 17:00:46 INFO TaskSchedulerImpl: Adding task set 832.0 with 1 tasks resource profile 0\n",
      "24/12/07 17:00:46 INFO TaskSetManager: Starting task 0.0 in stage 832.0 (TID 524) (c110709c2f0f, executor driver, partition 0, NODE_LOCAL, 7363 bytes) \n",
      "24/12/07 17:00:46 INFO Executor: Running task 0.0 in stage 832.0 (TID 524)\n",
      "24/12/07 17:00:46 INFO ShuffleBlockFetcherIterator: Getting 4 (240.0 B) non-empty blocks including 4 (240.0 B) local and 0 (0.0 B) host-local and 0 (0.0 B) push-merged-local and 0 (0.0 B) remote blocks\n",
      "24/12/07 17:00:46 INFO ShuffleBlockFetcherIterator: Started 0 remote fetches in 1 ms\n",
      "24/12/07 17:00:46 INFO Executor: Finished task 0.0 in stage 832.0 (TID 524). 3995 bytes result sent to driver\n",
      "24/12/07 17:00:46 INFO TaskSetManager: Finished task 0.0 in stage 832.0 (TID 524) in 12 ms on c110709c2f0f (executor driver) (1/1)\n",
      "24/12/07 17:00:46 INFO TaskSchedulerImpl: Removed TaskSet 832.0, whose tasks have all completed, from pool \n",
      "24/12/07 17:00:46 INFO DAGScheduler: ResultStage 832 (count at NativeMethodAccessorImpl.java:0) finished in 0.020 s\n",
      "24/12/07 17:00:46 INFO DAGScheduler: Job 167 is finished. Cancelling potential speculative or zombie tasks for this job\n",
      "24/12/07 17:00:46 INFO TaskSchedulerImpl: Killing all running tasks in stage 832: Stage finished\n",
      "24/12/07 17:00:46 INFO DAGScheduler: Job 167 finished: count at NativeMethodAccessorImpl.java:0, took 0.026915 s\n",
      "                                                                                \r"
     ]
    },
    {
     "name": "stdout",
     "output_type": "stream",
     "text": [
      "No tracks found with genre. Showing random suggesstions by mood Sad:\n"
     ]
    },
    {
     "name": "stderr",
     "output_type": "stream",
     "text": [
      "24/12/07 17:00:46 INFO CodeGenerator: Code generated in 32.870749 ms\n",
      "24/12/07 17:00:46 INFO SparkContext: Starting job: showString at <unknown>:0\n",
      "24/12/07 17:00:46 INFO DAGScheduler: Got job 168 (showString at <unknown>:0) with 4 output partitions\n",
      "24/12/07 17:00:46 INFO DAGScheduler: Final stage: ResultStage 837 (showString at <unknown>:0)\n",
      "24/12/07 17:00:46 INFO DAGScheduler: Parents of final stage: List(ShuffleMapStage 836, ShuffleMapStage 835)\n",
      "24/12/07 17:00:46 INFO DAGScheduler: Missing parents: List()\n",
      "24/12/07 17:00:46 INFO DAGScheduler: Submitting ResultStage 837 (MapPartitionsRDD[736] at showString at <unknown>:0), which has no missing parents\n",
      "24/12/07 17:00:46 INFO MemoryStore: Block broadcast_254 stored as values in memory (estimated size 113.1 KiB, free 196.3 MiB)\n",
      "24/12/07 17:00:46 INFO MemoryStore: Block broadcast_254_piece0 stored as bytes in memory (estimated size 45.1 KiB, free 196.3 MiB)\n",
      "24/12/07 17:00:46 INFO BlockManagerInfo: Added broadcast_254_piece0 in memory on c110709c2f0f:46049 (size: 45.1 KiB, free: 434.3 MiB)\n",
      "24/12/07 17:00:46 INFO SparkContext: Created broadcast 254 from broadcast at DAGScheduler.scala:1540\n",
      "24/12/07 17:00:46 INFO DAGScheduler: Submitting 4 missing tasks from ResultStage 837 (MapPartitionsRDD[736] at showString at <unknown>:0) (first 15 tasks are for partitions Vector(0, 1, 2, 3))\n",
      "24/12/07 17:00:46 INFO TaskSchedulerImpl: Adding task set 837.0 with 4 tasks resource profile 0\n",
      "24/12/07 17:00:46 INFO TaskSetManager: Starting task 0.0 in stage 837.0 (TID 525) (c110709c2f0f, executor driver, partition 0, PROCESS_LOCAL, 7645 bytes) \n",
      "24/12/07 17:00:46 INFO Executor: Running task 0.0 in stage 837.0 (TID 525)\n",
      "24/12/07 17:00:46 INFO BlockManager: Found block rdd_119_0 locally\n",
      "24/12/07 17:00:47 INFO BlockManagerInfo: Removed broadcast_253_piece0 on c110709c2f0f:46049 in memory (size: 5.8 KiB, free: 434.3 MiB)\n",
      "24/12/07 17:00:48 INFO Executor: Finished task 0.0 in stage 837.0 (TID 525). 12439 bytes result sent to driver\n",
      "24/12/07 17:00:48 INFO TaskSetManager: Starting task 1.0 in stage 837.0 (TID 526) (c110709c2f0f, executor driver, partition 1, PROCESS_LOCAL, 7645 bytes) \n",
      "24/12/07 17:00:48 INFO Executor: Running task 1.0 in stage 837.0 (TID 526)\n",
      "24/12/07 17:00:48 INFO TaskSetManager: Finished task 0.0 in stage 837.0 (TID 525) in 1587 ms on c110709c2f0f (executor driver) (1/4)\n",
      "24/12/07 17:00:48 INFO BlockManager: Found block rdd_119_1 locally\n",
      "24/12/07 17:00:48 INFO BlockManagerInfo: Removed broadcast_252_piece0 on c110709c2f0f:46049 in memory (size: 43.8 KiB, free: 434.4 MiB)\n",
      "24/12/07 17:00:50 INFO Executor: Finished task 1.0 in stage 837.0 (TID 526). 12378 bytes result sent to driver\n",
      "24/12/07 17:00:50 INFO TaskSetManager: Starting task 2.0 in stage 837.0 (TID 527) (c110709c2f0f, executor driver, partition 2, PROCESS_LOCAL, 7645 bytes) \n",
      "24/12/07 17:00:50 INFO Executor: Running task 2.0 in stage 837.0 (TID 527)\n",
      "24/12/07 17:00:50 INFO TaskSetManager: Finished task 1.0 in stage 837.0 (TID 526) in 1685 ms on c110709c2f0f (executor driver) (2/4)\n",
      "24/12/07 17:00:50 INFO BlockManager: Found block rdd_119_2 locally\n",
      "24/12/07 17:00:51 INFO Executor: Finished task 2.0 in stage 837.0 (TID 527). 12399 bytes result sent to driver\n",
      "24/12/07 17:00:51 INFO TaskSetManager: Starting task 3.0 in stage 837.0 (TID 528) (c110709c2f0f, executor driver, partition 3, PROCESS_LOCAL, 7645 bytes) \n",
      "24/12/07 17:00:51 INFO Executor: Running task 3.0 in stage 837.0 (TID 528)\n",
      "24/12/07 17:00:51 INFO TaskSetManager: Finished task 2.0 in stage 837.0 (TID 527) in 1708 ms on c110709c2f0f (executor driver) (3/4)\n",
      "24/12/07 17:00:51 INFO BlockManager: Found block rdd_119_3 locally\n",
      "[Stage 837:==========================================>              (3 + 1) / 4]\r"
     ]
    },
    {
     "name": "stdout",
     "output_type": "stream",
     "text": [
      "+------------+-------------------+------+----+----------+----------------------------------------------------------------+------------------------------------------------------+-------+\n",
      "|artist_name |name               |genres|mood|popularity|link_image                                                      |url                                                   |preview|\n",
      "+------------+-------------------+------+----+----------+----------------------------------------------------------------+------------------------------------------------------+-------+\n",
      "|Taylor Swift|cardigan           |pop   |Sad |100.0     |https://i.scdn.co/image/ab6761610000e5ebe672b5f553298dcdccb0e676|https://open.spotify.com/artist/06HL4z0CvFAxyc27GXpf02|null   |\n",
      "|Taylor Swift|Mine               |pop   |Sad |100.0     |https://i.scdn.co/image/ab6761610000e5ebe672b5f553298dcdccb0e676|https://open.spotify.com/artist/06HL4z0CvFAxyc27GXpf02|null   |\n",
      "|Taylor Swift|cardigan           |pop   |Sad |100.0     |https://i.scdn.co/image/ab6761610000e5ebe672b5f553298dcdccb0e676|https://open.spotify.com/artist/06HL4z0CvFAxyc27GXpf02|null   |\n",
      "|Taylor Swift|Welcome To New York|pop   |Sad |100.0     |https://i.scdn.co/image/ab6761610000e5ebe672b5f553298dcdccb0e676|https://open.spotify.com/artist/06HL4z0CvFAxyc27GXpf02|null   |\n",
      "|Taylor Swift|Cornelia Street    |pop   |Sad |100.0     |https://i.scdn.co/image/ab6761610000e5ebe672b5f553298dcdccb0e676|https://open.spotify.com/artist/06HL4z0CvFAxyc27GXpf02|null   |\n",
      "+------------+-------------------+------+----+----------+----------------------------------------------------------------+------------------------------------------------------+-------+\n",
      "\n"
     ]
    },
    {
     "name": "stderr",
     "output_type": "stream",
     "text": [
      "24/12/07 17:00:53 INFO Executor: Finished task 3.0 in stage 837.0 (TID 528). 12375 bytes result sent to driver\n",
      "24/12/07 17:00:53 INFO TaskSetManager: Finished task 3.0 in stage 837.0 (TID 528) in 1478 ms on c110709c2f0f (executor driver) (4/4)\n",
      "24/12/07 17:00:53 INFO TaskSchedulerImpl: Removed TaskSet 837.0, whose tasks have all completed, from pool \n",
      "24/12/07 17:00:53 INFO DAGScheduler: ResultStage 837 (showString at <unknown>:0) finished in 6.462 s\n",
      "24/12/07 17:00:53 INFO DAGScheduler: Job 168 is finished. Cancelling potential speculative or zombie tasks for this job\n",
      "24/12/07 17:00:53 INFO TaskSchedulerImpl: Killing all running tasks in stage 837: Stage finished\n",
      "24/12/07 17:00:53 INFO DAGScheduler: Job 168 finished: showString at <unknown>:0, took 6.470487 s\n",
      "24/12/07 17:00:53 INFO CodeGenerator: Code generated in 26.418683 ms            \n"
     ]
    },
    {
     "name": "stderr",
     "output_type": "stream",
     "text": [
      "24/12/07 17:01:45 INFO BlockManagerInfo: Removed broadcast_254_piece0 on c110709c2f0f:46049 in memory (size: 45.1 KiB, free: 434.4 MiB)\n"
     ]
    }
   ],
   "source": [
    "recommend_songs_by_mood_genre(final_df_mood_genre, \"Sad\", \"v-pop indie\", 5)"
   ]
  },
  {
   "cell_type": "code",
   "execution_count": 48,
   "metadata": {},
   "outputs": [
    {
     "name": "stderr",
     "output_type": "stream",
     "text": [
      "24/12/07 15:22:32 WARN MemoryStore: Not enough space to cache rdd_622_1 in memory! (computed 153.4 MiB so far)\n",
      "24/12/07 15:22:32 WARN MemoryStore: Not enough space to cache rdd_622_2 in memory! (computed 153.5 MiB so far)\n",
      "24/12/07 15:22:32 WARN MemoryStore: Not enough space to cache rdd_622_3 in memory! (computed 153.1 MiB so far)\n",
      "                                                                                \r"
     ]
    },
    {
     "name": "stdout",
     "output_type": "stream",
     "text": [
      "No tracks found with mood Neutral and genre v-rap. Here are some other suggestions:\n"
     ]
    },
    {
     "name": "stderr",
     "output_type": "stream",
     "text": [
      "24/12/07 15:22:33 WARN MemoryStore: Not enough space to cache rdd_622_1 in memory! (computed 153.4 MiB so far)\n",
      "24/12/07 15:22:33 WARN MemoryStore: Not enough space to cache rdd_622_2 in memory! (computed 153.5 MiB so far)\n",
      "24/12/07 15:22:34 WARN MemoryStore: Not enough space to cache rdd_622_3 in memory! (computed 153.1 MiB so far)\n",
      "                                                                                \r"
     ]
    },
    {
     "name": "stdout",
     "output_type": "stream",
     "text": [
      "No tracks found with genre. Showing random suggesstions by mood Neutral:\n"
     ]
    },
    {
     "name": "stderr",
     "output_type": "stream",
     "text": [
      "24/12/07 15:22:34 WARN MemoryStore: Not enough space to cache rdd_622_1 in memory! (computed 153.4 MiB so far)\n",
      "24/12/07 15:22:35 WARN MemoryStore: Not enough space to cache rdd_622_2 in memory! (computed 153.5 MiB so far)\n",
      "24/12/07 15:22:35 WARN MemoryStore: Not enough space to cache rdd_622_3 in memory! (computed 153.1 MiB so far)\n"
     ]
    },
    {
     "name": "stdout",
     "output_type": "stream",
     "text": [
      "+------------+--------------------------------------+------+-------+----------+----------------------------------------------------------------+------------------------------------------------------+-------+\n",
      "|artist_name |name                                  |genres|mood   |popularity|link_image                                                      |url                                                   |preview|\n",
      "+------------+--------------------------------------+------+-------+----------+----------------------------------------------------------------+------------------------------------------------------+-------+\n",
      "|Taylor Swift|this is me trying                     |pop   |Neutral|100.0     |https://i.scdn.co/image/ab6761610000e5ebe672b5f553298dcdccb0e676|https://open.spotify.com/artist/06HL4z0CvFAxyc27GXpf02|null   |\n",
      "|Taylor Swift|Wonderland                            |pop   |Neutral|100.0     |https://i.scdn.co/image/ab6761610000e5ebe672b5f553298dcdccb0e676|https://open.spotify.com/artist/06HL4z0CvFAxyc27GXpf02|null   |\n",
      "|Taylor Swift|Lavender Haze                         |pop   |Neutral|100.0     |https://i.scdn.co/image/ab6761610000e5ebe672b5f553298dcdccb0e676|https://open.spotify.com/artist/06HL4z0CvFAxyc27GXpf02|null   |\n",
      "|Taylor Swift|Come Back...Be Here                   |pop   |Neutral|100.0     |https://i.scdn.co/image/ab6761610000e5ebe672b5f553298dcdccb0e676|https://open.spotify.com/artist/06HL4z0CvFAxyc27GXpf02|null   |\n",
      "|Taylor Swift|Miss Americana & The Heartbreak Prince|pop   |Neutral|100.0     |https://i.scdn.co/image/ab6761610000e5ebe672b5f553298dcdccb0e676|https://open.spotify.com/artist/06HL4z0CvFAxyc27GXpf02|null   |\n",
      "+------------+--------------------------------------+------+-------+----------+----------------------------------------------------------------+------------------------------------------------------+-------+\n",
      "\n"
     ]
    },
    {
     "name": "stderr",
     "output_type": "stream",
     "text": [
      "                                                                                \r"
     ]
    }
   ],
   "source": [
    "recommend_songs_by_mood_genre(final_df_mood_genre, \"Neutral\", \"v-rap\", 5)"
   ]
  },
  {
   "cell_type": "code",
   "execution_count": null,
   "metadata": {},
   "outputs": [
    {
     "ename": "IllegalArgumentException",
     "evalue": "Don't know how to save StructField(features,org.apache.spark.ml.linalg.VectorUDT@3bfc3ba7,true) of type features to Snowflake",
     "output_type": "error",
     "traceback": [
      "\u001b[0;31m---------------------------------------------------------------------------\u001b[0m",
      "\u001b[0;31mIllegalArgumentException\u001b[0m                  Traceback (most recent call last)",
      "Cell \u001b[0;32mIn[27], line 14\u001b[0m\n\u001b[1;32m      1\u001b[0m \u001b[38;5;66;03m#upload into SnowFlake\u001b[39;00m\n\u001b[1;32m      2\u001b[0m snowflake_connection_options \u001b[38;5;241m=\u001b[39m {\n\u001b[1;32m      3\u001b[0m     \u001b[38;5;124m\"\u001b[39m\u001b[38;5;124msfURL\u001b[39m\u001b[38;5;124m\"\u001b[39m: \u001b[38;5;124m\"\u001b[39m\u001b[38;5;124mhttps://sl70006.southeast-asia.azure.snowflakecomputing.com\u001b[39m\u001b[38;5;124m\"\u001b[39m,\n\u001b[1;32m      4\u001b[0m     \u001b[38;5;124m\"\u001b[39m\u001b[38;5;124msfUser\u001b[39m\u001b[38;5;124m\"\u001b[39m: \u001b[38;5;124m\"\u001b[39m\u001b[38;5;124mHUYNHTHUAN\u001b[39m\u001b[38;5;124m\"\u001b[39m, \n\u001b[0;32m   (...)\u001b[0m\n\u001b[1;32m      7\u001b[0m     \u001b[38;5;124m\"\u001b[39m\u001b[38;5;124msfDatabase\u001b[39m\u001b[38;5;124m\"\u001b[39m: \u001b[38;5;124m\"\u001b[39m\u001b[38;5;124mSPOTIFY_RCM_SCHEMA\u001b[39m\u001b[38;5;124m\"\u001b[39m \n\u001b[1;32m      8\u001b[0m }\n\u001b[1;32m     10\u001b[0m \u001b[43mfinal_df_mood_genre\u001b[49m\u001b[38;5;241;43m.\u001b[39;49m\u001b[43mwrite\u001b[49m\u001b[38;5;241;43m.\u001b[39;49m\u001b[43mformat\u001b[49m\u001b[43m(\u001b[49m\u001b[38;5;124;43m\"\u001b[39;49m\u001b[38;5;124;43msnowflake\u001b[39;49m\u001b[38;5;124;43m\"\u001b[39;49m\u001b[43m)\u001b[49m\u001b[43m \u001b[49m\u001b[43m\\\u001b[49m\n\u001b[1;32m     11\u001b[0m \u001b[43m        \u001b[49m\u001b[38;5;241;43m.\u001b[39;49m\u001b[43moptions\u001b[49m\u001b[43m(\u001b[49m\u001b[38;5;241;43m*\u001b[39;49m\u001b[38;5;241;43m*\u001b[39;49m\u001b[43msnowflake_connection_options\u001b[49m\u001b[43m)\u001b[49m\u001b[43m \u001b[49m\u001b[43m\\\u001b[49m\n\u001b[1;32m     12\u001b[0m \u001b[43m        \u001b[49m\u001b[38;5;241;43m.\u001b[39;49m\u001b[43moption\u001b[49m\u001b[43m(\u001b[49m\u001b[38;5;124;43m\"\u001b[39;49m\u001b[38;5;124;43mdbtable\u001b[39;49m\u001b[38;5;124;43m\"\u001b[39;49m\u001b[43m,\u001b[49m\u001b[43m \u001b[49m\u001b[38;5;124;43m\"\u001b[39;49m\u001b[38;5;124;43mRCM_MOOD_GENRES_TABLE\u001b[39;49m\u001b[38;5;124;43m\"\u001b[39;49m\u001b[43m)\u001b[49m\u001b[43m \u001b[49m\u001b[43m\\\u001b[49m\n\u001b[1;32m     13\u001b[0m \u001b[43m        \u001b[49m\u001b[38;5;241;43m.\u001b[39;49m\u001b[43mmode\u001b[49m\u001b[43m(\u001b[49m\u001b[38;5;124;43m'\u001b[39;49m\u001b[38;5;124;43moverwrite\u001b[39;49m\u001b[38;5;124;43m'\u001b[39;49m\u001b[43m)\u001b[49m\u001b[43m \u001b[49m\u001b[43m\\\u001b[49m\n\u001b[0;32m---> 14\u001b[0m \u001b[43m        \u001b[49m\u001b[38;5;241;43m.\u001b[39;49m\u001b[43msave\u001b[49m\u001b[43m(\u001b[49m\u001b[43m)\u001b[49m\n",
      "File \u001b[0;32m/opt/conda/lib/python3.11/site-packages/pyspark/sql/readwriter.py:1396\u001b[0m, in \u001b[0;36mDataFrameWriter.save\u001b[0;34m(self, path, format, mode, partitionBy, **options)\u001b[0m\n\u001b[1;32m   1394\u001b[0m     \u001b[38;5;28mself\u001b[39m\u001b[38;5;241m.\u001b[39mformat(\u001b[38;5;28mformat\u001b[39m)\n\u001b[1;32m   1395\u001b[0m \u001b[38;5;28;01mif\u001b[39;00m path \u001b[38;5;129;01mis\u001b[39;00m \u001b[38;5;28;01mNone\u001b[39;00m:\n\u001b[0;32m-> 1396\u001b[0m     \u001b[38;5;28;43mself\u001b[39;49m\u001b[38;5;241;43m.\u001b[39;49m\u001b[43m_jwrite\u001b[49m\u001b[38;5;241;43m.\u001b[39;49m\u001b[43msave\u001b[49m\u001b[43m(\u001b[49m\u001b[43m)\u001b[49m\n\u001b[1;32m   1397\u001b[0m \u001b[38;5;28;01melse\u001b[39;00m:\n\u001b[1;32m   1398\u001b[0m     \u001b[38;5;28mself\u001b[39m\u001b[38;5;241m.\u001b[39m_jwrite\u001b[38;5;241m.\u001b[39msave(path)\n",
      "File \u001b[0;32m/opt/conda/lib/python3.11/site-packages/py4j/java_gateway.py:1322\u001b[0m, in \u001b[0;36mJavaMember.__call__\u001b[0;34m(self, *args)\u001b[0m\n\u001b[1;32m   1316\u001b[0m command \u001b[38;5;241m=\u001b[39m proto\u001b[38;5;241m.\u001b[39mCALL_COMMAND_NAME \u001b[38;5;241m+\u001b[39m\\\n\u001b[1;32m   1317\u001b[0m     \u001b[38;5;28mself\u001b[39m\u001b[38;5;241m.\u001b[39mcommand_header \u001b[38;5;241m+\u001b[39m\\\n\u001b[1;32m   1318\u001b[0m     args_command \u001b[38;5;241m+\u001b[39m\\\n\u001b[1;32m   1319\u001b[0m     proto\u001b[38;5;241m.\u001b[39mEND_COMMAND_PART\n\u001b[1;32m   1321\u001b[0m answer \u001b[38;5;241m=\u001b[39m \u001b[38;5;28mself\u001b[39m\u001b[38;5;241m.\u001b[39mgateway_client\u001b[38;5;241m.\u001b[39msend_command(command)\n\u001b[0;32m-> 1322\u001b[0m return_value \u001b[38;5;241m=\u001b[39m \u001b[43mget_return_value\u001b[49m\u001b[43m(\u001b[49m\n\u001b[1;32m   1323\u001b[0m \u001b[43m    \u001b[49m\u001b[43manswer\u001b[49m\u001b[43m,\u001b[49m\u001b[43m \u001b[49m\u001b[38;5;28;43mself\u001b[39;49m\u001b[38;5;241;43m.\u001b[39;49m\u001b[43mgateway_client\u001b[49m\u001b[43m,\u001b[49m\u001b[43m \u001b[49m\u001b[38;5;28;43mself\u001b[39;49m\u001b[38;5;241;43m.\u001b[39;49m\u001b[43mtarget_id\u001b[49m\u001b[43m,\u001b[49m\u001b[43m \u001b[49m\u001b[38;5;28;43mself\u001b[39;49m\u001b[38;5;241;43m.\u001b[39;49m\u001b[43mname\u001b[49m\u001b[43m)\u001b[49m\n\u001b[1;32m   1325\u001b[0m \u001b[38;5;28;01mfor\u001b[39;00m temp_arg \u001b[38;5;129;01min\u001b[39;00m temp_args:\n\u001b[1;32m   1326\u001b[0m     \u001b[38;5;28;01mif\u001b[39;00m \u001b[38;5;28mhasattr\u001b[39m(temp_arg, \u001b[38;5;124m\"\u001b[39m\u001b[38;5;124m_detach\u001b[39m\u001b[38;5;124m\"\u001b[39m):\n",
      "File \u001b[0;32m/opt/conda/lib/python3.11/site-packages/pyspark/errors/exceptions/captured.py:175\u001b[0m, in \u001b[0;36mcapture_sql_exception.<locals>.deco\u001b[0;34m(*a, **kw)\u001b[0m\n\u001b[1;32m    171\u001b[0m converted \u001b[38;5;241m=\u001b[39m convert_exception(e\u001b[38;5;241m.\u001b[39mjava_exception)\n\u001b[1;32m    172\u001b[0m \u001b[38;5;28;01mif\u001b[39;00m \u001b[38;5;129;01mnot\u001b[39;00m \u001b[38;5;28misinstance\u001b[39m(converted, UnknownException):\n\u001b[1;32m    173\u001b[0m     \u001b[38;5;66;03m# Hide where the exception came from that shows a non-Pythonic\u001b[39;00m\n\u001b[1;32m    174\u001b[0m     \u001b[38;5;66;03m# JVM exception message.\u001b[39;00m\n\u001b[0;32m--> 175\u001b[0m     \u001b[38;5;28;01mraise\u001b[39;00m converted \u001b[38;5;28;01mfrom\u001b[39;00m \u001b[38;5;28;01mNone\u001b[39;00m\n\u001b[1;32m    176\u001b[0m \u001b[38;5;28;01melse\u001b[39;00m:\n\u001b[1;32m    177\u001b[0m     \u001b[38;5;28;01mraise\u001b[39;00m\n",
      "\u001b[0;31mIllegalArgumentException\u001b[0m: Don't know how to save StructField(features,org.apache.spark.ml.linalg.VectorUDT@3bfc3ba7,true) of type features to Snowflake"
     ]
    }
   ],
   "source": [
    "#upload into SnowFlake\n",
    "snowflake_connection_options = {\n",
    "    \"sfURL\": \"https://sl70006.southeast-asia.azure.snowflakecomputing.com\",\n",
    "    \"sfUser\": \"HUYNHTHUAN\", \n",
    "    \"sfPassword\": \"Thuan123456\",\n",
    "    \"sfWarehouse\": \"COMPUTE_WH\",\n",
    "    \"sfDatabase\": \"SPOTIFY_RCM_SCHEMA\" \n",
    "}\n",
    "\n",
    "final_df_mood_genre = final_df_mood_genre.select('artist_id', 'artist_name', 'album_name',\n",
    "                                                 'genres', 'link_image','url', 'album_type',\n",
    "                                                 'release_date_precision', 'track_id', 'name', \n",
    "                                                 'preview', 'followers', 'mood')\n",
    "final_df_mood_genre.write.format(\"snowflake\") \\\n",
    "        .options(**snowflake_connection_options) \\\n",
    "        .option(\"dbtable\", \"RCM_MOOD_GENRES_TABLE\") \\\n",
    "        .mode('overwrite') \\\n",
    "        .save()\n"
   ]
  },
  {
   "cell_type": "code",
   "execution_count": null,
   "metadata": {},
   "outputs": [],
   "source": [
    "RE"
   ]
  }
 ],
 "metadata": {
  "kernelspec": {
   "display_name": "Python 3 (ipykernel)",
   "language": "python",
   "name": "python3"
  },
  "language_info": {
   "codemirror_mode": {
    "name": "ipython",
    "version": 3
   },
   "file_extension": ".py",
   "mimetype": "text/x-python",
   "name": "python",
   "nbconvert_exporter": "python",
   "pygments_lexer": "ipython3",
   "version": "3.11.6"
  }
 },
 "nbformat": 4,
 "nbformat_minor": 2
}
