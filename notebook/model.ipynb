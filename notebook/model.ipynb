{
 "cells": [
  {
   "cell_type": "markdown",
   "metadata": {},
   "source": [
    "#### Spark & Hadoop Operations"
   ]
  },
  {
   "cell_type": "code",
   "execution_count": null,
   "metadata": {},
   "outputs": [],
   "source": [
    "from pyspark.sql import SparkSession\n",
    "from pyspark import SparkConf\n",
    "conf = SparkConf()\n",
    "#set config\n",
    "conf = conf.setAppName(\"ml_sparkSession\") \\\n",
    "           .setMaster('local') \\\n",
    "           .set(\"spark.executor.memory\", \"4g\") \\\n",
    "           .set(\"spark.executor.cores\", \"2\") \\\n",
    "           .set(\"spark.sql.shuffle.partitions\", \"4\") \\\n",
    "           .set(\"spark.executor.instances\", \"2\") \n",
    "#create Spark Session\n",
    "spark = SparkSession.builder.config(conf = conf).getOrCreate()"
   ]
  },
  {
   "cell_type": "code",
   "execution_count": 13,
   "metadata": {},
   "outputs": [],
   "source": [
    "#read data\n",
    "silver_artist = spark.read.parquet(\"hdfs://namenode:9000/datalake/silver_data/silver_artist\")\n",
    "silver_album = spark.read.parquet(\"hdfs://namenode:9000/datalake/silver_data/silver_album\")\n",
    "silver_track = spark.read.parquet(\"hdfs://namenode:9000/datalake/silver_data/silver_track\")\n",
    "silver_track_feature = spark.read.parquet(\"hdfs://namenode:9000/datalake/silver_data/silver_track_feature\")\n",
    "#rename columns\n",
    "silver_artist = silver_artist.withColumnRenamed('id', 'artist_id') \\\n",
    "                            .withColumnRenamed('name', 'artist_name')\n",
    "#drop unnecessary columns and rename columns \n",
    "silver_album = silver_album.drop('artist', 'label', 'popularity', 'copyrights', 'url', 'link_image') \\\n",
    "                        .withColumnRenamed('id', 'album_id') \\\n",
    "                        .withColumnRenamed('name', 'album_name') \\\n",
    "                        .withColumnRenamed('type', 'album_type')  \\\n",
    "                        .withColumnRenamed('popularity', 'album_popularity')\n",
    "#joining table and creating summary album table\n",
    "summary_album_table = silver_artist.join(silver_album, on = 'artist_id', how = 'inner')\n",
    "summary_album_table = summary_album_table.select('artist_id','artist_name','album_id','album_name',\n",
    "                        'genres','followers','popularity','link_image','url','album_type',\n",
    "                        'total_tracks','release_date','release_date_precision')\n",
    "\n",
    "#joining table and creating summary track feature table\n",
    "silver_track = silver_track.select('album_id', 'album_name', 'id', 'name', 'preview')\n",
    "summary_feature_table = silver_track.join(silver_track_feature, on = 'id', how = 'left')\n",
    "summary_feature_table = summary_feature_table.withColumnRenamed('id', 'track_id')"
   ]
  },
  {
   "cell_type": "code",
   "execution_count": null,
   "metadata": {},
   "outputs": [
    {
     "name": "stderr",
     "output_type": "stream",
     "text": [
      "[Stage 18:>                                                         (0 + 1) / 1]\r"
     ]
    },
    {
     "name": "stdout",
     "output_type": "stream",
     "text": [
      "+--------------------+--------------------+--------------------+--------------------+--------------------+------------+------+----+--------+----+-----------+------------+----------------+--------+-------+-------+--------------+\n",
      "|            track_id|            album_id|          album_name|                name|             preview|danceability|energy| key|loudness|mode|speechiness|acousticness|instrumentalness|liveness|valence|  tempo|time_signature|\n",
      "+--------------------+--------------------+--------------------+--------------------+--------------------+------------+------+----+--------+----+-----------+------------+----------------+--------+-------+-------+--------------+\n",
      "|0006Rv1e2Xfh6Qooy...|1BD29pKydSXe1EsHF...|Colin Frake On Fi...|           Nightwood|https://p.scdn.co...|       0.295| 0.498|   2|   -9.19|   0|     0.0301|       0.795|           0.944|   0.107| 0.0445| 89.048|             3|\n",
      "|0007AYhg2UQbEm88m...|32RJzqlapfiU0fr2l...|             E.D.G.E|Mandarin Oranges ...|https://p.scdn.co...|       0.648| 0.598|   7| -11.845|   1|      0.326|       0.164|         4.62E-5|   0.123|    0.4|138.883|             4|\n",
      "|000NfL9hLeDwIq0MM...|2bzYq3sEUgarG5TZA...|      Un peu de nous|     Fleur de jasmin|https://p.scdn.co...|       0.577| 0.613|  11|  -8.263|   1|     0.0451|      0.0878|             0.0|  0.0637|  0.423|169.848|             4|\n",
      "|000innRYB3slwf1vm...|0kCLC94FSqmnbLCu5...|      Pec nám spadla|     Červený šátečku|https://p.scdn.co...|       0.695| 0.548|   0|   -6.42|   1|     0.0652|       0.821|             0.0|   0.224|   0.92| 98.259|             3|\n",
      "|000jvlP4zsTvLofjV...|6Sz3V9aMJWj1Qe457...|Folge 147: Rettun...|Kapitel 25: Rettu...|https://p.scdn.co...|        0.66| 0.287|   6| -24.966|   0|      0.913|        0.26|             0.0|   0.454|  0.486| 83.473|             5|\n",
      "|000nLO3ITcLShwYP9...|63ZkoG2iCUH77Oovi...|     Salam Reformasi|Ujung Aspal Pondo...|                null|       0.392| 0.488|   7|  -8.606|   1|      0.028|       0.352|         6.46E-6|   0.224|  0.375|130.551|             3|\n",
      "|0013BWw5C4DiQ49JK...|5tYAdKZuwboSSLXgG...|Da Nije Ljubavi -...|Napiši Jednu Ljub...|https://p.scdn.co...|        null|  null|null|    null|null|       null|        null|            null|    null|   null|   null|          null|\n",
      "|0015Q1y13od916Rb9...|0jERAlUJkTvscYCps...|The Future Of Par...|        Here We Come|https://p.scdn.co...|       0.909| 0.686|  10|  -6.943|   0|      0.229|       0.187|         0.00198|  0.0826|  0.867| 93.914|             4|\n",
      "|0017X8WLRWfanV5N4...|42lVn47jLs2NMQWaN...|          Неизданное|Станция бульвар м...|https://p.scdn.co...|       0.443| 0.842|   7|  -6.774|   1|      0.346|       0.128|             0.0|   0.653|  0.603| 92.185|             4|\n",
      "|001CJF57pI6QLXivC...|3Z5eTl8JjXIWoMx3M...|           The EXILE|         Lord Of All|                null|        0.22|  0.63|   6|  -7.475|   0|     0.0664|       0.132|             0.0|   0.113|  0.326|177.031|             3|\n",
      "|001UkMQHw4zXfFNdK...|0U3nI78LUpAwprraU...|              Reboot|Brand New Man - w...|https://p.scdn.co...|       0.573| 0.846|   7|  -4.866|   1|     0.0344|     0.00372|         7.87E-5|    0.29|  0.562|127.061|             4|\n",
      "|001XFtkTBYHh2Dpmv...|4QtoNIqTWR3e5NVb8...|Who by Fire - Liv...|You Want It Darke...|https://p.scdn.co...|       0.402| 0.411|   6| -14.542|   0|     0.0445|       0.342|           0.111|   0.234| 0.0396| 113.82|             4|\n",
      "|001iFcI2PVrLteroX...|50r1BRsfeBhwmlCH2...|            PART TWO|                Lova|https://p.scdn.co...|       0.329| 0.374|   5| -12.996|   1|     0.0558|       0.902|          0.0587|   0.112|  0.197|178.047|             4|\n",
      "|001s2eLYo02NswArB...|0pLhor64x4azj5ZCt...|أمنية (موسيقى تصو...|Welcome To Rosas ...|                null|       0.506|  0.74|   9| -10.913|   1|      0.122|       0.278|           0.796|   0.106|  0.757|173.907|             4|\n",
      "|001s841pzfAyyCPN0...|5mKPjnW9QTXeIWR5i...|        My Zouk Hits|              Deeper|https://p.scdn.co...|       0.767| 0.732|   5|   -7.71|   1|     0.0838|       0.313|         1.65E-6|   0.342|  0.712|111.994|             5|\n",
      "|0023Sl2HzBRO8mb9z...|3T3pzGfUFqU3JJZbO...|Juancho de la Esp...|La Folclorista - ...|https://p.scdn.co...|       0.577| 0.553|   7| -16.827|   1|      0.103|       0.107|         1.47E-6|   0.597|  0.701|115.606|             4|\n",
      "|0027ieBi9A9gDoOig...|4RCsbHvOjObGAmFKN...|      約束の日 Vol.2| 誕生 (THE DAY LIVE)|https://p.scdn.co...|       0.183| 0.906|   0| -11.846|   1|      0.581|      0.0743|          0.0221|   0.735|   0.16| 72.006|             4|\n",
      "|0027zf5idrflGmhXs...|3qBWNcWifNhUKJAWz...|Stick Season (For...|   She Calls Me Back|                null|       0.749| 0.687|  11|  -6.497|   1|     0.0364|      0.0786|             0.0|    0.28|  0.723|127.905|             4|\n",
      "|002RbcPdQrqQpUuXf...|04zsilMZvyghLUmdQ...|               Ready|  Peter's Confession|https://p.scdn.co...|       0.482| 0.467|   2| -10.912|   0|     0.0761|      0.0683|             0.0|  0.0758|  0.313|146.163|             4|\n",
      "|002WONNigMNqbklmu...|16HzvsEFGtokCkTUM...|    Burnin' Sneakers|         We R Atomic|https://p.scdn.co...|       0.829| 0.924|   7|  -6.126|   1|      0.173|     0.00754|         1.57E-6|   0.946|  0.763| 126.99|             4|\n",
      "+--------------------+--------------------+--------------------+--------------------+--------------------+------------+------+----+--------+----+-----------+------------+----------------+--------+-------+-------+--------------+\n",
      "only showing top 20 rows\n",
      "\n"
     ]
    },
    {
     "name": "stderr",
     "output_type": "stream",
     "text": [
      "                                                                                \r"
     ]
    }
   ],
   "source": [
    "summary_album_table.show()\n",
    "summary_feature_table.show()"
   ]
  }
 ],
 "metadata": {
  "kernelspec": {
   "display_name": "Python 3 (ipykernel)",
   "language": "python",
   "name": "python3"
  },
  "language_info": {
   "codemirror_mode": {
    "name": "ipython",
    "version": 3
   },
   "file_extension": ".py",
   "mimetype": "text/x-python",
   "name": "python",
   "nbconvert_exporter": "python",
   "pygments_lexer": "ipython3",
   "version": "3.11.6"
  }
 },
 "nbformat": 4,
 "nbformat_minor": 2
}
