{
 "cells": [
  {
   "cell_type": "code",
   "execution_count": 4,
   "metadata": {},
   "outputs": [],
   "source": [
    "from pyspark.sql import SparkSession\n",
    "from pyspark import SparkConf\n",
    "from pyspark import StorageLevel\n",
    "conf = SparkConf()\n",
    "#set config\n",
    "conf = conf.setAppName(\"ml_sparkSession\") \\\n",
    "           .setMaster('local') \\\n",
    "           .set(\"spark.executor.memory\", \"2g\") \\\n",
    "           .set(\"spark.executor.cores\", \"2\") \\\n",
    "           .set(\"spark.sql.shuffle.partitions\", \"4\") \\\n",
    "           .set(\"spark.executor.instances\", \"2\") \n",
    "#create Spark Session\n",
    "spark = SparkSession.builder.config(conf = conf).getOrCreate()"
   ]
  },
  {
   "cell_type": "code",
   "execution_count": 5,
   "metadata": {},
   "outputs": [
    {
     "name": "stderr",
     "output_type": "stream",
     "text": [
      "24/12/07 10:20:55 WARN CacheManager: Asked to cache already cached data.\n"
     ]
    },
    {
     "data": {
      "text/plain": [
       "DataFrame[album_id: string, artist_id: string, artist_name: string, album_name: string, genres: string, followers: int, popularity: int, link_image: string, url: string, album_type: string, total_tracks: int, release_date: date, release_date_precision: string, track_id: string, name: string, preview: string, danceability: float, energy: float, key: int, loudness: float, mode: int, speechiness: float, acousticness: float, instrumentalness: float, liveness: float, valence: float, tempo: float, time_signature: int]"
      ]
     },
     "execution_count": 5,
     "metadata": {},
     "output_type": "execute_result"
    }
   ],
   "source": [
    "#read data\n",
    "silver_artist = spark.read.parquet(\"hdfs://namenode:9000/datalake/silver_data/silver_artist\")\n",
    "silver_album = spark.read.parquet(\"hdfs://namenode:9000/datalake/silver_data/silver_album\")\n",
    "silver_track = spark.read.parquet(\"hdfs://namenode:9000/datalake/silver_data/silver_track\")\n",
    "silver_track_feature = spark.read.parquet(\"hdfs://namenode:9000/datalake/silver_data/silver_track_feature\")\n",
    "#rename columns\n",
    "silver_artist = silver_artist.withColumnRenamed('id', 'artist_id') \\\n",
    "                            .withColumnRenamed('name', 'artist_name')\n",
    "#drop unnecessary columns and rename columns \n",
    "silver_album = silver_album.drop('artist', 'label', 'popularity', 'copyrights', 'url', 'link_image') \\\n",
    "                        .withColumnRenamed('id', 'album_id') \\\n",
    "                        .withColumnRenamed('name', 'album_name') \\\n",
    "                        .withColumnRenamed('type', 'album_type')  \\\n",
    "                        .withColumnRenamed('popularity', 'album_popularity')\n",
    "#joining table and creating summary album table\n",
    "summary_album_table = silver_artist.join(silver_album, on = 'artist_id', how = 'inner')\n",
    "summary_album_table = summary_album_table.select('artist_id','artist_name','album_id','album_name',\n",
    "                        'genres','followers','popularity','link_image','url','album_type',\n",
    "                        'total_tracks','release_date','release_date_precision')\n",
    "\n",
    "#joining table and creating summary track feature table\n",
    "silver_track = silver_track.select('album_id', 'id', 'name', 'preview')\n",
    "summary_feature_table = silver_track.join(silver_track_feature, on = 'id', how = 'left')\n",
    "summary_feature_table = summary_feature_table.withColumnRenamed('id', 'track_id')\n",
    "\n",
    "summary_table = summary_album_table.join(summary_feature_table, on = 'album_id', how = 'inner')\n",
    "summary_table.persist(StorageLevel.MEMORY_AND_DISK)"
   ]
  },
  {
   "cell_type": "code",
   "execution_count": 8,
   "metadata": {},
   "outputs": [
    {
     "name": "stdout",
     "output_type": "stream",
     "text": [
      "+----------------------+----------------------+-----------+----------------------------------------+----------------+---------+----------+----------------------------------------------------------------+------------------------------------------------------+----------+------------+------------+----------------------+----------------------+--------------------------------------+-----------------------------------------------------------------------------------------------------------+------------+------+---+--------+----+-----------+------------+----------------+--------+-------+-------+--------------+\n",
      "|album_id              |artist_id             |artist_name|album_name                              |genres          |followers|popularity|link_image                                                      |url                                                   |album_type|total_tracks|release_date|release_date_precision|track_id              |name                                  |preview                                                                                                    |danceability|energy|key|loudness|mode|speechiness|acousticness|instrumentalness|liveness|valence|tempo  |time_signature|\n",
      "+----------------------+----------------------+-----------+----------------------------------------+----------------+---------+----------+----------------------------------------------------------------+------------------------------------------------------+----------+------------+------------+----------------------+----------------------+--------------------------------------+-----------------------------------------------------------------------------------------------------------+------------+------+---+--------+----+-----------+------------+----------------+--------+-------+-------+--------------+\n",
      "|000LYwpRfBAlh4aFMYLsep|1dVygo6tRFXC8CSWURQJq2|Sonu Nigam |Sonu Nigam Kannada Hits Birthday Special|modern bollywood|18221992 |77        |https://i.scdn.co/image/ab6761610000e5ebbc959d7569618ec2af2210f5|https://open.spotify.com/artist/1dVygo6tRFXC8CSWURQJq2|album     |7           |2017-07-30  |day                   |49Rok6gqXzoDQDojE89LZX|Neeli Neeli                           |https://p.scdn.co/mp3-preview/5e824e01bbf19e14a57a1ab0bc4e460d5bd6f915?cid=05e2ff0a21954615b11878a9eb038e7f|0.746       |0.677 |7  |-6.975  |0   |0.123      |0.651       |0.0             |0.124   |0.833  |91.943 |4             |\n",
      "|000LYwpRfBAlh4aFMYLsep|1dVygo6tRFXC8CSWURQJq2|Sonu Nigam |Sonu Nigam Kannada Hits Birthday Special|modern bollywood|18221992 |77        |https://i.scdn.co/image/ab6761610000e5ebbc959d7569618ec2af2210f5|https://open.spotify.com/artist/1dVygo6tRFXC8CSWURQJq2|album     |7           |2017-07-30  |day                   |7cJiDhNrCCImpIjSWOjKr5|Beladingala Raatri                    |https://p.scdn.co/mp3-preview/e04d3bb24a5722135782e6e511caac25a584f0bc?cid=05e2ff0a21954615b11878a9eb038e7f|0.528       |0.402 |7  |-6.236  |0   |0.034      |0.675       |0.0             |0.349   |0.548  |149.762|3             |\n",
      "|000LYwpRfBAlh4aFMYLsep|1dVygo6tRFXC8CSWURQJq2|Sonu Nigam |Sonu Nigam Kannada Hits Birthday Special|modern bollywood|18221992 |77        |https://i.scdn.co/image/ab6761610000e5ebbc959d7569618ec2af2210f5|https://open.spotify.com/artist/1dVygo6tRFXC8CSWURQJq2|album     |7           |2017-07-30  |day                   |436eyq4pGkP6yhfy6dC9SI|Nannavalu Nannavalu                   |https://p.scdn.co/mp3-preview/3250f4554dac772bb44292f34a9beee6243324f7?cid=05e2ff0a21954615b11878a9eb038e7f|0.686       |0.588 |5  |-11.361 |0   |0.0998     |0.458       |0.0             |0.236   |0.806  |173.879|4             |\n",
      "|000LYwpRfBAlh4aFMYLsep|1dVygo6tRFXC8CSWURQJq2|Sonu Nigam |Sonu Nigam Kannada Hits Birthday Special|modern bollywood|18221992 |77        |https://i.scdn.co/image/ab6761610000e5ebbc959d7569618ec2af2210f5|https://open.spotify.com/artist/1dVygo6tRFXC8CSWURQJq2|album     |7           |2017-07-30  |day                   |43rGRbdULW6J93E7Xn90xO|O Manase                              |https://p.scdn.co/mp3-preview/fbe03d6a6865a6ac7e5680831041c090a367df69?cid=05e2ff0a21954615b11878a9eb038e7f|0.653       |0.546 |2  |-6.986  |1   |0.0319     |0.338       |8.01E-5         |0.139   |0.434  |90.015 |4             |\n",
      "|000LYwpRfBAlh4aFMYLsep|1dVygo6tRFXC8CSWURQJq2|Sonu Nigam |Sonu Nigam Kannada Hits Birthday Special|modern bollywood|18221992 |77        |https://i.scdn.co/image/ab6761610000e5ebbc959d7569618ec2af2210f5|https://open.spotify.com/artist/1dVygo6tRFXC8CSWURQJq2|album     |7           |2017-07-30  |day                   |5DPg7CrZJ7v2ow6t2F0mxk|Thusu Preethiya                       |https://p.scdn.co/mp3-preview/e8a96cdf469ecf0659295141fbead481005911c4?cid=05e2ff0a21954615b11878a9eb038e7f|0.447       |0.651 |4  |-7.143  |1   |0.0423     |0.509       |0.00321         |0.138   |0.377  |80.217 |4             |\n",
      "|000LYwpRfBAlh4aFMYLsep|1dVygo6tRFXC8CSWURQJq2|Sonu Nigam |Sonu Nigam Kannada Hits Birthday Special|modern bollywood|18221992 |77        |https://i.scdn.co/image/ab6761610000e5ebbc959d7569618ec2af2210f5|https://open.spotify.com/artist/1dVygo6tRFXC8CSWURQJq2|album     |7           |2017-07-30  |day                   |1DAjWSRoFuJfrKlHjRYpov|Ee Thuditha                           |https://p.scdn.co/mp3-preview/dfe6ad3c99e858fe54c6065e9a42932680caf51e?cid=05e2ff0a21954615b11878a9eb038e7f|0.672       |0.948 |4  |-7.154  |0   |0.0958     |0.148       |0.0             |0.679   |0.702  |127.984|4             |\n",
      "|000LYwpRfBAlh4aFMYLsep|1dVygo6tRFXC8CSWURQJq2|Sonu Nigam |Sonu Nigam Kannada Hits Birthday Special|modern bollywood|18221992 |77        |https://i.scdn.co/image/ab6761610000e5ebbc959d7569618ec2af2210f5|https://open.spotify.com/artist/1dVygo6tRFXC8CSWURQJq2|album     |7           |2017-07-30  |day                   |7E1vG6y0dGy6bU64ZLq9hk|Ninna Nenape                          |https://p.scdn.co/mp3-preview/198ab005ee8a2e009f882e2326a16acaf8aba810?cid=05e2ff0a21954615b11878a9eb038e7f|0.649       |0.405 |0  |-8.958  |0   |0.027      |0.821       |0.00446         |0.136   |0.481  |114.128|4             |\n",
      "|000LYwpRfBAlh4aFMYLsep|1dVygo6tRFXC8CSWURQJq2|Sonu Nigam |Sonu Nigam Kannada Hits Birthday Special|filmi           |18221992 |77        |https://i.scdn.co/image/ab6761610000e5ebbc959d7569618ec2af2210f5|https://open.spotify.com/artist/1dVygo6tRFXC8CSWURQJq2|album     |7           |2017-07-30  |day                   |49Rok6gqXzoDQDojE89LZX|Neeli Neeli                           |https://p.scdn.co/mp3-preview/5e824e01bbf19e14a57a1ab0bc4e460d5bd6f915?cid=05e2ff0a21954615b11878a9eb038e7f|0.746       |0.677 |7  |-6.975  |0   |0.123      |0.651       |0.0             |0.124   |0.833  |91.943 |4             |\n",
      "|000LYwpRfBAlh4aFMYLsep|1dVygo6tRFXC8CSWURQJq2|Sonu Nigam |Sonu Nigam Kannada Hits Birthday Special|filmi           |18221992 |77        |https://i.scdn.co/image/ab6761610000e5ebbc959d7569618ec2af2210f5|https://open.spotify.com/artist/1dVygo6tRFXC8CSWURQJq2|album     |7           |2017-07-30  |day                   |7cJiDhNrCCImpIjSWOjKr5|Beladingala Raatri                    |https://p.scdn.co/mp3-preview/e04d3bb24a5722135782e6e511caac25a584f0bc?cid=05e2ff0a21954615b11878a9eb038e7f|0.528       |0.402 |7  |-6.236  |0   |0.034      |0.675       |0.0             |0.349   |0.548  |149.762|3             |\n",
      "|000LYwpRfBAlh4aFMYLsep|1dVygo6tRFXC8CSWURQJq2|Sonu Nigam |Sonu Nigam Kannada Hits Birthday Special|filmi           |18221992 |77        |https://i.scdn.co/image/ab6761610000e5ebbc959d7569618ec2af2210f5|https://open.spotify.com/artist/1dVygo6tRFXC8CSWURQJq2|album     |7           |2017-07-30  |day                   |436eyq4pGkP6yhfy6dC9SI|Nannavalu Nannavalu                   |https://p.scdn.co/mp3-preview/3250f4554dac772bb44292f34a9beee6243324f7?cid=05e2ff0a21954615b11878a9eb038e7f|0.686       |0.588 |5  |-11.361 |0   |0.0998     |0.458       |0.0             |0.236   |0.806  |173.879|4             |\n",
      "|000LYwpRfBAlh4aFMYLsep|1dVygo6tRFXC8CSWURQJq2|Sonu Nigam |Sonu Nigam Kannada Hits Birthday Special|filmi           |18221992 |77        |https://i.scdn.co/image/ab6761610000e5ebbc959d7569618ec2af2210f5|https://open.spotify.com/artist/1dVygo6tRFXC8CSWURQJq2|album     |7           |2017-07-30  |day                   |43rGRbdULW6J93E7Xn90xO|O Manase                              |https://p.scdn.co/mp3-preview/fbe03d6a6865a6ac7e5680831041c090a367df69?cid=05e2ff0a21954615b11878a9eb038e7f|0.653       |0.546 |2  |-6.986  |1   |0.0319     |0.338       |8.01E-5         |0.139   |0.434  |90.015 |4             |\n",
      "|000LYwpRfBAlh4aFMYLsep|1dVygo6tRFXC8CSWURQJq2|Sonu Nigam |Sonu Nigam Kannada Hits Birthday Special|filmi           |18221992 |77        |https://i.scdn.co/image/ab6761610000e5ebbc959d7569618ec2af2210f5|https://open.spotify.com/artist/1dVygo6tRFXC8CSWURQJq2|album     |7           |2017-07-30  |day                   |5DPg7CrZJ7v2ow6t2F0mxk|Thusu Preethiya                       |https://p.scdn.co/mp3-preview/e8a96cdf469ecf0659295141fbead481005911c4?cid=05e2ff0a21954615b11878a9eb038e7f|0.447       |0.651 |4  |-7.143  |1   |0.0423     |0.509       |0.00321         |0.138   |0.377  |80.217 |4             |\n",
      "|000LYwpRfBAlh4aFMYLsep|1dVygo6tRFXC8CSWURQJq2|Sonu Nigam |Sonu Nigam Kannada Hits Birthday Special|filmi           |18221992 |77        |https://i.scdn.co/image/ab6761610000e5ebbc959d7569618ec2af2210f5|https://open.spotify.com/artist/1dVygo6tRFXC8CSWURQJq2|album     |7           |2017-07-30  |day                   |1DAjWSRoFuJfrKlHjRYpov|Ee Thuditha                           |https://p.scdn.co/mp3-preview/dfe6ad3c99e858fe54c6065e9a42932680caf51e?cid=05e2ff0a21954615b11878a9eb038e7f|0.672       |0.948 |4  |-7.154  |0   |0.0958     |0.148       |0.0             |0.679   |0.702  |127.984|4             |\n",
      "|000LYwpRfBAlh4aFMYLsep|1dVygo6tRFXC8CSWURQJq2|Sonu Nigam |Sonu Nigam Kannada Hits Birthday Special|filmi           |18221992 |77        |https://i.scdn.co/image/ab6761610000e5ebbc959d7569618ec2af2210f5|https://open.spotify.com/artist/1dVygo6tRFXC8CSWURQJq2|album     |7           |2017-07-30  |day                   |7E1vG6y0dGy6bU64ZLq9hk|Ninna Nenape                          |https://p.scdn.co/mp3-preview/198ab005ee8a2e009f882e2326a16acaf8aba810?cid=05e2ff0a21954615b11878a9eb038e7f|0.649       |0.405 |0  |-8.958  |0   |0.027      |0.821       |0.00446         |0.136   |0.481  |114.128|4             |\n",
      "|000fJX0XXUpWDpgitRo3F3|4sf4DrAOkheqktxTyKm7tO|AmaLee     |Unity                                   |otacore         |507318   |59        |https://i.scdn.co/image/ab6761610000e5eb57b5e5d0748723c44fd9aa36|https://open.spotify.com/artist/4sf4DrAOkheqktxTyKm7tO|album     |12          |2020-08-05  |day                   |4nFcTybnh5zmRNoFM0Mnqj|Database (From “Log Horizon”)         |https://p.scdn.co/mp3-preview/e0a104e212c0bc735d0f58407eafb8b81868c103?cid=d636b62692f94f7ab8495b4d490e26cc|0.481       |0.98  |6  |-3.369  |1   |0.189      |3.35E-4     |0.0             |0.343   |0.554  |177.013|4             |\n",
      "|000fJX0XXUpWDpgitRo3F3|4sf4DrAOkheqktxTyKm7tO|AmaLee     |Unity                                   |otacore         |507318   |59        |https://i.scdn.co/image/ab6761610000e5eb57b5e5d0748723c44fd9aa36|https://open.spotify.com/artist/4sf4DrAOkheqktxTyKm7tO|album     |12          |2020-08-05  |day                   |6KdDQ8lbgQUUhzB8Bc6SxU|Orange (From “Your Lie in April”)     |https://p.scdn.co/mp3-preview/602ad8ff8b1efd4814231597589fd27a7cb32036?cid=d636b62692f94f7ab8495b4d490e26cc|0.405       |0.254 |6  |-10.093 |1   |0.0433     |0.907       |0.0             |0.1     |0.245  |83.43  |4             |\n",
      "|000fJX0XXUpWDpgitRo3F3|4sf4DrAOkheqktxTyKm7tO|AmaLee     |Unity                                   |otacore         |507318   |59        |https://i.scdn.co/image/ab6761610000e5eb57b5e5d0748723c44fd9aa36|https://open.spotify.com/artist/4sf4DrAOkheqktxTyKm7tO|album     |12          |2020-08-05  |day                   |4w5qVlvioWz1mfhlanj3Bj|Fallen Angel (From “Panty & Stocking”)|https://p.scdn.co/mp3-preview/bbff4517c3773e6b805f3fde393a9294375c6944?cid=d636b62692f94f7ab8495b4d490e26cc|0.611       |0.931 |10 |-3.071  |0   |0.0381     |0.033       |1.03E-5         |0.15    |0.872  |94.972 |4             |\n",
      "|000fJX0XXUpWDpgitRo3F3|4sf4DrAOkheqktxTyKm7tO|AmaLee     |Unity                                   |otacore         |507318   |59        |https://i.scdn.co/image/ab6761610000e5eb57b5e5d0748723c44fd9aa36|https://open.spotify.com/artist/4sf4DrAOkheqktxTyKm7tO|album     |12          |2020-08-05  |day                   |59dUsq3cezMd1OXdP0JXAl|Enamel (From “Black Butler”)          |https://p.scdn.co/mp3-preview/305c5e0745553d672645a0092772e2879cc44a12?cid=d636b62692f94f7ab8495b4d490e26cc|0.543       |0.942 |5  |-4.626  |0   |0.0473     |3.63E-4     |8.16E-5         |0.331   |0.442  |112.03 |4             |\n",
      "|000fJX0XXUpWDpgitRo3F3|4sf4DrAOkheqktxTyKm7tO|AmaLee     |Unity                                   |otacore         |507318   |59        |https://i.scdn.co/image/ab6761610000e5eb57b5e5d0748723c44fd9aa36|https://open.spotify.com/artist/4sf4DrAOkheqktxTyKm7tO|album     |12          |2020-08-05  |day                   |5CXCoK5wi0qBD0WQA0yn7n|Don’t Say Lazy (From “K-On!”)         |https://p.scdn.co/mp3-preview/b5905d5ae0b37389b499ba16fb0959ea1e5bd0f8?cid=d636b62692f94f7ab8495b4d490e26cc|0.462       |0.926 |9  |-3.669  |1   |0.0733     |0.00297     |0.0             |0.611   |0.637  |180.929|4             |\n",
      "|000fJX0XXUpWDpgitRo3F3|4sf4DrAOkheqktxTyKm7tO|AmaLee     |Unity                                   |otacore         |507318   |59        |https://i.scdn.co/image/ab6761610000e5eb57b5e5d0748723c44fd9aa36|https://open.spotify.com/artist/4sf4DrAOkheqktxTyKm7tO|album     |12          |2020-08-05  |day                   |1tlSLQaAq9rrzi6lXzdFF4|Clattanoia (From “Overlord”)          |https://p.scdn.co/mp3-preview/8ef767c04bd205265436d0dffba5469671769a3a?cid=d636b62692f94f7ab8495b4d490e26cc|0.514       |0.974 |5  |-3.94   |0   |0.181      |0.00108     |2.61E-5         |0.334   |0.447  |94.974 |4             |\n",
      "+----------------------+----------------------+-----------+----------------------------------------+----------------+---------+----------+----------------------------------------------------------------+------------------------------------------------------+----------+------------+------------+----------------------+----------------------+--------------------------------------+-----------------------------------------------------------------------------------------------------------+------------+------+---+--------+----+-----------+------------+----------------+--------+-------+-------+--------------+\n",
      "only showing top 20 rows\n",
      "\n"
     ]
    }
   ],
   "source": [
    "# summary_album_table.show()\n",
    "# summary_feature_table.show()\n",
    "summary_table.show(truncate= False)"
   ]
  },
  {
   "cell_type": "code",
   "execution_count": 9,
   "metadata": {},
   "outputs": [
    {
     "name": "stdout",
     "output_type": "stream",
     "text": [
      "['album_id', 'artist_id', 'artist_name', 'album_name', 'genres', 'followers', 'popularity', 'link_image', 'url', 'album_type', 'total_tracks', 'release_date', 'release_date_precision', 'track_id', 'name', 'preview', 'danceability', 'energy', 'key', 'loudness', 'mode', 'speechiness', 'acousticness', 'instrumentalness', 'liveness', 'valence', 'tempo', 'time_signature']\n"
     ]
    }
   ],
   "source": [
    "print(summary_table.columns)"
   ]
  },
  {
   "cell_type": "markdown",
   "metadata": {},
   "source": [
    "We initially drop the unwanted columns from dataFrame"
   ]
  },
  {
   "cell_type": "code",
   "execution_count": 10,
   "metadata": {},
   "outputs": [],
   "source": [
    "summary_table = summary_table.drop('album_name', 'album_type', 'release_date_precision', 'time_signature')"
   ]
  },
  {
   "cell_type": "markdown",
   "metadata": {},
   "source": [
    "2.303.371 size of summary table"
   ]
  },
  {
   "cell_type": "markdown",
   "metadata": {},
   "source": [
    "### Exploratory Data Analysis (EDA)"
   ]
  },
  {
   "cell_type": "markdown",
   "metadata": {},
   "source": [
    "- Check artist having most followers on the world"
   ]
  },
  {
   "cell_type": "code",
   "execution_count": 21,
   "metadata": {},
   "outputs": [
    {
     "name": "stderr",
     "output_type": "stream",
     "text": [
      "24/12/07 03:36:08 WARN MemoryStore: Not enough space to cache rdd_146_3 in memory! (computed 62.3 MiB so far)\n",
      "24/12/07 03:36:08 WARN BlockManager: Persisting block rdd_146_3 to disk instead.\n"
     ]
    },
    {
     "name": "stdout",
     "output_type": "stream",
     "text": [
      "123616624\n"
     ]
    },
    {
     "name": "stderr",
     "output_type": "stream",
     "text": [
      "                                                                                \r"
     ]
    }
   ],
   "source": [
    "from pyspark.sql.functions import max\n",
    "\n",
    "# Find the artist having most followers \n",
    "max_fl = summary_table.agg(max(\"followers\").alias(\"max_fl\")).collect()[0][\"max_fl\"]\n",
    "\n",
    "print(max_fl)"
   ]
  },
  {
   "cell_type": "code",
   "execution_count": 23,
   "metadata": {},
   "outputs": [
    {
     "name": "stdout",
     "output_type": "stream",
     "text": [
      "+------------+\n",
      "|artist_name |\n",
      "+------------+\n",
      "|Arijit Singh|\n",
      "+------------+\n",
      "\n",
      "Best Playlist:\n",
      " ['Arijit Singh']\n"
     ]
    }
   ],
   "source": [
    "from pyspark.sql.functions import col\n",
    "best_playlist = summary_table.filter(col(\"followers\") == max_fl).select(\"artist_name\").distinct()\n",
    "\n",
    "best_playlist.show(truncate= False)\n",
    "\n",
    "best_playlist_list = best_playlist.rdd.flatMap(lambda x: x).collect()\n",
    "print(\"Best Playlist:\\n\", best_playlist_list)"
   ]
  },
  {
   "cell_type": "markdown",
   "metadata": {},
   "source": [
    "- Check which artists are featured most across all playlist for top 10 artists"
   ]
  },
  {
   "cell_type": "code",
   "execution_count": 24,
   "metadata": {},
   "outputs": [
    {
     "name": "stderr",
     "output_type": "stream",
     "text": [
      "/tmp/ipykernel_71/2540731308.py:18: FutureWarning:                              \n",
      "\n",
      "Passing `palette` without assigning `hue` is deprecated and will be removed in v0.14.0. Assign the `y` variable to `hue` and set `legend=False` for the same effect.\n",
      "\n",
      "  ax = sns.barplot(y = names, x = values, palette= 'pastel')\n"
     ]
    },
    {
     "data": {
      "text/plain": [
       "Text(0.5, 0, 'Total songs across playlists')"
      ]
     },
     "execution_count": 24,
     "metadata": {},
     "output_type": "execute_result"
    },
    {
     "data": {
      "image/png": "[encoded data removed]",
      "text/plain": [
       "<Figure size 640x480 with 1 Axes>"
      ]
     },
     "metadata": {},
     "output_type": "display_data"
    }
   ],
   "source": [
    "import seaborn as sns\n",
    "import matplotlib.pyplot as plt \n",
    "\n",
    "# Step 1: Group by artist_name and count the apparence\n",
    "artist_counts = summary_table.groupBy(\"artist_name\").count()\n",
    "\n",
    "# Step 2: Sort descending by the apparence\n",
    "sorted_artist_counts = artist_counts.orderBy(\"count\", ascending = False)\n",
    "\n",
    "# Step 3: Convert to pandas to plot data\n",
    "artist_counts_pd = sorted_artist_counts.limit(10).toPandas()\n",
    "\n",
    "# Step 4: Take the values and name of artists\n",
    "values = artist_counts_pd['count'].tolist()\n",
    "names = artist_counts_pd['artist_name'].tolist()\n",
    "\n",
    "# Step 5: Plot data with seaborn\n",
    "ax = sns.barplot(y = names, x = values, palette= 'pastel')\n",
    "ax.set_title('Artists with most featured songs across all playlists')\n",
    "ax.set_xlabel('Total songs across playlists')"
   ]
  },
  {
   "cell_type": "markdown",
   "metadata": {},
   "source": [
    "- Top 10 artists and music genres are most popular in the world"
   ]
  },
  {
   "cell_type": "code",
   "execution_count": 25,
   "metadata": {},
   "outputs": [
    {
     "name": "stderr",
     "output_type": "stream",
     "text": [
      "[Stage 171:==========================================>              (3 + 1) / 4]\r"
     ]
    },
    {
     "name": "stdout",
     "output_type": "stream",
     "text": [
      "+-------------+------------+\n",
      "|artist_name  |followers   |\n",
      "+-------------+------------+\n",
      "|Arijit Singh |1.23616624E8|\n",
      "|Taylor Swift |1.22781005E8|\n",
      "|Ed Sheeran   |1.16283003E8|\n",
      "|Billie Eilish|1.00208733E8|\n",
      "|Ariana Grande|1.00144929E8|\n",
      "|Drake        |9.2294533E7 |\n",
      "|The Weeknd   |9.2004576E7 |\n",
      "|Eminem       |9.0916937E7 |\n",
      "|Bad Bunny    |8.600057E7  |\n",
      "|Justin Bieber|7.7680104E7 |\n",
      "+-------------+------------+\n",
      "\n"
     ]
    },
    {
     "name": "stderr",
     "output_type": "stream",
     "text": [
      "                                                                                \r"
     ]
    }
   ],
   "source": [
    "from pyspark.sql import functions as F\n",
    "\n",
    "# Group by artist_name and calculate mean of followers \n",
    "artist_fl = summary_table.groupBy('artist_name').agg(F.mean('followers').alias('followers'))\n",
    "\n",
    "# Sort by followers in descending order\n",
    "sorted_artist_fl = artist_fl.orderBy('followers', ascending = False).limit(10)\n",
    "\n",
    "sorted_artist_fl.show(truncate = False)"
   ]
  },
  {
   "cell_type": "code",
   "execution_count": 26,
   "metadata": {},
   "outputs": [
    {
     "name": "stderr",
     "output_type": "stream",
     "text": [
      "[Stage 182:==========================================>              (3 + 1) / 4]\r"
     ]
    },
    {
     "name": "stdout",
     "output_type": "stream",
     "text": [
      "+----------------------+-----------------+\n",
      "|genres                |avg_popularity   |\n",
      "+----------------------+-----------------+\n",
      "|el paso indie         |85.0             |\n",
      "|ambient pop           |85.0             |\n",
      "|r&drill               |83.0             |\n",
      "|south carolina hip hop|83.0             |\n",
      "|musica tocantinense   |82.83552631578948|\n",
      "|dutch edm             |82.25934579439253|\n",
      "|nashville hip hop     |82.0             |\n",
      "|pittsburgh rap        |81.99505766062603|\n",
      "|big room              |81.55072463768116|\n",
      "|barbadian pop         |81.27737226277372|\n",
      "+----------------------+-----------------+\n",
      "\n"
     ]
    },
    {
     "name": "stderr",
     "output_type": "stream",
     "text": [
      "                                                                                \r"
     ]
    }
   ],
   "source": [
    "# Group by genres and calculate mean of popularity\n",
    "popular_genres = summary_table.groupBy('genres').agg(F.mean('popularity').alias('avg_popularity'))\n",
    "\n",
    "# Sort by popularity in descending order\n",
    "sorted_popular_genres = popular_genres.orderBy('avg_popularity', ascending = False).limit(10)\n",
    "\n",
    "sorted_popular_genres.show(truncate = False)"
   ]
  },
  {
   "cell_type": "markdown",
   "metadata": {},
   "source": [
    "### Data Preprocessing"
   ]
  },
  {
   "cell_type": "markdown",
   "metadata": {},
   "source": [
    "1. Check null values in each columns"
   ]
  },
  {
   "cell_type": "code",
   "execution_count": 13,
   "metadata": {},
   "outputs": [],
   "source": [
    "from pyspark.sql import functions as F\n",
    "# Function to check null values in each columns\n",
    "\n",
    "def count_nulls(df):\n",
    "    # Calculate null values in each columns\n",
    "    null_counts = df.select([F.sum(F.col(c).isNull().cast(\"int\")).alias(c) for c in df.columns])\n",
    "    \n",
    "    # Show results\n",
    "    null_counts.show()"
   ]
  },
  {
   "cell_type": "code",
   "execution_count": 28,
   "metadata": {},
   "outputs": [
    {
     "name": "stderr",
     "output_type": "stream",
     "text": [
      "[Stage 193:==========================================>              (3 + 1) / 4]\r"
     ]
    },
    {
     "name": "stdout",
     "output_type": "stream",
     "text": [
      "+--------+---------+-----------+------+---------+----------+----------+---+------------+------------+--------+----+-------+------------+------+------+--------+------+-----------+------------+----------------+--------+-------+------+\n",
      "|album_id|artist_id|artist_name|genres|followers|popularity|link_image|url|total_tracks|release_date|track_id|name|preview|danceability|energy|   key|loudness|  mode|speechiness|acousticness|instrumentalness|liveness|valence| tempo|\n",
      "+--------+---------+-----------+------+---------+----------+----------+---+------------+------------+--------+----+-------+------------+------+------+--------+------+-----------+------------+----------------+--------+-------+------+\n",
      "|       0|        0|          0| 87156|        0|         0|         0|  0|           0|      587377|       0|  52| 992106|      534770|534770|534770|  534770|534770|     534770|      534770|          534770|  534770| 534770|534770|\n",
      "+--------+---------+-----------+------+---------+----------+----------+---+------------+------------+--------+----+-------+------------+------+------+--------+------+-----------+------------+----------------+--------+-------+------+\n",
      "\n",
      "None\n"
     ]
    },
    {
     "name": "stderr",
     "output_type": "stream",
     "text": [
      "                                                                                \r"
     ]
    }
   ],
   "source": [
    "print(count_nulls(summary_table))"
   ]
  },
  {
   "cell_type": "markdown",
   "metadata": {},
   "source": [
    "2. Drop those columns not affect to build the model"
   ]
  },
  {
   "cell_type": "code",
   "execution_count": 11,
   "metadata": {},
   "outputs": [],
   "source": [
    "tracks = summary_table.drop('release_date', 'total_tracks', 'mode')"
   ]
  },
  {
   "cell_type": "code",
   "execution_count": 15,
   "metadata": {},
   "outputs": [
    {
     "name": "stderr",
     "output_type": "stream",
     "text": [
      "[Stage 39:===========================================>              (3 + 1) / 4]\r"
     ]
    },
    {
     "name": "stdout",
     "output_type": "stream",
     "text": [
      "+--------+---------+-----------+------+---------+----------+----------+---+--------+----+-------+------------+------+------+--------+-----------+------------+----------------+--------+-------+------+\n",
      "|album_id|artist_id|artist_name|genres|followers|popularity|link_image|url|track_id|name|preview|danceability|energy|   key|loudness|speechiness|acousticness|instrumentalness|liveness|valence| tempo|\n",
      "+--------+---------+-----------+------+---------+----------+----------+---+--------+----+-------+------------+------+------+--------+-----------+------------+----------------+--------+-------+------+\n",
      "|       0|        0|          0| 87156|        0|         0|         0|  0|       0|  52| 992106|      534770|534770|534770|  534770|     534770|      534770|          534770|  534770| 534770|534770|\n",
      "+--------+---------+-----------+------+---------+----------+----------+---+--------+----+-------+------------+------+------+--------+-----------+------------+----------------+--------+-------+------+\n",
      "\n",
      "None\n"
     ]
    },
    {
     "name": "stderr",
     "output_type": "stream",
     "text": [
      "                                                                                \r"
     ]
    }
   ],
   "source": [
    "print(count_nulls(tracks))"
   ]
  },
  {
   "cell_type": "code",
   "execution_count": 31,
   "metadata": {},
   "outputs": [],
   "source": [
    "# Function to return shape of table\n",
    "def shape(df):\n",
    "    num_rows = df.count()\n",
    "    nums_cols = len(df.columns)\n",
    "    \n",
    "    return (num_rows, nums_cols)"
   ]
  },
  {
   "cell_type": "code",
   "execution_count": 32,
   "metadata": {},
   "outputs": [
    {
     "name": "stdout",
     "output_type": "stream",
     "text": [
      "(2850488, 21)\n"
     ]
    }
   ],
   "source": [
    "print(shape(tracks))"
   ]
  },
  {
   "cell_type": "markdown",
   "metadata": {},
   "source": [
    "Vì những cột name là tên bài hát không có nên ta sẽ bỏ những hàng không có tên bài hát đó đi vì nếu không có tên bài hát thì không thể nào recommend cho user"
   ]
  },
  {
   "cell_type": "code",
   "execution_count": 33,
   "metadata": {},
   "outputs": [
    {
     "name": "stdout",
     "output_type": "stream",
     "text": [
      "(2850436, 21)\n"
     ]
    }
   ],
   "source": [
    "tracks = tracks.dropna(subset = ['name'])\n",
    "print(shape(tracks))"
   ]
  },
  {
   "cell_type": "markdown",
   "metadata": {},
   "source": [
    "Vì những cột features như là danceability, energy, acousticness, valence, tempo là những features quan trọng cho việc phân loại theo cảm xúc nên nếu là null values ta sẽ loại bỏ hết những hàng đó"
   ]
  },
  {
   "cell_type": "code",
   "execution_count": 34,
   "metadata": {},
   "outputs": [
    {
     "name": "stderr",
     "output_type": "stream",
     "text": [
      "[Stage 237:==========================================>              (3 + 1) / 4]\r"
     ]
    },
    {
     "name": "stdout",
     "output_type": "stream",
     "text": [
      "(2315666, 21)\n"
     ]
    },
    {
     "name": "stderr",
     "output_type": "stream",
     "text": [
      "                                                                                \r"
     ]
    }
   ],
   "source": [
    "# List of columns need to be dropped\n",
    "cols_to_drop = ['danceability', 'energy', 'key', 'loudness', 'speechiness', 'acousticness', 'instrumentalness', 'liveness', 'valence', 'tempo']\n",
    "\n",
    "# Drop those columns above\n",
    "tracks = tracks.dropna(subset = cols_to_drop)\n",
    "print(shape(tracks))"
   ]
  },
  {
   "cell_type": "code",
   "execution_count": 35,
   "metadata": {},
   "outputs": [
    {
     "name": "stderr",
     "output_type": "stream",
     "text": [
      "[Stage 248:==========================================>              (3 + 1) / 4]\r"
     ]
    },
    {
     "name": "stdout",
     "output_type": "stream",
     "text": [
      "+--------+---------+-----------+------+---------+----------+----------+---+--------+----+-------+------------+------+---+--------+-----------+------------+----------------+--------+-------+-----+\n",
      "|album_id|artist_id|artist_name|genres|followers|popularity|link_image|url|track_id|name|preview|danceability|energy|key|loudness|speechiness|acousticness|instrumentalness|liveness|valence|tempo|\n",
      "+--------+---------+-----------+------+---------+----------+----------+---+--------+----+-------+------------+------+---+--------+-----------+------------+----------------+--------+-------+-----+\n",
      "|       0|        0|          0| 81748|        0|         0|         0|  0|       0|   0| 525853|           0|     0|  0|       0|          0|           0|               0|       0|      0|    0|\n",
      "+--------+---------+-----------+------+---------+----------+----------+---+--------+----+-------+------------+------+---+--------+-----------+------------+----------------+--------+-------+-----+\n",
      "\n",
      "None\n"
     ]
    },
    {
     "name": "stderr",
     "output_type": "stream",
     "text": [
      "                                                                                \r"
     ]
    }
   ],
   "source": [
    "print(count_nulls(tracks))"
   ]
  },
  {
   "cell_type": "code",
   "execution_count": 36,
   "metadata": {},
   "outputs": [
    {
     "name": "stderr",
     "output_type": "stream",
     "text": [
      "[Stage 265:>                                                        (0 + 1) / 1]\r"
     ]
    },
    {
     "name": "stdout",
     "output_type": "stream",
     "text": [
      "903635\n"
     ]
    },
    {
     "name": "stderr",
     "output_type": "stream",
     "text": [
      "                                                                                \r"
     ]
    }
   ],
   "source": [
    "print(tracks.select('track_id').distinct().count())"
   ]
  },
  {
   "cell_type": "markdown",
   "metadata": {},
   "source": [
    "### Build Recommendation System"
   ]
  },
  {
   "cell_type": "markdown",
   "metadata": {},
   "source": [
    "##### 1/ Recommend songs by name of song using Content-based Filtering "
   ]
  },
  {
   "cell_type": "code",
   "execution_count": 37,
   "metadata": {},
   "outputs": [
    {
     "data": {
      "text/plain": [
       "DataFrame[album_id: string, artist_id: string, artist_name: string, genres: string, followers: int, popularity: int, link_image: string, url: string, track_id: string, name: string, preview: string, danceability: float, energy: float, key: int, loudness: float, speechiness: float, acousticness: float, instrumentalness: float, liveness: float, valence: float, tempo: float]"
      ]
     },
     "execution_count": 37,
     "metadata": {},
     "output_type": "execute_result"
    }
   ],
   "source": [
    "summary_table.unpersist()\n",
    "tracks.cache()"
   ]
  },
  {
   "cell_type": "code",
   "execution_count": 39,
   "metadata": {},
   "outputs": [
    {
     "name": "stderr",
     "output_type": "stream",
     "text": [
      "[Stage 295:==========================================>              (3 + 1) / 4]\r"
     ]
    },
    {
     "name": "stdout",
     "output_type": "stream",
     "text": [
      "Number of unique genres: 2889\n"
     ]
    },
    {
     "name": "stderr",
     "output_type": "stream",
     "text": [
      "                                                                                \r"
     ]
    }
   ],
   "source": [
    "tracks_for_cbf = tracks\n",
    "print(f\"Number of unique genres: {tracks_for_cbf.select('genres').distinct().count()}\")"
   ]
  },
  {
   "cell_type": "markdown",
   "metadata": {},
   "source": [
    "1. Find the similarities between input song with each song in dataset\n",
    "\n",
    "Content-based filtering cung cấp các đề xuất được thiết kế riêng bằng cách tập trung vào sở thích cá nhân, sắp xếp hiệu quả các tùy chọn với sở thích và mối quan tâm riêng của từng người dùng. Điều này thường đạt được thông qua các kỹ thuật như cosin similarities, đo lường độ tương đồng giữa vectơ người dùng (đại diện cho sở thích của người dùng) và hồ sơ mục. Mô hình không cần bất kỳ dữ liệu nào về người dùng khác vì các đề xuất dành riêng cho người dùng này. Điều này giúp dễ dàng mở rộng quy mô cho nhiều người dùng hơn. Mô hình có thể nắm bắt được sở thích cụ thể của người dùng và có thể đề xuất các mặt hàng ngách mà rất ít người dùng khác quan tâm.\n",
    "\n",
    "Content-based filtering delivers tailored recommendations by focusing on individual preferences, effectively aligning options with each user's unique tastes and interests. This is often achieved through techniques like cosine similarity, which measures the similarity between the user vector (representing the user's preferences) and the item profile. The model doesn't need any data about other users, since the recommendations are specific to this user. This makes it easier to scale to a large number of users. The model can capture the specific interests of a user, and can recommend niche items that very few other users are interested in."
   ]
  },
  {
   "cell_type": "markdown",
   "metadata": {},
   "source": [
    "- Filtering null values in genres column to empty space \"\""
   ]
  },
  {
   "cell_type": "code",
   "execution_count": 40,
   "metadata": {},
   "outputs": [],
   "source": [
    "from pyspark.sql.functions import col, when\n",
    "\n",
    "tracks_for_cbf = tracks_for_cbf.withColumn(\n",
    "    \"genres\", when(col(\"genres\").isNotNull(), col(\"genres\")).otherwise(\"\")\n",
    ")"
   ]
  },
  {
   "cell_type": "code",
   "execution_count": 41,
   "metadata": {},
   "outputs": [
    {
     "name": "stderr",
     "output_type": "stream",
     "text": [
      "[Stage 313:==========================================>              (3 + 1) / 4]\r"
     ]
    },
    {
     "name": "stdout",
     "output_type": "stream",
     "text": [
      "+--------+---------+-----------+------+---------+----------+----------+---+--------+----+-------+------------+------+---+--------+-----------+------------+----------------+--------+-------+-----+\n",
      "|album_id|artist_id|artist_name|genres|followers|popularity|link_image|url|track_id|name|preview|danceability|energy|key|loudness|speechiness|acousticness|instrumentalness|liveness|valence|tempo|\n",
      "+--------+---------+-----------+------+---------+----------+----------+---+--------+----+-------+------------+------+---+--------+-----------+------------+----------------+--------+-------+-----+\n",
      "|       0|        0|          0|     0|        0|         0|         0|  0|       0|   0| 525853|           0|     0|  0|       0|          0|           0|               0|       0|      0|    0|\n",
      "+--------+---------+-----------+------+---------+----------+----------+---+--------+----+-------+------------+------+---+--------+-----------+------------+----------------+--------+-------+-----+\n",
      "\n",
      "None\n"
     ]
    },
    {
     "name": "stderr",
     "output_type": "stream",
     "text": [
      "                                                                                \r"
     ]
    }
   ],
   "source": [
    "print(count_nulls(tracks_for_cbf))"
   ]
  },
  {
   "cell_type": "code",
   "execution_count": 42,
   "metadata": {},
   "outputs": [
    {
     "name": "stderr",
     "output_type": "stream",
     "text": [
      "                                                                                \r"
     ]
    },
    {
     "name": "stdout",
     "output_type": "stream",
     "text": [
      "+----------------------+----------------------+-----------+----------------+---------+----------+----------------------------------------------------------------+------------------------------------------------------+----------------------+-------------------+-----------------------------------------------------------------------------------------------------------+------------+------+---+--------+-----------+------------+----------------+--------+-------+-------+-------------------+------------------------+\n",
      "|album_id              |artist_id             |artist_name|genres          |followers|popularity|link_image                                                      |url                                                   |track_id              |name               |preview                                                                                                    |danceability|energy|key|loudness|speechiness|acousticness|instrumentalness|liveness|valence|tempo  |tokens             |raw_features            |\n",
      "+----------------------+----------------------+-----------+----------------+---------+----------+----------------------------------------------------------------+------------------------------------------------------+----------------------+-------------------+-----------------------------------------------------------------------------------------------------------+------------+------+---+--------+-----------+------------+----------------+--------+-------+-------+-------------------+------------------------+\n",
      "|000LYwpRfBAlh4aFMYLsep|1dVygo6tRFXC8CSWURQJq2|Sonu Nigam |modern bollywood|18221992 |77        |https://i.scdn.co/image/ab6761610000e5ebbc959d7569618ec2af2210f5|https://open.spotify.com/artist/1dVygo6tRFXC8CSWURQJq2|49Rok6gqXzoDQDojE89LZX|Neeli Neeli        |https://p.scdn.co/mp3-preview/5e824e01bbf19e14a57a1ab0bc4e460d5bd6f915?cid=05e2ff0a21954615b11878a9eb038e7f|0.746       |0.677 |7  |-6.975  |0.123      |0.651       |0.0             |0.124   |0.833  |91.943 |[modern, bollywood]|(1676,[22,75],[1.0,1.0])|\n",
      "|000LYwpRfBAlh4aFMYLsep|1dVygo6tRFXC8CSWURQJq2|Sonu Nigam |modern bollywood|18221992 |77        |https://i.scdn.co/image/ab6761610000e5ebbc959d7569618ec2af2210f5|https://open.spotify.com/artist/1dVygo6tRFXC8CSWURQJq2|7cJiDhNrCCImpIjSWOjKr5|Beladingala Raatri |https://p.scdn.co/mp3-preview/e04d3bb24a5722135782e6e511caac25a584f0bc?cid=05e2ff0a21954615b11878a9eb038e7f|0.528       |0.402 |7  |-6.236  |0.034      |0.675       |0.0             |0.349   |0.548  |149.762|[modern, bollywood]|(1676,[22,75],[1.0,1.0])|\n",
      "|000LYwpRfBAlh4aFMYLsep|1dVygo6tRFXC8CSWURQJq2|Sonu Nigam |modern bollywood|18221992 |77        |https://i.scdn.co/image/ab6761610000e5ebbc959d7569618ec2af2210f5|https://open.spotify.com/artist/1dVygo6tRFXC8CSWURQJq2|436eyq4pGkP6yhfy6dC9SI|Nannavalu Nannavalu|https://p.scdn.co/mp3-preview/3250f4554dac772bb44292f34a9beee6243324f7?cid=05e2ff0a21954615b11878a9eb038e7f|0.686       |0.588 |5  |-11.361 |0.0998     |0.458       |0.0             |0.236   |0.806  |173.879|[modern, bollywood]|(1676,[22,75],[1.0,1.0])|\n",
      "+----------------------+----------------------+-----------+----------------+---------+----------+----------------------------------------------------------------+------------------------------------------------------+----------------------+-------------------+-----------------------------------------------------------------------------------------------------------+------------+------+---+--------+-----------+------------+----------------+--------+-------+-------+-------------------+------------------------+\n",
      "only showing top 3 rows\n",
      "\n"
     ]
    }
   ],
   "source": [
    "from pyspark.ml.feature import Tokenizer, CountVectorizer\n",
    "\n",
    "# Tokennize the word in genres column\n",
    "tokenizer = Tokenizer(inputCol=\"genres\", outputCol=\"tokens\")\n",
    "tokenized_data = tokenizer.transform(tracks_for_cbf)\n",
    "\n",
    "# Apply CountVectorizer to the tokenized data to count the appearance of those unique word of genres\n",
    "cv = CountVectorizer(inputCol = \"tokens\", outputCol = \"raw_features\")\n",
    "cv_model = cv.fit(tokenized_data)\n",
    "count_df = cv_model.transform(tokenized_data)\n",
    "count_df.show(3, truncate = False)"
   ]
  },
  {
   "cell_type": "code",
   "execution_count": 43,
   "metadata": {},
   "outputs": [
    {
     "name": "stdout",
     "output_type": "stream",
     "text": [
      "+----------------------+----------------------+-----------+----------------+---------+----------+----------------------------------------------------------------+------------------------------------------------------+----------------------+-------------------+-----------------------------------------------------------------------------------------------------------+------------+------+---+--------+-----------+------------+----------------+--------+-------+-------+-------------------+------------------------+------------------------------------------------------+\n",
      "|album_id              |artist_id             |artist_name|genres          |followers|popularity|link_image                                                      |url                                                   |track_id              |name               |preview                                                                                                    |danceability|energy|key|loudness|speechiness|acousticness|instrumentalness|liveness|valence|tempo  |tokens             |raw_features            |norm_features                                         |\n",
      "+----------------------+----------------------+-----------+----------------+---------+----------+----------------------------------------------------------------+------------------------------------------------------+----------------------+-------------------+-----------------------------------------------------------------------------------------------------------+------------+------+---+--------+-----------+------------+----------------+--------+-------+-------+-------------------+------------------------+------------------------------------------------------+\n",
      "|000LYwpRfBAlh4aFMYLsep|1dVygo6tRFXC8CSWURQJq2|Sonu Nigam |modern bollywood|18221992 |77        |https://i.scdn.co/image/ab6761610000e5ebbc959d7569618ec2af2210f5|https://open.spotify.com/artist/1dVygo6tRFXC8CSWURQJq2|49Rok6gqXzoDQDojE89LZX|Neeli Neeli        |https://p.scdn.co/mp3-preview/5e824e01bbf19e14a57a1ab0bc4e460d5bd6f915?cid=05e2ff0a21954615b11878a9eb038e7f|0.746       |0.677 |7  |-6.975  |0.123      |0.651       |0.0             |0.124   |0.833  |91.943 |[modern, bollywood]|(1676,[22,75],[1.0,1.0])|(1676,[22,75],[0.7071067811865475,0.7071067811865475])|\n",
      "|000LYwpRfBAlh4aFMYLsep|1dVygo6tRFXC8CSWURQJq2|Sonu Nigam |modern bollywood|18221992 |77        |https://i.scdn.co/image/ab6761610000e5ebbc959d7569618ec2af2210f5|https://open.spotify.com/artist/1dVygo6tRFXC8CSWURQJq2|7cJiDhNrCCImpIjSWOjKr5|Beladingala Raatri |https://p.scdn.co/mp3-preview/e04d3bb24a5722135782e6e511caac25a584f0bc?cid=05e2ff0a21954615b11878a9eb038e7f|0.528       |0.402 |7  |-6.236  |0.034      |0.675       |0.0             |0.349   |0.548  |149.762|[modern, bollywood]|(1676,[22,75],[1.0,1.0])|(1676,[22,75],[0.7071067811865475,0.7071067811865475])|\n",
      "|000LYwpRfBAlh4aFMYLsep|1dVygo6tRFXC8CSWURQJq2|Sonu Nigam |modern bollywood|18221992 |77        |https://i.scdn.co/image/ab6761610000e5ebbc959d7569618ec2af2210f5|https://open.spotify.com/artist/1dVygo6tRFXC8CSWURQJq2|436eyq4pGkP6yhfy6dC9SI|Nannavalu Nannavalu|https://p.scdn.co/mp3-preview/3250f4554dac772bb44292f34a9beee6243324f7?cid=05e2ff0a21954615b11878a9eb038e7f|0.686       |0.588 |5  |-11.361 |0.0998     |0.458       |0.0             |0.236   |0.806  |173.879|[modern, bollywood]|(1676,[22,75],[1.0,1.0])|(1676,[22,75],[0.7071067811865475,0.7071067811865475])|\n",
      "+----------------------+----------------------+-----------+----------------+---------+----------+----------------------------------------------------------------+------------------------------------------------------+----------------------+-------------------+-----------------------------------------------------------------------------------------------------------+------------+------+---+--------+-----------+------------+----------------+--------+-------+-------+-------------------+------------------------+------------------------------------------------------+\n",
      "only showing top 3 rows\n",
      "\n"
     ]
    }
   ],
   "source": [
    "from pyspark.ml.feature import Normalizer\n",
    "\n",
    "# Normalize the raw_features (cosine similarity requires normalized vectors)\n",
    "normalizer = Normalizer(inputCol = \"raw_features\", outputCol = \"norm_features\", p = 2)\n",
    "normalized_df = normalizer.transform(count_df)\n",
    "normalized_df.show(3, truncate = False)"
   ]
  },
  {
   "cell_type": "code",
   "execution_count": 44,
   "metadata": {},
   "outputs": [
    {
     "data": {
      "text/plain": [
       "SparseVector(1676, {22: 0.7071, 75: 0.7071})"
      ]
     },
     "execution_count": 44,
     "metadata": {},
     "output_type": "execute_result"
    }
   ],
   "source": [
    "normalized_df.filter(col(\"name\").contains(\"Nenape\")).select(\"norm_features\").first()[0]"
   ]
  },
  {
   "cell_type": "markdown",
   "metadata": {},
   "source": [
    "- Function to calculate cosine similarity"
   ]
  },
  {
   "cell_type": "code",
   "execution_count": 45,
   "metadata": {},
   "outputs": [],
   "source": [
    "from pyspark.sql import functions as F\n",
    "from pyspark.sql.types import FloatType\n",
    "\n",
    "# Function to calculate cosine similarity between two vectors\n",
    "def cosine_similarity(v1, v2):\n",
    "    dot_product = float(v1.dot(v2))\n",
    "    magnitude = float(v1.norm(2) * v2.norm(2))\n",
    "    return dot_product / magnitude if magnitude != 0 else 0.0\n",
    "\n",
    "# Register the function as a UDF\n",
    "cosine_similarity_udf = F.udf(cosine_similarity, FloatType())\n",
    "\n",
    "def recommend_songs_by_name(song_name, df):\n",
    "    # Filter the target song by name (case-insensitive)\n",
    "    target_song = df.filter(F.lower(F.col(\"name\")).contains(song_name.lower())).select(\"norm_features\").first()\n",
    "    \n",
    "    if not target_song:\n",
    "        raise ValueError(f\"No song found matching name: {song_name}\")\n",
    "    \n",
    "    # Extract the target vector\n",
    "    target_vector = target_song[0]\n",
    "    \n",
    "    # Broadcast-free approach: Define a UDF that uses the target vector directly\n",
    "    def compute_similarity(v):\n",
    "        return cosine_similarity(target_vector, v)\n",
    "    \n",
    "    # Register the compute_similarity function as a UDF\n",
    "    compute_similarity_udf = F.udf(compute_similarity, FloatType())\n",
    "    \n",
    "    # Compute similarity with all other songs\n",
    "    similarity_df = df.withColumn(\n",
    "        \"similarity_factor\", compute_similarity_udf(F.col(\"norm_features\"))\n",
    "    )\n",
    "    \n",
    "    # Sort by similarity_factor, followers, and popularity\n",
    "    similarity_df.orderBy(\n",
    "        F.desc(\"similarity_factor\"), F.desc(\"followers\"), F.desc(\"popularity\")\n",
    "    ).select(\n",
    "        \"artist_name\", \"name\", \"genres\", \"similarity_factor\", \"link_image\", \"url\", \"preview\"\n",
    "    ).show(5, truncate=False)"
   ]
  },
  {
   "cell_type": "code",
   "execution_count": 46,
   "metadata": {},
   "outputs": [
    {
     "name": "stderr",
     "output_type": "stream",
     "text": [
      "[Stage 356:==========================================>              (3 + 1) / 4]\r"
     ]
    },
    {
     "name": "stdout",
     "output_type": "stream",
     "text": [
      "+-----------+-----------------------------------------------------+------------------+-----------------+----------------------------------------------------------------+------------------------------------------------------+-----------------------------------------------------------------------------------------------------------+\n",
      "|artist_name|name                                                 |genres            |similarity_factor|link_image                                                      |url                                                   |preview                                                                                                    |\n",
      "+-----------+-----------------------------------------------------+------------------+-----------------+----------------------------------------------------------------+------------------------------------------------------+-----------------------------------------------------------------------------------------------------------+\n",
      "|RAP VIỆT   |Anh Chồng Quốc Dân Của Em (feat. Lăng LD & Rhymastic)|vietnamese hip hop|1.0              |https://i.scdn.co/image/ab6761610000e5ebeebd6e77e92be554a077fba7|https://open.spotify.com/artist/1cPpd989kghzlZqfpP4KwL|https://p.scdn.co/mp3-preview/50231758f85275075b2bb3f9a4a62e658466b875?cid=d636b62692f94f7ab8495b4d490e26cc|\n",
      "|RAP VIỆT   |MỘT LẦN NỮA (feat. DKid)                             |vietnamese hip hop|1.0              |https://i.scdn.co/image/ab6761610000e5ebeebd6e77e92be554a077fba7|https://open.spotify.com/artist/1cPpd989kghzlZqfpP4KwL|https://p.scdn.co/mp3-preview/47f378eabb5236d7db7f787d8d214d842239b15d?cid=d636b62692f94f7ab8495b4d490e26cc|\n",
      "|RAP VIỆT   |Miễn Chê (feat. BigDaddy & Tez)                      |vietnamese hip hop|1.0              |https://i.scdn.co/image/ab6761610000e5ebeebd6e77e92be554a077fba7|https://open.spotify.com/artist/1cPpd989kghzlZqfpP4KwL|https://p.scdn.co/mp3-preview/8063f51e2ba4d16190842b9a181cd51b5b5caaef?cid=d636b62692f94f7ab8495b4d490e26cc|\n",
      "|RAP VIỆT   |SÀI GÒN CÓ EM (feat. Blacka)                         |vietnamese hip hop|1.0              |https://i.scdn.co/image/ab6761610000e5ebeebd6e77e92be554a077fba7|https://open.spotify.com/artist/1cPpd989kghzlZqfpP4KwL|https://p.scdn.co/mp3-preview/d0876528b45a7cfd5fb5328c133f0aba97134528?cid=d636b62692f94f7ab8495b4d490e26cc|\n",
      "|RAP VIỆT   |? (feat. Dế Choắt)                                   |vietnamese hip hop|1.0              |https://i.scdn.co/image/ab6761610000e5ebeebd6e77e92be554a077fba7|https://open.spotify.com/artist/1cPpd989kghzlZqfpP4KwL|https://p.scdn.co/mp3-preview/62448c5250d54cfb81430959ce93b2c97d0d21a8?cid=d636b62692f94f7ab8495b4d490e26cc|\n",
      "+-----------+-----------------------------------------------------+------------------+-----------------+----------------------------------------------------------------+------------------------------------------------------+-----------------------------------------------------------------------------------------------------------+\n",
      "only showing top 5 rows\n",
      "\n"
     ]
    },
    {
     "name": "stderr",
     "output_type": "stream",
     "text": [
      "                                                                                \r"
     ]
    }
   ],
   "source": [
    "# Call the function\n",
    "recommend_songs_by_name(\"Exit Sign\", normalized_df)"
   ]
  },
  {
   "cell_type": "markdown",
   "metadata": {},
   "source": [
    "- Function to normalize by using Min-Max scaling method"
   ]
  },
  {
   "cell_type": "code",
   "execution_count": null,
   "metadata": {},
   "outputs": [],
   "source": [
    "# from pyspark.sql.functions import min, max\n",
    "\n",
    "# def min_max_scaler(df, columns_to_scale):\n",
    "#     scaled_df = df\n",
    "    \n",
    "#     for col_name in columns_to_scale:\n",
    "#         # Calculate min and max values for the column\n",
    "#         min_val = df.agg(min(F.col(col_name))).first()[0]\n",
    "#         max_val = df.agg(max(F.col(col_name))).first()[0]\n",
    "        \n",
    "#         # Apply min-max scaling \n",
    "#         scaled_df = scaled_df.withColumn(col_name, (F.col(col_name) - min_val) / (max_val - min_val))\n",
    "#     return scaled_df"
   ]
  },
  {
   "cell_type": "code",
   "execution_count": null,
   "metadata": {},
   "outputs": [],
   "source": [
    "# columns_to_scale = ['followers', 'popularity', 'danceability', 'energy', 'key',\t'loudness', 'speechiness', 'acousticness', 'instrumentalness', 'liveness', 'valence', 'tempo']\n",
    "# min_max_df = min_max_scaler(tracks_for_cbf, columns_to_scale)\n",
    "# min_max_df.show(3, truncate = False)"
   ]
  },
  {
   "cell_type": "code",
   "execution_count": null,
   "metadata": {},
   "outputs": [],
   "source": [
    "# tracks_for_cbf.unpersist()\n",
    "# min_max_df.cache()"
   ]
  },
  {
   "cell_type": "markdown",
   "metadata": {},
   "source": [
    "- Assemble essential columns for calculating Cosine similiarites step and Normalize those numeric columns called \"features need to normalize\""
   ]
  },
  {
   "cell_type": "code",
   "execution_count": null,
   "metadata": {},
   "outputs": [],
   "source": [
    "# from pyspark.ml.feature import VectorAssembler, Normalizer\n",
    "# from pyspark.sql.functions import col\n",
    "\n",
    "# feature_columns = ['followers', 'popularity', 'danceability', 'energy', 'key',\t'loudness', 'speechiness', 'acousticness', 'instrumentalness', 'liveness', 'valence', 'tempo']\n",
    "\n",
    "# # Assemble those columns to vector\n",
    "# assembler = VectorAssembler(inputCols = feature_columns, outputCol = \"features\")\n",
    "# assembler_df = assembler.transform(min_max_df)\n",
    "\n",
    "# # Normalize (Chuẩn hóa vector)\n",
    "# normalizer = Normalizer(inputCol = \"features\", outputCol = \"normalized_features\", p=2)\n",
    "# normalized_df = normalizer.transform(assembler_df)\n",
    "\n",
    "# # Showing data after normalize\n",
    "# normalized_df.select(\"artist_name\", \"name\", \"genres\", \"normalized_features\", \"popularity\", \"link_image\", \"url\").show(5, truncate = False)\n",
    "# normalized_df.cache()"
   ]
  },
  {
   "cell_type": "code",
   "execution_count": null,
   "metadata": {},
   "outputs": [],
   "source": [
    "# from pyspark.sql.functions import lit, split, when, regexp_replace\n",
    "\n",
    "# # 1. Replace null with empty string\n",
    "# final_df_name = normalized_df.withColumn(\"genres\", when(col(\"genres\").isNotNull(), col(\"genres\")).otherwise(\"\"))\n",
    "\n",
    "# # 2. Normalize genres by removing unnecessary characters and splitting by spaces\n",
    "# # (Example: If genres = \"modern bollywood\", it will split into [\"modern\", \"bollywood\"])\n",
    "# final_df_name = final_df_name.withColumn(\n",
    "#     \"genres\", \n",
    "#     split(regexp_replace(col(\"genres\"), \"[^a-zA-Z0-9 ]\", \"\"), \" \")\n",
    "# )\n",
    "\n",
    "# # 3. Apply CountVectorizer to the tokenized genres\n",
    "# from pyspark.ml.feature import CountVectorizer\n",
    "\n",
    "# vectorizer = CountVectorizer(inputCol=\"genres\", outputCol=\"genres_vector\")\n",
    "# vectorizer_model = vectorizer.fit(final_df_name)\n",
    "# final_df_name = vectorizer_model.transform(final_df_name)\n",
    "\n",
    "# from pyspark.sql.functions import udf\n",
    "# from pyspark.ml.linalg import SparseVector\n",
    "# from pyspark.sql.types import ArrayType, FloatType\n",
    "\n",
    "# # 4. Define a UDF to extract values from SparseVector\n",
    "# def extract_values(sparse_vector):\n",
    "#     if isinstance(sparse_vector, SparseVector):\n",
    "#         return sparse_vector.values.tolist()\n",
    "#     return []\n",
    "\n",
    "# extract_values_udf = udf(extract_values, ArrayType(FloatType()))\n",
    "\n",
    "# # Apply UDF to get only the vector values\n",
    "# final_df_name = final_df_name.withColumn(\"genres_values\", extract_values_udf(col(\"genres_vector\")))\n",
    "\n",
    "# # 5. Show the result\n",
    "# final_df_name.select(\"genres\", \"genres_vector\", \"genres_values\").show(5, truncate=False)"
   ]
  },
  {
   "cell_type": "markdown",
   "metadata": {},
   "source": [
    "- Function to calculate Consine Similarity"
   ]
  },
  {
   "cell_type": "code",
   "execution_count": null,
   "metadata": {},
   "outputs": [],
   "source": [
    "# # Calculate cosine similarity between the input song and all songs in the dataset\n",
    "# import numpy as np\n",
    "\n",
    "# def cosine_similarity(vec1, vec2):\n",
    "#     vec1 = np.array(vec1)\n",
    "#     vec2 = np.array(vec2)\n",
    "#     dot_product = np.dot(vec1, vec2)\n",
    "#     magnitude = np.linalg.norm(vec1) * np.linalg.norm(vec2)\n",
    "#     return dot_product / magnitude if magnitude != 0 else 0"
   ]
  },
  {
   "cell_type": "markdown",
   "metadata": {},
   "source": [
    "- Build recommendation songs by name"
   ]
  },
  {
   "cell_type": "code",
   "execution_count": null,
   "metadata": {},
   "outputs": [],
   "source": [
    "# from pyspark.sql import Row\n",
    "# from pyspark.ml.linalg import DenseVector\n",
    "\n",
    "# def recommend_songs_by_name(song_name, top_n = 5):\n",
    "#     # Find all songs having name of song (finding based on key words)\n",
    "#     filtered_songs = final_df_name.filter(col(\"name\").contains(song_name))\n",
    "    \n",
    "#     if filtered_songs.count() == 0:\n",
    "#         print(f\"Not found the songs matched with {song_name}\")\n",
    "#         return None\n",
    "    \n",
    "#     # Get vector normalized_features of input song\n",
    "#     input_song = filtered_songs.select(\"album_id\", \"name\", \"genres_values\", \"normalized_features\").first()\n",
    "    \n",
    "#     if input_song is None:\n",
    "#         print(f\"Song {song_name} does not exist in dataset\")\n",
    "#         return None\n",
    "    \n",
    "#     input_album_id, input_song_name, input_genres, input_features = input_song\n",
    "    \n",
    "#     # Create a list with cosine similarity scores\n",
    "#     similarities = filtered_songs.rdd.map(lambda row: (\n",
    "#         row[\"album_id\"],\n",
    "#         row[\"name\"],\n",
    "#         row[\"artist_name\"],\n",
    "#         row[\"genres\"],\n",
    "#         row[\"popularity\"],\n",
    "#         row[\"link_image\"],\n",
    "#         row[\"url\"],\n",
    "#         row[\"preview\"],\n",
    "#         cosine_similarity(DenseVector(input_features), row[\"normalized_features\"]), # apply cosine similarity with features\n",
    "#         cosine_similarity(DenseVector(input_genres), row[\"genres_values\"]) # apply cosine similarity with genres\n",
    "#     ))\n",
    "    \n",
    "#     # Sort descending by cosine similarity scores\n",
    "#     top_recommendations = similarities.takeOrdered(top_n, key = lambda x : -(x[8] + x[9])) # sum of 2 values cosine (genres and features)\n",
    "    \n",
    "#     # Change list to DataFrame\n",
    "#     recommendations_df = spark.createDataFrame(\n",
    "#         [Row(\n",
    "#             song_name = row[1],\n",
    "#             artist_name = row[2],\n",
    "#             genres = row[3],\n",
    "#             cosine_similarity_score = row[8] + row[9],\n",
    "#             popularity = row[4],\n",
    "#             link_image = row[5],\n",
    "#             url = row[6], \n",
    "#             preview = row[7],\n",
    "#         ) for row in top_recommendations]\n",
    "#     )\n",
    "    \n",
    "#     return recommendations_df"
   ]
  },
  {
   "cell_type": "markdown",
   "metadata": {},
   "source": [
    "##### 2/ Recommend songs by mood and genres using K-means Clustering"
   ]
  },
  {
   "cell_type": "markdown",
   "metadata": {},
   "source": [
    "1. Using Standard Scaling to scale"
   ]
  },
  {
   "cell_type": "code",
   "execution_count": null,
   "metadata": {},
   "outputs": [],
   "source": [
    "tracks_cleaned_mood = tracks.drop('album_id')"
   ]
  },
  {
   "cell_type": "markdown",
   "metadata": {},
   "source": [
    "- Function to normalize by using standard scailing method"
   ]
  },
  {
   "cell_type": "code",
   "execution_count": null,
   "metadata": {},
   "outputs": [],
   "source": [
    "from pyspark.sql import SparkSession\n",
    "from pyspark.sql.functions import col, mean, stddev\n",
    "\n",
    "def z_score(df):\n",
    "    \n",
    "    # Identify numerical columns\n",
    "    num_cols = [col_name for col_name, dtype in df.dtypes if dtype in ['int', 'float', 'double']]\n",
    "\n",
    "    # Create a list to store transformations\n",
    "    z_score_cols = []\n",
    "\n",
    "    for col_name in num_cols:\n",
    "        # Compute mean and standard deviation for the column\n",
    "        mean_val = df.select(mean(col(col_name))).first()[0]\n",
    "        stddev_val = df.select(stddev(col(col_name))).first()[0]\n",
    "\n",
    "        # Apply Z-score formula\n",
    "        z_score_cols.append(((col(col_name) - mean_val) / stddev_val).alias(col_name))\n",
    "\n",
    "    # Add non-numerical columns to the result\n",
    "    other_cols = [col(c) for c in df.columns if c not in num_cols]\n",
    "    result_cols = other_cols + z_score_cols\n",
    "\n",
    "    # Return the updated DataFrame\n",
    "    z_score_df = df.select(*result_cols)\n",
    "    return z_score_df\n",
    "\n",
    "z_score_df = z_score(tracks_cleaned_mood)"
   ]
  },
  {
   "cell_type": "code",
   "execution_count": null,
   "metadata": {},
   "outputs": [],
   "source": [
    "z_score_df.show(5)"
   ]
  },
  {
   "cell_type": "markdown",
   "metadata": {},
   "source": [
    "2. Using K-means algorithm to catgorize moods based on those important features"
   ]
  },
  {
   "cell_type": "code",
   "execution_count": null,
   "metadata": {},
   "outputs": [],
   "source": [
    "from pyspark.ml.clustering import KMeans\n",
    "from pyspark.ml.feature import PCA\n",
    "from pyspark.ml.feature import VectorAssembler\n",
    "from pyspark.sql.functions import col, udf\n",
    "from pyspark.sql.types import ArrayType, FloatType\n",
    "\n",
    "# Select relevant features\n",
    "features_cols = ['valence', 'energy', 'danceability', 'acousticness', 'tempo']\n",
    "\n",
    "# Assemble the features into a single vector column\n",
    "vector_assembler = VectorAssembler(inputCols=features_cols, outputCol=\"features\")\n",
    "features_df = vector_assembler.transform(z_score_df)\n",
    "\n",
    "# Apply KMeans with 3 clusters\n",
    "kmeans = KMeans(k=3, seed=42, featuresCol=\"features\", predictionCol=\"mood_score\")\n",
    "kmeans_model = kmeans.fit(features_df)\n",
    "\n",
    "# Get cluster centers\n",
    "cluster_centers = kmeans_model.clusterCenters()\n",
    "cluster_features_list = [center.tolist() for center in cluster_centers]\n",
    "\n",
    "# Create DataFrame with the cluster centers\n",
    "cluster_features = spark.createDataFrame(cluster_features_list, schema=features_cols)\n",
    "cluster_features.show()\n",
    "\n",
    "\"\"\"You can see the cluster features df:\n",
    "1. with high valence, energy, and danceability -> maybe \"Happy\"\n",
    "2. with low valence, energy, danceability but high acouticness -> maybe \"Sad\"\n",
    "3. Remaining features -> will be \"Neutral\" \"\"\""
   ]
  },
  {
   "cell_type": "code",
   "execution_count": null,
   "metadata": {},
   "outputs": [],
   "source": [
    "from pyspark.sql.functions import when\n",
    "\n",
    "# Predict mood clusters\n",
    "predictions_mood = kmeans_model.transform(features_df)\n",
    "\n",
    "# Map mood labels\n",
    "mood_labels = {0: \"Sad\", 1: \"Happy\", 2: \"Neutral\"}\n",
    "predictions_mood = predictions_mood.withColumn(\n",
    "    \"mood\",\n",
    "    when(col(\"mood_score\") == 0, \"Sad\")\n",
    "    .when(col(\"mood_score\") == 1, \"Happy\")\n",
    "    .when(col(\"mood_score\") == 2, \"Neutral\")\n",
    ")\n",
    "\n",
    "# Apply PCA to reduce dimensions to 2 components\n",
    "pca = PCA(k = 2, inputCol = \"features\", outputCol = \"pca_features\")\n",
    "pca_model = pca.fit(predictions_mood)\n",
    "predictions_pca = pca_model.transform(predictions_mood)\n",
    "\n",
    "# Extract PCA components for plotting\n",
    "def extract_pca_components(pca_col):\n",
    "    if pca_col and len(pca_col) == 2:\n",
    "        return [float(pca_col[0]), float(pca_col[1])]\n",
    "    return [float(0), float(0)]  # Default values in case of issues\n",
    "\n",
    "extract_pca = udf(extract_pca_components, ArrayType(FloatType()))\n",
    "predictions_pca = predictions_pca.withColumn(\"pca_components\", extract_pca(col(\"pca_features\")))\n",
    "\n",
    "# Split PCA components into separate columns\n",
    "predictions_pca = predictions_pca.withColumn(\"PCA1\", col(\"pca_components\")[0])\n",
    "predictions_pca = predictions_pca.withColumn(\"PCA2\", col(\"pca_components\")[1])\n",
    "\n",
    "# Take a radom 1% sample of the data \n",
    "sample_df = predictions_pca.sample(withReplacement = False, fraction = 0.01, seed = 42)\n",
    "\n",
    "# Convert the sampled DataFrame to pandas for plotting \n",
    "sample_converted_df = sample_df.select(\"PCA1\", \"PCA2\", \"mood\").toPandas()\n",
    "\n",
    "# Scatter plot for PCA components with mood labels\n",
    "sns.scatterplot(data = sample_converted_df, x = \"PCA1\", y= \"PCA2\", hue = \"mood\", palette= \"Set2\", s= 50)\n",
    "plt.title(\"Mood clustering based on PCA of features (1% sample)\")\n",
    "plt.xlabel(\"PCA Component 1\")\n",
    "plt.ylabel(\"PCA component 2\")\n",
    "plt.legend(title = \"Mood\")\n",
    "plt.show()"
   ]
  },
  {
   "cell_type": "code",
   "execution_count": null,
   "metadata": {},
   "outputs": [],
   "source": [
    "predictions_pca.cache()"
   ]
  },
  {
   "cell_type": "code",
   "execution_count": null,
   "metadata": {},
   "outputs": [],
   "source": [
    "predictions_pca.filter(predictions_pca['artist_name'] == 'Mr.Siro').select('artist_name', 'name', 'mood_score', 'mood').show(truncate = False)"
   ]
  },
  {
   "cell_type": "code",
   "execution_count": null,
   "metadata": {},
   "outputs": [],
   "source": [
    "final_df_mood_genre = predictions_pca\n",
    "\n",
    "# Return followers and popularity to original values\n",
    "followers_mean = tracks_cleaned_mood.select(mean(col(\"followers\"))).first()[0]\n",
    "followers_std = tracks_cleaned_mood.select(stddev(col(\"followers\"))).first()[0]\n",
    "\n",
    "popularity_mean = tracks_cleaned_mood.select(mean(col(\"popularity\"))).first()[0]\n",
    "popularity_std = tracks_cleaned_mood.select(stddev(col(\"popularity\"))).first()[0]\n",
    "\n",
    "final_df_mood_genre = final_df_mood_genre.withColumn('followers',  (final_df_mood_genre['followers'] * followers_std) + followers_mean)\n",
    "final_df_mood_genre = final_df_mood_genre.withColumn('popularity', (final_df_mood_genre['popularity'] * popularity_std) + popularity_mean)\n",
    "\n",
    "final_df_mood_genre.show(5)"
   ]
  },
  {
   "cell_type": "markdown",
   "metadata": {},
   "source": [
    "3. Build recommendation songs by mood and genre"
   ]
  },
  {
   "cell_type": "code",
   "execution_count": null,
   "metadata": {},
   "outputs": [],
   "source": [
    "from pyspark.sql.functions import lower, array_contains, lit\n",
    "\n",
    "def recommend_songs_by_mood_genre(df, mood, genre, num_recommend = 5):\n",
    "    # Filter dataFrame by mood and genre\n",
    "    filtered_tracks = df.filter(\n",
    "        (col(\"mood\") == lit(mood)) & (lower(col(\"genres\")).contains(genre.lower()))\n",
    "    )\n",
    "    \n",
    "    if filtered_tracks.count() == 0:\n",
    "        print(f\"No tracks found with mood {mood} and genre {genre}. Here are some other suggestions:\")\n",
    "        # If no tracks match both mood and genre, recommend random songs from the same mood\n",
    "        # But if no tracks match with mood, recommend random songs from the same genre\n",
    "        mood_tracks = df.filter(col(\"mood\") == lit(mood))\n",
    "        genre_tracks = df.filter(lower(col(\"genres\")).contains(genre.lower()))\n",
    "        \n",
    "        if mood_tracks.count() == 0:\n",
    "            print(f\"No tracks found with mood. Showing random suggestions by genre {genre}:\")\n",
    "            genre_recommendations = genre_tracks.orderBy(col(\"popularity\").desc(), col(\"followers\").desc()).limit(num_recommend)\n",
    "            genre_recommendations.select(\"artist_name\", \"name\", \"genres\", \"mood\", \"popularity\", \"link_image\", \"url\").show(truncate = False)\n",
    "        else:\n",
    "            print(f\"No tracks found with genre. Showing random suggesstions by mood {mood}:\")\n",
    "            mood_recommendations = mood_tracks.orderBy(col(\"popularity\").desc(), col(\"followers\").desc()).limit(num_recommend)\n",
    "            mood_recommendations.select(\"artist_name\", \"name\", \"genres\", \"mood\", \"popularity\", \"link_image\", \"url\").show(truncate = False)\n",
    "        return\n",
    "\n",
    "    recommendations = filtered_tracks.orderBy(col(\"popularity\").desc(), col(\"followers\").desc()).limit(num_recommend)\n",
    "    \n",
    "    print(f\"Recommendations songs with mood {mood} and genre {genre}:\")\n",
    "    recommendations.select(\"artist_name\", \"name\", \"genres\", \"mood\", \"popularity\", \"link_image\", \"url\").distinct().show(truncate = False)"
   ]
  },
  {
   "cell_type": "code",
   "execution_count": null,
   "metadata": {},
   "outputs": [],
   "source": [
    "recommend_songs_by_mood_genre(final_df_mood_genre, \"Happy\", \"pop\", 5)"
   ]
  },
  {
   "cell_type": "code",
   "execution_count": null,
   "metadata": {},
   "outputs": [],
   "source": [
    "recommend_songs_by_mood_genre(final_df_mood_genre, \"Sad\", \"indie\", 5)"
   ]
  },
  {
   "cell_type": "code",
   "execution_count": null,
   "metadata": {},
   "outputs": [],
   "source": [
    "recommend_songs_by_mood_genre(final_df_mood_genre, \"Neutral\", \"modern\", 5)"
   ]
  }
 ],
 "metadata": {
  "kernelspec": {
   "display_name": "Python 3 (ipykernel)",
   "language": "python",
   "name": "python3"
  },
  "language_info": {
   "codemirror_mode": {
    "name": "ipython",
    "version": 3
   },
   "file_extension": ".py",
   "mimetype": "text/x-python",
   "name": "python",
   "nbconvert_exporter": "python",
   "pygments_lexer": "ipython3",
   "version": "3.11.6"
  }
 },
 "nbformat": 4,
 "nbformat_minor": 2
}
